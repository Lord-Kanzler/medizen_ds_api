{
 "nbformat": 4,
 "nbformat_minor": 2,
 "metadata": {
  "language_info": {
   "name": "python",
   "codemirror_mode": {
    "name": "ipython",
    "version": 3
   },
   "version": "3.7.4"
  },
  "orig_nbformat": 2,
  "file_extension": ".py",
  "mimetype": "text/x-python",
  "name": "python",
  "npconvert_exporter": "python",
  "pygments_lexer": "ipython3",
  "version": 3
 },
 "cells": [
  {
   "cell_type": "markdown",
   "execution_count": null,
   "metadata": {},
   "outputs": [],
   "source": [
    "# MediZen Strain Recommendation API Model\n",
    "\n",
    "## Version 1.1 - 2019-11-19"
   ]
  },
  {
   "cell_type": "markdown",
   "execution_count": null,
   "metadata": {},
   "outputs": [],
   "source": [
    "---\n",
    "\n",
    "## Imports and Config"
   ]
  },
  {
   "cell_type": "code",
   "execution_count": 1,
   "metadata": {},
   "outputs": [],
   "source": [
    "# General imports\n",
    "import pandas as pd\n",
    "import janitor\n",
    "import os"
   ]
  },
  {
   "cell_type": "code",
   "execution_count": 2,
   "metadata": {},
   "outputs": [],
   "source": [
    "# NLP Imports\n",
    "from sklearn.feature_extraction.text import TfidfVectorizer\n",
    "from sklearn.neighbors import NearestNeighbors"
   ]
  },
  {
   "cell_type": "code",
   "execution_count": 3,
   "metadata": {},
   "outputs": [],
   "source": [
    "# Configure pandas to display entire text of column\n",
    "pd.set_option('max_colwidth', 200)\n",
    "pd.set_option('max_columns', 200)  # Display up to 200 columns"
   ]
  },
  {
   "cell_type": "markdown",
   "execution_count": null,
   "metadata": {},
   "outputs": [],
   "source": [
    "---\n",
    "\n",
    "## Data Loading and First Looks"
   ]
  },
  {
   "cell_type": "code",
   "execution_count": 4,
   "metadata": {},
   "outputs": [],
   "source": [
    "# Load the data into pd.DataFrame\n",
    "filepath = \"/Users/Tobias/workshop/buildbox/medizen_ds_api/data/\"\n",
    "data_filename = \"cannabis.csv\"\n",
    "data_filepath = os.path.join(filepath, data_filename)\n",
    "\n",
    "df1 = pd.read_csv(data_filepath)"
   ]
  },
  {
   "cell_type": "code",
   "execution_count": 5,
   "metadata": {},
   "outputs": [
    {
     "data": {
      "text/html": "<div>\n<style scoped>\n    .dataframe tbody tr th:only-of-type {\n        vertical-align: middle;\n    }\n\n    .dataframe tbody tr th {\n        vertical-align: top;\n    }\n\n    .dataframe thead th {\n        text-align: right;\n    }\n</style>\n<table border=\"1\" class=\"dataframe\">\n  <thead>\n    <tr style=\"text-align: right;\">\n      <th></th>\n      <th>Strain</th>\n      <th>Type</th>\n      <th>Rating</th>\n      <th>Effects</th>\n      <th>Flavor</th>\n      <th>Description</th>\n    </tr>\n  </thead>\n  <tbody>\n    <tr>\n      <th>0</th>\n      <td>100-Og</td>\n      <td>hybrid</td>\n      <td>4.0</td>\n      <td>Creative,Energetic,Tingly,Euphoric,Relaxed</td>\n      <td>Earthy,Sweet,Citrus</td>\n      <td>$100 OG is a 50/50 hybrid strain that packs a strong punch. The name supposedly refers to both its strength and high price when it first started showing up in Hollywood. As a plant, $100 OG tends ...</td>\n    </tr>\n    <tr>\n      <th>1</th>\n      <td>98-White-Widow</td>\n      <td>hybrid</td>\n      <td>4.7</td>\n      <td>Relaxed,Aroused,Creative,Happy,Energetic</td>\n      <td>Flowery,Violet,Diesel</td>\n      <td>The ‘98 Aloha White Widow is an especially potent cut of White Widow that has grown in renown alongside Hawaiian legends like Maui Wowie and Kona Gold. This White Widow phenotype reeks of diesel a...</td>\n    </tr>\n    <tr>\n      <th>2</th>\n      <td>1024</td>\n      <td>sativa</td>\n      <td>4.4</td>\n      <td>Uplifted,Happy,Relaxed,Energetic,Creative</td>\n      <td>Spicy/Herbal,Sage,Woody</td>\n      <td>1024 is a sativa-dominant hybrid bred in Spain by Medical Seeds Co. The breeders claim to guard the secret genetics due to security reasons, but regardless of its genetic heritage, 1024 is a THC p...</td>\n    </tr>\n    <tr>\n      <th>3</th>\n      <td>13-Dawgs</td>\n      <td>hybrid</td>\n      <td>4.2</td>\n      <td>Tingly,Creative,Hungry,Relaxed,Uplifted</td>\n      <td>Apricot,Citrus,Grapefruit</td>\n      <td>13 Dawgs is a hybrid of G13 and Chemdawg genetics bred by Canadian LP Delta 9 BioTech. The two potent strains mix to create a balance between indica and sativa effects. 13 Dawgs has a sweet earthy...</td>\n    </tr>\n    <tr>\n      <th>4</th>\n      <td>24K-Gold</td>\n      <td>hybrid</td>\n      <td>4.6</td>\n      <td>Happy,Relaxed,Euphoric,Uplifted,Talkative</td>\n      <td>Citrus,Earthy,Orange</td>\n      <td>Also known as Kosher Tangie, 24k Gold is a 60% indica-dominant hybrid that combines the legendary LA strain Kosher Kush with champion sativa Tangie to create something quite unique. Growing tall i...</td>\n    </tr>\n  </tbody>\n</table>\n</div>",
      "text/plain": "           Strain    Type  Rating                                     Effects  \\\n0          100-Og  hybrid     4.0  Creative,Energetic,Tingly,Euphoric,Relaxed   \n1  98-White-Widow  hybrid     4.7    Relaxed,Aroused,Creative,Happy,Energetic   \n2            1024  sativa     4.4   Uplifted,Happy,Relaxed,Energetic,Creative   \n3        13-Dawgs  hybrid     4.2     Tingly,Creative,Hungry,Relaxed,Uplifted   \n4        24K-Gold  hybrid     4.6   Happy,Relaxed,Euphoric,Uplifted,Talkative   \n\n                      Flavor  \\\n0        Earthy,Sweet,Citrus   \n1      Flowery,Violet,Diesel   \n2    Spicy/Herbal,Sage,Woody   \n3  Apricot,Citrus,Grapefruit   \n4       Citrus,Earthy,Orange   \n\n                                                                                                                                                                                               Description  \n0  $100 OG is a 50/50 hybrid strain that packs a strong punch. The name supposedly refers to both its strength and high price when it first started showing up in Hollywood. As a plant, $100 OG tends ...  \n1  The ‘98 Aloha White Widow is an especially potent cut of White Widow that has grown in renown alongside Hawaiian legends like Maui Wowie and Kona Gold. This White Widow phenotype reeks of diesel a...  \n2  1024 is a sativa-dominant hybrid bred in Spain by Medical Seeds Co. The breeders claim to guard the secret genetics due to security reasons, but regardless of its genetic heritage, 1024 is a THC p...  \n3  13 Dawgs is a hybrid of G13 and Chemdawg genetics bred by Canadian LP Delta 9 BioTech. The two potent strains mix to create a balance between indica and sativa effects. 13 Dawgs has a sweet earthy...  \n4  Also known as Kosher Tangie, 24k Gold is a 60% indica-dominant hybrid that combines the legendary LA strain Kosher Kush with champion sativa Tangie to create something quite unique. Growing tall i...  "
     },
     "execution_count": 5,
     "metadata": {},
     "output_type": "execute_result"
    }
   ],
   "source": [
    "df1.head()"
   ]
  },
  {
   "cell_type": "markdown",
   "execution_count": null,
   "metadata": {},
   "outputs": [],
   "source": [
    "---\n",
    "\n",
    "## Data Wrangling and Feature Engineering\n",
    "\n",
    "The end result that should be passed into the model is a single long string.  \n",
    "Therefore, the new feature will simply be a concatenation of all three current features:\n",
    "\n",
    "- `type`\n",
    "- `effects`\n",
    "- `flavor`\n",
    "\n",
    "The cell below uses [pyjanitor](pyjanitor.readthedocs.io/) method-chaining to:\n",
    "\n",
    "1. Clean up the feature names, which in this case only makes them lowercase\n",
    "2. Concatenate the three features into one one, comma-separated feature\n",
    "3. Remove all of the features except the new one"
   ]
  },
  {
   "cell_type": "code",
   "execution_count": 6,
   "metadata": {},
   "outputs": [],
   "source": [
    "# User pyjanitor to wrangle the data\n",
    "\n",
    "df2 = (df1\n",
    "        .clean_names()  # In this case, fixes Title Case\n",
    "        .concatenate_columns(\n",
    "            # Explanation above - create one feature for NLP analysis\n",
    "            column_names=[\"type\", \"effects\", \"flavor\"],\n",
    "            new_column_name=\"type_effects_flavor\",\n",
    "            sep=\",\",  # Staying consistent with comma-separation\n",
    "        )\n",
    "        .remove_columns(column_names=[\n",
    "            \"rating\",\n",
    "            \"description\",\n",
    "            \"type\",\n",
    "            \"effects\",\n",
    "            \"flavor\",\n",
    "        ]))"
   ]
  },
  {
   "cell_type": "code",
   "execution_count": 7,
   "metadata": {},
   "outputs": [
    {
     "name": "stdout",
     "output_type": "stream",
     "text": "(2351, 2)\n"
    },
    {
     "data": {
      "text/html": "<div>\n<style scoped>\n    .dataframe tbody tr th:only-of-type {\n        vertical-align: middle;\n    }\n\n    .dataframe tbody tr th {\n        vertical-align: top;\n    }\n\n    .dataframe thead th {\n        text-align: right;\n    }\n</style>\n<table border=\"1\" class=\"dataframe\">\n  <thead>\n    <tr style=\"text-align: right;\">\n      <th></th>\n      <th>strain</th>\n      <th>type_effects_flavor</th>\n    </tr>\n  </thead>\n  <tbody>\n    <tr>\n      <th>0</th>\n      <td>100-Og</td>\n      <td>hybrid,Creative,Energetic,Tingly,Euphoric,Relaxed,Earthy,Sweet,Citrus</td>\n    </tr>\n    <tr>\n      <th>1</th>\n      <td>98-White-Widow</td>\n      <td>hybrid,Relaxed,Aroused,Creative,Happy,Energetic,Flowery,Violet,Diesel</td>\n    </tr>\n    <tr>\n      <th>2</th>\n      <td>1024</td>\n      <td>sativa,Uplifted,Happy,Relaxed,Energetic,Creative,Spicy/Herbal,Sage,Woody</td>\n    </tr>\n    <tr>\n      <th>3</th>\n      <td>13-Dawgs</td>\n      <td>hybrid,Tingly,Creative,Hungry,Relaxed,Uplifted,Apricot,Citrus,Grapefruit</td>\n    </tr>\n    <tr>\n      <th>4</th>\n      <td>24K-Gold</td>\n      <td>hybrid,Happy,Relaxed,Euphoric,Uplifted,Talkative,Citrus,Earthy,Orange</td>\n    </tr>\n  </tbody>\n</table>\n</div>",
      "text/plain": "           strain  \\\n0          100-Og   \n1  98-White-Widow   \n2            1024   \n3        13-Dawgs   \n4        24K-Gold   \n\n                                                        type_effects_flavor  \n0     hybrid,Creative,Energetic,Tingly,Euphoric,Relaxed,Earthy,Sweet,Citrus  \n1     hybrid,Relaxed,Aroused,Creative,Happy,Energetic,Flowery,Violet,Diesel  \n2  sativa,Uplifted,Happy,Relaxed,Energetic,Creative,Spicy/Herbal,Sage,Woody  \n3  hybrid,Tingly,Creative,Hungry,Relaxed,Uplifted,Apricot,Citrus,Grapefruit  \n4     hybrid,Happy,Relaxed,Euphoric,Uplifted,Talkative,Citrus,Earthy,Orange  "
     },
     "execution_count": 7,
     "metadata": {},
     "output_type": "execute_result"
    }
   ],
   "source": [
    "# Look at the resulting dataframe\n",
    "print(df2.shape)\n",
    "df2.head()"
   ]
  },
  {
   "cell_type": "code",
   "execution_count": 8,
   "metadata": {},
   "outputs": [
    {
     "data": {
      "text/plain": "strain                 0\ntype_effects_flavor    0\ndtype: int64"
     },
     "execution_count": 8,
     "metadata": {},
     "output_type": "execute_result"
    }
   ],
   "source": [
    "# Look at null values - hint: there shouldn't be any\n",
    "# because they all have values in at least one of the three columns\n",
    "df2.isnull().sum()"
   ]
  },
  {
   "cell_type": "markdown",
   "execution_count": null,
   "metadata": {},
   "outputs": [],
   "source": [
    "---\n",
    "\n",
    "## TF-IDF\n",
    "\n",
    "TF-IDF is a method of finding unique aspects of documents (strings).  \n",
    "The more common a word is across the documents the lower the score.  \n",
    "The result is the unique topics rising to the top. (They are called _top_-ics, after all)..."
   ]
  },
  {
   "cell_type": "code",
   "execution_count": 10,
   "metadata": {},
   "outputs": [
    {
     "data": {
      "text/html": "<div>\n<style scoped>\n    .dataframe tbody tr th:only-of-type {\n        vertical-align: middle;\n    }\n\n    .dataframe tbody tr th {\n        vertical-align: top;\n    }\n\n    .dataframe thead th {\n        text-align: right;\n    }\n</style>\n<table border=\"1\" class=\"dataframe\">\n  <thead>\n    <tr style=\"text-align: right;\">\n      <th></th>\n      <th>ammonia</th>\n      <th>apple</th>\n      <th>apricot</th>\n      <th>aroused</th>\n      <th>berry</th>\n      <th>blue</th>\n      <th>blueberry</th>\n      <th>butter</th>\n      <th>cheese</th>\n      <th>chemical</th>\n      <th>chestnut</th>\n      <th>citrus</th>\n      <th>coffee</th>\n      <th>creative</th>\n      <th>diesel</th>\n      <th>dry</th>\n      <th>earthy</th>\n      <th>energetic</th>\n      <th>euphoric</th>\n      <th>flowery</th>\n      <th>focused</th>\n      <th>fruit</th>\n      <th>giggly</th>\n      <th>grape</th>\n      <th>grapefruit</th>\n      <th>happy</th>\n      <th>herbal</th>\n      <th>honey</th>\n      <th>hungry</th>\n      <th>hybrid</th>\n      <th>indica</th>\n      <th>lavender</th>\n      <th>lemon</th>\n      <th>lime</th>\n      <th>mango</th>\n      <th>menthol</th>\n      <th>mint</th>\n      <th>minty</th>\n      <th>mouth</th>\n      <th>nan</th>\n      <th>nutty</th>\n      <th>orange</th>\n      <th>peach</th>\n      <th>pear</th>\n      <th>pepper</th>\n      <th>pine</th>\n      <th>pineapple</th>\n      <th>plum</th>\n      <th>pungent</th>\n      <th>relaxed</th>\n      <th>rose</th>\n      <th>sage</th>\n      <th>sativa</th>\n      <th>skunk</th>\n      <th>sleepy</th>\n      <th>spicy</th>\n      <th>strawberry</th>\n      <th>sweet</th>\n      <th>talkative</th>\n      <th>tar</th>\n      <th>tea</th>\n      <th>tingly</th>\n      <th>tobacco</th>\n      <th>tree</th>\n      <th>tropical</th>\n      <th>uplifted</th>\n      <th>vanilla</th>\n      <th>violet</th>\n      <th>woody</th>\n    </tr>\n  </thead>\n  <tbody>\n    <tr>\n      <th>0</th>\n      <td>0.0</td>\n      <td>0.0</td>\n      <td>0.000000</td>\n      <td>0.00000</td>\n      <td>0.0</td>\n      <td>0.0</td>\n      <td>0.0</td>\n      <td>0.0</td>\n      <td>0.0</td>\n      <td>0.0</td>\n      <td>0.0</td>\n      <td>0.408775</td>\n      <td>0.0</td>\n      <td>0.351685</td>\n      <td>0.000000</td>\n      <td>0.0</td>\n      <td>0.287580</td>\n      <td>0.375460</td>\n      <td>0.223409</td>\n      <td>0.000000</td>\n      <td>0.0</td>\n      <td>0.0</td>\n      <td>0.0</td>\n      <td>0.0</td>\n      <td>0.000000</td>\n      <td>0.000000</td>\n      <td>0.000000</td>\n      <td>0.0</td>\n      <td>0.000000</td>\n      <td>0.272443</td>\n      <td>0.0</td>\n      <td>0.0</td>\n      <td>0.0</td>\n      <td>0.0</td>\n      <td>0.0</td>\n      <td>0.0</td>\n      <td>0.0</td>\n      <td>0.0</td>\n      <td>0.0</td>\n      <td>0.0</td>\n      <td>0.0</td>\n      <td>0.00000</td>\n      <td>0.0</td>\n      <td>0.0</td>\n      <td>0.0</td>\n      <td>0.0</td>\n      <td>0.0</td>\n      <td>0.0</td>\n      <td>0.0</td>\n      <td>0.214536</td>\n      <td>0.0</td>\n      <td>0.000000</td>\n      <td>0.000000</td>\n      <td>0.0</td>\n      <td>0.0</td>\n      <td>0.000000</td>\n      <td>0.0</td>\n      <td>0.295473</td>\n      <td>0.000000</td>\n      <td>0.0</td>\n      <td>0.0</td>\n      <td>0.477579</td>\n      <td>0.0</td>\n      <td>0.0</td>\n      <td>0.0</td>\n      <td>0.000000</td>\n      <td>0.0</td>\n      <td>0.000000</td>\n      <td>0.000000</td>\n    </tr>\n    <tr>\n      <th>1</th>\n      <td>0.0</td>\n      <td>0.0</td>\n      <td>0.000000</td>\n      <td>0.35866</td>\n      <td>0.0</td>\n      <td>0.0</td>\n      <td>0.0</td>\n      <td>0.0</td>\n      <td>0.0</td>\n      <td>0.0</td>\n      <td>0.0</td>\n      <td>0.000000</td>\n      <td>0.0</td>\n      <td>0.222110</td>\n      <td>0.339356</td>\n      <td>0.0</td>\n      <td>0.000000</td>\n      <td>0.237126</td>\n      <td>0.000000</td>\n      <td>0.328363</td>\n      <td>0.0</td>\n      <td>0.0</td>\n      <td>0.0</td>\n      <td>0.0</td>\n      <td>0.000000</td>\n      <td>0.127147</td>\n      <td>0.000000</td>\n      <td>0.0</td>\n      <td>0.000000</td>\n      <td>0.172065</td>\n      <td>0.0</td>\n      <td>0.0</td>\n      <td>0.0</td>\n      <td>0.0</td>\n      <td>0.0</td>\n      <td>0.0</td>\n      <td>0.0</td>\n      <td>0.0</td>\n      <td>0.0</td>\n      <td>0.0</td>\n      <td>0.0</td>\n      <td>0.00000</td>\n      <td>0.0</td>\n      <td>0.0</td>\n      <td>0.0</td>\n      <td>0.0</td>\n      <td>0.0</td>\n      <td>0.0</td>\n      <td>0.0</td>\n      <td>0.135493</td>\n      <td>0.0</td>\n      <td>0.000000</td>\n      <td>0.000000</td>\n      <td>0.0</td>\n      <td>0.0</td>\n      <td>0.000000</td>\n      <td>0.0</td>\n      <td>0.000000</td>\n      <td>0.000000</td>\n      <td>0.0</td>\n      <td>0.0</td>\n      <td>0.000000</td>\n      <td>0.0</td>\n      <td>0.0</td>\n      <td>0.0</td>\n      <td>0.000000</td>\n      <td>0.0</td>\n      <td>0.691871</td>\n      <td>0.000000</td>\n    </tr>\n    <tr>\n      <th>2</th>\n      <td>0.0</td>\n      <td>0.0</td>\n      <td>0.000000</td>\n      <td>0.00000</td>\n      <td>0.0</td>\n      <td>0.0</td>\n      <td>0.0</td>\n      <td>0.0</td>\n      <td>0.0</td>\n      <td>0.0</td>\n      <td>0.0</td>\n      <td>0.000000</td>\n      <td>0.0</td>\n      <td>0.238850</td>\n      <td>0.000000</td>\n      <td>0.0</td>\n      <td>0.000000</td>\n      <td>0.254998</td>\n      <td>0.000000</td>\n      <td>0.000000</td>\n      <td>0.0</td>\n      <td>0.0</td>\n      <td>0.0</td>\n      <td>0.0</td>\n      <td>0.000000</td>\n      <td>0.136730</td>\n      <td>0.371594</td>\n      <td>0.0</td>\n      <td>0.000000</td>\n      <td>0.000000</td>\n      <td>0.0</td>\n      <td>0.0</td>\n      <td>0.0</td>\n      <td>0.0</td>\n      <td>0.0</td>\n      <td>0.0</td>\n      <td>0.0</td>\n      <td>0.0</td>\n      <td>0.0</td>\n      <td>0.0</td>\n      <td>0.0</td>\n      <td>0.00000</td>\n      <td>0.0</td>\n      <td>0.0</td>\n      <td>0.0</td>\n      <td>0.0</td>\n      <td>0.0</td>\n      <td>0.0</td>\n      <td>0.0</td>\n      <td>0.145705</td>\n      <td>0.0</td>\n      <td>0.564854</td>\n      <td>0.297667</td>\n      <td>0.0</td>\n      <td>0.0</td>\n      <td>0.371594</td>\n      <td>0.0</td>\n      <td>0.000000</td>\n      <td>0.000000</td>\n      <td>0.0</td>\n      <td>0.0</td>\n      <td>0.000000</td>\n      <td>0.0</td>\n      <td>0.0</td>\n      <td>0.0</td>\n      <td>0.160800</td>\n      <td>0.0</td>\n      <td>0.000000</td>\n      <td>0.358211</td>\n    </tr>\n    <tr>\n      <th>3</th>\n      <td>0.0</td>\n      <td>0.0</td>\n      <td>0.645008</td>\n      <td>0.00000</td>\n      <td>0.0</td>\n      <td>0.0</td>\n      <td>0.0</td>\n      <td>0.0</td>\n      <td>0.0</td>\n      <td>0.0</td>\n      <td>0.0</td>\n      <td>0.248993</td>\n      <td>0.0</td>\n      <td>0.214218</td>\n      <td>0.000000</td>\n      <td>0.0</td>\n      <td>0.000000</td>\n      <td>0.000000</td>\n      <td>0.000000</td>\n      <td>0.000000</td>\n      <td>0.0</td>\n      <td>0.0</td>\n      <td>0.0</td>\n      <td>0.0</td>\n      <td>0.509129</td>\n      <td>0.000000</td>\n      <td>0.000000</td>\n      <td>0.0</td>\n      <td>0.258509</td>\n      <td>0.165951</td>\n      <td>0.0</td>\n      <td>0.0</td>\n      <td>0.0</td>\n      <td>0.0</td>\n      <td>0.0</td>\n      <td>0.0</td>\n      <td>0.0</td>\n      <td>0.0</td>\n      <td>0.0</td>\n      <td>0.0</td>\n      <td>0.0</td>\n      <td>0.00000</td>\n      <td>0.0</td>\n      <td>0.0</td>\n      <td>0.0</td>\n      <td>0.0</td>\n      <td>0.0</td>\n      <td>0.0</td>\n      <td>0.0</td>\n      <td>0.130678</td>\n      <td>0.0</td>\n      <td>0.000000</td>\n      <td>0.000000</td>\n      <td>0.0</td>\n      <td>0.0</td>\n      <td>0.000000</td>\n      <td>0.0</td>\n      <td>0.000000</td>\n      <td>0.000000</td>\n      <td>0.0</td>\n      <td>0.0</td>\n      <td>0.290903</td>\n      <td>0.0</td>\n      <td>0.0</td>\n      <td>0.0</td>\n      <td>0.144217</td>\n      <td>0.0</td>\n      <td>0.000000</td>\n      <td>0.000000</td>\n    </tr>\n    <tr>\n      <th>4</th>\n      <td>0.0</td>\n      <td>0.0</td>\n      <td>0.000000</td>\n      <td>0.00000</td>\n      <td>0.0</td>\n      <td>0.0</td>\n      <td>0.0</td>\n      <td>0.0</td>\n      <td>0.0</td>\n      <td>0.0</td>\n      <td>0.0</td>\n      <td>0.364152</td>\n      <td>0.0</td>\n      <td>0.000000</td>\n      <td>0.000000</td>\n      <td>0.0</td>\n      <td>0.256186</td>\n      <td>0.000000</td>\n      <td>0.199021</td>\n      <td>0.000000</td>\n      <td>0.0</td>\n      <td>0.0</td>\n      <td>0.0</td>\n      <td>0.0</td>\n      <td>0.000000</td>\n      <td>0.179345</td>\n      <td>0.000000</td>\n      <td>0.0</td>\n      <td>0.000000</td>\n      <td>0.242702</td>\n      <td>0.0</td>\n      <td>0.0</td>\n      <td>0.0</td>\n      <td>0.0</td>\n      <td>0.0</td>\n      <td>0.0</td>\n      <td>0.0</td>\n      <td>0.0</td>\n      <td>0.0</td>\n      <td>0.0</td>\n      <td>0.0</td>\n      <td>0.64339</td>\n      <td>0.0</td>\n      <td>0.0</td>\n      <td>0.0</td>\n      <td>0.0</td>\n      <td>0.0</td>\n      <td>0.0</td>\n      <td>0.0</td>\n      <td>0.191117</td>\n      <td>0.0</td>\n      <td>0.000000</td>\n      <td>0.000000</td>\n      <td>0.0</td>\n      <td>0.0</td>\n      <td>0.000000</td>\n      <td>0.0</td>\n      <td>0.000000</td>\n      <td>0.419669</td>\n      <td>0.0</td>\n      <td>0.0</td>\n      <td>0.000000</td>\n      <td>0.0</td>\n      <td>0.0</td>\n      <td>0.0</td>\n      <td>0.210917</td>\n      <td>0.0</td>\n      <td>0.000000</td>\n      <td>0.000000</td>\n    </tr>\n  </tbody>\n</table>\n</div>",
      "text/plain": "   ammonia  apple   apricot  aroused  berry  blue  blueberry  butter  cheese  \\\n0      0.0    0.0  0.000000  0.00000    0.0   0.0        0.0     0.0     0.0   \n1      0.0    0.0  0.000000  0.35866    0.0   0.0        0.0     0.0     0.0   \n2      0.0    0.0  0.000000  0.00000    0.0   0.0        0.0     0.0     0.0   \n3      0.0    0.0  0.645008  0.00000    0.0   0.0        0.0     0.0     0.0   \n4      0.0    0.0  0.000000  0.00000    0.0   0.0        0.0     0.0     0.0   \n\n   chemical  chestnut    citrus  coffee  creative    diesel  dry    earthy  \\\n0       0.0       0.0  0.408775     0.0  0.351685  0.000000  0.0  0.287580   \n1       0.0       0.0  0.000000     0.0  0.222110  0.339356  0.0  0.000000   \n2       0.0       0.0  0.000000     0.0  0.238850  0.000000  0.0  0.000000   \n3       0.0       0.0  0.248993     0.0  0.214218  0.000000  0.0  0.000000   \n4       0.0       0.0  0.364152     0.0  0.000000  0.000000  0.0  0.256186   \n\n   energetic  euphoric   flowery  focused  fruit  giggly  grape  grapefruit  \\\n0   0.375460  0.223409  0.000000      0.0    0.0     0.0    0.0    0.000000   \n1   0.237126  0.000000  0.328363      0.0    0.0     0.0    0.0    0.000000   \n2   0.254998  0.000000  0.000000      0.0    0.0     0.0    0.0    0.000000   \n3   0.000000  0.000000  0.000000      0.0    0.0     0.0    0.0    0.509129   \n4   0.000000  0.199021  0.000000      0.0    0.0     0.0    0.0    0.000000   \n\n      happy    herbal  honey    hungry    hybrid  indica  lavender  lemon  \\\n0  0.000000  0.000000    0.0  0.000000  0.272443     0.0       0.0    0.0   \n1  0.127147  0.000000    0.0  0.000000  0.172065     0.0       0.0    0.0   \n2  0.136730  0.371594    0.0  0.000000  0.000000     0.0       0.0    0.0   \n3  0.000000  0.000000    0.0  0.258509  0.165951     0.0       0.0    0.0   \n4  0.179345  0.000000    0.0  0.000000  0.242702     0.0       0.0    0.0   \n\n   lime  mango  menthol  mint  minty  mouth  nan  nutty   orange  peach  pear  \\\n0   0.0    0.0      0.0   0.0    0.0    0.0  0.0    0.0  0.00000    0.0   0.0   \n1   0.0    0.0      0.0   0.0    0.0    0.0  0.0    0.0  0.00000    0.0   0.0   \n2   0.0    0.0      0.0   0.0    0.0    0.0  0.0    0.0  0.00000    0.0   0.0   \n3   0.0    0.0      0.0   0.0    0.0    0.0  0.0    0.0  0.00000    0.0   0.0   \n4   0.0    0.0      0.0   0.0    0.0    0.0  0.0    0.0  0.64339    0.0   0.0   \n\n   pepper  pine  pineapple  plum  pungent   relaxed  rose      sage    sativa  \\\n0     0.0   0.0        0.0   0.0      0.0  0.214536   0.0  0.000000  0.000000   \n1     0.0   0.0        0.0   0.0      0.0  0.135493   0.0  0.000000  0.000000   \n2     0.0   0.0        0.0   0.0      0.0  0.145705   0.0  0.564854  0.297667   \n3     0.0   0.0        0.0   0.0      0.0  0.130678   0.0  0.000000  0.000000   \n4     0.0   0.0        0.0   0.0      0.0  0.191117   0.0  0.000000  0.000000   \n\n   skunk  sleepy     spicy  strawberry     sweet  talkative  tar  tea  \\\n0    0.0     0.0  0.000000         0.0  0.295473   0.000000  0.0  0.0   \n1    0.0     0.0  0.000000         0.0  0.000000   0.000000  0.0  0.0   \n2    0.0     0.0  0.371594         0.0  0.000000   0.000000  0.0  0.0   \n3    0.0     0.0  0.000000         0.0  0.000000   0.000000  0.0  0.0   \n4    0.0     0.0  0.000000         0.0  0.000000   0.419669  0.0  0.0   \n\n     tingly  tobacco  tree  tropical  uplifted  vanilla    violet     woody  \n0  0.477579      0.0   0.0       0.0  0.000000      0.0  0.000000  0.000000  \n1  0.000000      0.0   0.0       0.0  0.000000      0.0  0.691871  0.000000  \n2  0.000000      0.0   0.0       0.0  0.160800      0.0  0.000000  0.358211  \n3  0.290903      0.0   0.0       0.0  0.144217      0.0  0.000000  0.000000  \n4  0.000000      0.0   0.0       0.0  0.210917      0.0  0.000000  0.000000  "
     },
     "execution_count": 10,
     "metadata": {},
     "output_type": "execute_result"
    }
   ],
   "source": [
    "# Instantiate the vectorizer object\n",
    "tfidf = TfidfVectorizer(stop_words=\"english\")\n",
    "\n",
    "# Create a vocabulary from the new feature\n",
    "dtm = tfidf.fit_transform(df2[\"type_effects_flavor\"])\n",
    "\n",
    "# See the resulting feature matrix as a dataframe\n",
    "docs = pd.DataFrame(dtm.todense(), columns = tfidf.get_feature_names())\n",
    "docs.head()"
   ]
  },
  {
   "cell_type": "markdown",
   "execution_count": null,
   "metadata": {},
   "outputs": [],
   "source": [
    "## Get Similarities with Nearest Neighbor (K-NN)\n",
    "\n",
    "In order to get a list of strains that are similar to a given input string, \n",
    "the K-Nearest Neighbor model will be used. This model uses a tree-based approach \n",
    "to calculate the distances between points and recursively clusters them until \n",
    "to find the desired number (k) of neighboring data points."
   ]
  },
  {
   "cell_type": "code",
   "execution_count": 11,
   "metadata": {},
   "outputs": [
    {
     "data": {
      "text/plain": "NearestNeighbors(algorithm='ball_tree', leaf_size=30, metric='minkowski',\n                 metric_params=None, n_jobs=None, n_neighbors=10, p=2,\n                 radius=1.0)"
     },
     "execution_count": 11,
     "metadata": {},
     "output_type": "execute_result"
    }
   ],
   "source": [
    "# Instantiate the knn model\n",
    "nn = NearestNeighbors(n_neighbors=10, algorithm='ball_tree')\n",
    "\n",
    "# Fit (train) the model on the TF-IDF vectors created above\n",
    "nn.fit(dtm.todense())"
   ]
  },
  {
   "cell_type": "markdown",
   "execution_count": null,
   "metadata": {},
   "outputs": [],
   "source": [
    "### Running the KNN Model"
   ]
  },
  {
   "cell_type": "code",
   "execution_count": 12,
   "metadata": {},
   "outputs": [],
   "source": [
    "# Example string to demonstrate the model\n",
    "# This is a realistic example of what will be passed \n",
    "# into the model once it is integrated into the API\n",
    "ex_1_str = \"indica,happy,relaxed,hungry,talkative,citrus,tangy,flowery\""
   ]
  },
  {
   "cell_type": "code",
   "execution_count": 14,
   "metadata": {},
   "outputs": [],
   "source": [
    "# Create the input vector\n",
    "ex_1_vec = tfidf.transform([ex_1_str])"
   ]
  },
  {
   "cell_type": "code",
   "execution_count": 15,
   "metadata": {},
   "outputs": [
    {
     "data": {
      "text/plain": "(array([[0.67093641, 0.76730563, 0.77827539, 0.81093074, 0.81093074,\n         0.81189686, 0.81484009, 0.84178747, 0.84178747, 0.84178747]]),\n array([[ 983,  731, 1948, 2081,  241,  397, 1450, 2220,  971,  956]]))"
     },
     "execution_count": 15,
     "metadata": {},
     "output_type": "execute_result"
    }
   ],
   "source": [
    "# Pass that vector into the trained knn model, specifying the number of neighbors to return\n",
    "# This returns a list of two arrays: one is a measure of each neighbors 'near-ness'\n",
    "# the other (the one we want) contains the indexes for the neighbors \n",
    "rec_array = nn.kneighbors(ex_1_vec.todense(), n_neighbors=10)\n",
    "rec_array"
   ]
  },
  {
   "cell_type": "code",
   "execution_count": 16,
   "metadata": {},
   "outputs": [
    {
     "data": {
      "text/plain": "array([ 983,  731, 1948, 2081,  241,  397, 1450, 2220,  971,  956])"
     },
     "execution_count": 16,
     "metadata": {},
     "output_type": "execute_result"
    }
   ],
   "source": [
    "# Extract the second array - the list of strain ids (indexes) that are 'closest' to input\n",
    "rec_id_list = rec_array[1][0]\n",
    "rec_id_list"
   ]
  },
  {
   "cell_type": "code",
   "execution_count": 17,
   "metadata": {},
   "outputs": [
    {
     "data": {
      "text/html": "<div>\n<style scoped>\n    .dataframe tbody tr th:only-of-type {\n        vertical-align: middle;\n    }\n\n    .dataframe tbody tr th {\n        vertical-align: top;\n    }\n\n    .dataframe thead th {\n        text-align: right;\n    }\n</style>\n<table border=\"1\" class=\"dataframe\">\n  <thead>\n    <tr style=\"text-align: right;\">\n      <th></th>\n      <th>Strain</th>\n      <th>Type</th>\n      <th>Rating</th>\n      <th>Effects</th>\n      <th>Flavor</th>\n      <th>Description</th>\n    </tr>\n  </thead>\n  <tbody>\n    <tr>\n      <th>983</th>\n      <td>Haoma</td>\n      <td>indica</td>\n      <td>4.8</td>\n      <td>Relaxed,Happy,Sleepy,Hungry,Uplifted</td>\n      <td>Citrus,Flowery,Earthy</td>\n      <td>A cross between The Purps and Afghani, Haoma is a 70% indica strain with calming, stress-relieving effects. Haoma’s dense, compact buds have a fruity, floral aroma and melt away anxiety, pain, inf...</td>\n    </tr>\n    <tr>\n      <th>731</th>\n      <td>Early-Girl</td>\n      <td>indica</td>\n      <td>3.8</td>\n      <td>Relaxed,Happy,Hungry,Uplifted,Talkative</td>\n      <td>Citrus,Earthy,Pine</td>\n      <td>Early Girl is the wallflower of cannabis strains since its introduction in the 1980s. Lovingly preserved by the breeders at Sensi Seeds, this strain is lazy and relaxed, nothing over the top. A 75...</td>\n    </tr>\n    <tr>\n      <th>1948</th>\n      <td>Sour-Patch-Kiss</td>\n      <td>hybrid</td>\n      <td>4.7</td>\n      <td>Uplifted,Happy,Relaxed,Creative,Talkative</td>\n      <td>Citrus,Earthy,Flowery</td>\n      <td>Sour Patch Kiss by Elev8 Seeds was designed as a heavy-yielding trichome producer. This was achieved by crossing Kimbo Kush’s sweet, doughy aroma with Sour Kush’s pungent odor and generous product...</td>\n    </tr>\n    <tr>\n      <th>2081</th>\n      <td>Sweet-Kush</td>\n      <td>hybrid</td>\n      <td>4.4</td>\n      <td>Hungry,Happy,Relaxed,Euphoric,Sleepy</td>\n      <td>Citrus,Sweet,Flowery</td>\n      <td>Sweet Kush is the potent daughter of Sweet Tooth and OG Kush. Citrusy and sweet, Sweet Kush tastes just like a lemon drop candy. Combining the best of both cannabis types, this hybrid provides bot...</td>\n    </tr>\n    <tr>\n      <th>241</th>\n      <td>Black-Velvet</td>\n      <td>hybrid</td>\n      <td>3.9</td>\n      <td>Sleepy,Happy,Hungry,Relaxed,Euphoric</td>\n      <td>Sweet,Flowery,Citrus</td>\n      <td>This 50/50 hybrid strain is a cross of The Black and Burmese Kush that yields a potent flower with both cerebral and physical effects. The flower gets its density and purple-black hue from its Bla...</td>\n    </tr>\n    <tr>\n      <th>397</th>\n      <td>Bubblegum-Kush</td>\n      <td>indica</td>\n      <td>4.3</td>\n      <td>Relaxed,Happy,Sleepy,Uplifted,Talkative</td>\n      <td>Sweet,Earthy,Flowery</td>\n      <td>An 80% indica strain from Bulldog Seeds in the Netherlands, Bubblegum Kush is a cross between Bubble Gum and an undisclosed Kush. An easy-to-grow plant that produces huge yields of frosty, resinou...</td>\n    </tr>\n    <tr>\n      <th>1450</th>\n      <td>Negra-44</td>\n      <td>indica</td>\n      <td>5.0</td>\n      <td>Creative,Energetic,Relaxed,Hungry,Talkative</td>\n      <td>Sweet,Earthy,Citrus</td>\n      <td>Negra 44 is an indica-dominant strain bred by R-Kiem Seeds in Spain. This award-winning variety crosses a Top 44 indica with native Ghana landrace strains, and inherits an earthy, fruity aroma. In...</td>\n    </tr>\n    <tr>\n      <th>2220</th>\n      <td>Vader-Og</td>\n      <td>indica</td>\n      <td>4.5</td>\n      <td>Sleepy,Relaxed,Happy,Euphoric,Hungry</td>\n      <td>Earthy,Flowery,Sweet</td>\n      <td>Vader OG by Ocean Grown Seeds is the namesake strain of one of OGS’s master growers, Vader. This cross began in 2006 with the combination of SFV OG and Larry OG, and evolved over a laborious proce...</td>\n    </tr>\n    <tr>\n      <th>971</th>\n      <td>Gumbo</td>\n      <td>indica</td>\n      <td>4.6</td>\n      <td>Relaxed,Euphoric,Happy,Sleepy,Hungry</td>\n      <td>Earthy,Sweet,Flowery</td>\n      <td>Getting its name from the classic bubble gum flavor, Gumbo is a perfect medicine for the evenings and has a smooth taste and finish. Gumbo is great for treatment of muscle spasms, sleeplessness, h...</td>\n    </tr>\n    <tr>\n      <th>956</th>\n      <td>Green-Poison</td>\n      <td>indica</td>\n      <td>4.2</td>\n      <td>Relaxed,Happy,Euphoric,Sleepy,Hungry</td>\n      <td>Sweet,Flowery,Earthy</td>\n      <td>Green Poison is a dangerously flavorful indica cross championed by Sweet Seeds. It pulls you in with a fruity and floral aroma, then delivers a potent dose of euphoria and body-numbing relaxation....</td>\n    </tr>\n  </tbody>\n</table>\n</div>",
      "text/plain": "               Strain    Type  Rating  \\\n983             Haoma  indica     4.8   \n731        Early-Girl  indica     3.8   \n1948  Sour-Patch-Kiss  hybrid     4.7   \n2081       Sweet-Kush  hybrid     4.4   \n241      Black-Velvet  hybrid     3.9   \n397    Bubblegum-Kush  indica     4.3   \n1450         Negra-44  indica     5.0   \n2220         Vader-Og  indica     4.5   \n971             Gumbo  indica     4.6   \n956      Green-Poison  indica     4.2   \n\n                                          Effects                 Flavor  \\\n983          Relaxed,Happy,Sleepy,Hungry,Uplifted  Citrus,Flowery,Earthy   \n731       Relaxed,Happy,Hungry,Uplifted,Talkative     Citrus,Earthy,Pine   \n1948    Uplifted,Happy,Relaxed,Creative,Talkative  Citrus,Earthy,Flowery   \n2081         Hungry,Happy,Relaxed,Euphoric,Sleepy   Citrus,Sweet,Flowery   \n241          Sleepy,Happy,Hungry,Relaxed,Euphoric   Sweet,Flowery,Citrus   \n397       Relaxed,Happy,Sleepy,Uplifted,Talkative   Sweet,Earthy,Flowery   \n1450  Creative,Energetic,Relaxed,Hungry,Talkative    Sweet,Earthy,Citrus   \n2220         Sleepy,Relaxed,Happy,Euphoric,Hungry   Earthy,Flowery,Sweet   \n971          Relaxed,Euphoric,Happy,Sleepy,Hungry   Earthy,Sweet,Flowery   \n956          Relaxed,Happy,Euphoric,Sleepy,Hungry   Sweet,Flowery,Earthy   \n\n                                                                                                                                                                                                  Description  \n983   A cross between The Purps and Afghani, Haoma is a 70% indica strain with calming, stress-relieving effects. Haoma’s dense, compact buds have a fruity, floral aroma and melt away anxiety, pain, inf...  \n731   Early Girl is the wallflower of cannabis strains since its introduction in the 1980s. Lovingly preserved by the breeders at Sensi Seeds, this strain is lazy and relaxed, nothing over the top. A 75...  \n1948  Sour Patch Kiss by Elev8 Seeds was designed as a heavy-yielding trichome producer. This was achieved by crossing Kimbo Kush’s sweet, doughy aroma with Sour Kush’s pungent odor and generous product...  \n2081  Sweet Kush is the potent daughter of Sweet Tooth and OG Kush. Citrusy and sweet, Sweet Kush tastes just like a lemon drop candy. Combining the best of both cannabis types, this hybrid provides bot...  \n241   This 50/50 hybrid strain is a cross of The Black and Burmese Kush that yields a potent flower with both cerebral and physical effects. The flower gets its density and purple-black hue from its Bla...  \n397   An 80% indica strain from Bulldog Seeds in the Netherlands, Bubblegum Kush is a cross between Bubble Gum and an undisclosed Kush. An easy-to-grow plant that produces huge yields of frosty, resinou...  \n1450  Negra 44 is an indica-dominant strain bred by R-Kiem Seeds in Spain. This award-winning variety crosses a Top 44 indica with native Ghana landrace strains, and inherits an earthy, fruity aroma. In...  \n2220  Vader OG by Ocean Grown Seeds is the namesake strain of one of OGS’s master growers, Vader. This cross began in 2006 with the combination of SFV OG and Larry OG, and evolved over a laborious proce...  \n971   Getting its name from the classic bubble gum flavor, Gumbo is a perfect medicine for the evenings and has a smooth taste and finish. Gumbo is great for treatment of muscle spasms, sleeplessness, h...  \n956   Green Poison is a dangerously flavorful indica cross championed by Sweet Seeds. It pulls you in with a fruity and floral aroma, then delivers a potent dose of euphoria and body-numbing relaxation....  "
     },
     "execution_count": 17,
     "metadata": {},
     "output_type": "execute_result"
    }
   ],
   "source": [
    "# Although the API will return only this list of indexes,\n",
    "# for the purposes of this demo I'll hydrate that list with the rest \n",
    "# of the strain data from the original (pre-wrangled) dataframe\n",
    "recommendations = df1.iloc[rec_id_list]\n",
    "recommendations"
   ]
  },
  {
   "cell_type": "markdown",
   "execution_count": null,
   "metadata": {},
   "outputs": [],
   "source": [
    "---\n",
    "\n",
    "## The FuncZone\n",
    "\n",
    "In order to more easily integrate this recommendation process into the Flask API,\n",
    "the steps can be grouped into a function that will take in a request and return the recommendations."
   ]
  },
  {
   "cell_type": "code",
   "execution_count": 22,
   "metadata": {},
   "outputs": [],
   "source": [
    "def recommend(req, n=10):\n",
    "    \"\"\"Function to recommend top n strains given a request.\"\"\"\n",
    "    # Create vector from request\n",
    "    req_vec = tfidf.transform([req])\n",
    "\n",
    "    # Access the top n indexes\n",
    "    top_id = nn.kneighbors(req_vec.todense(), n_neighbors=n)[1][0]\n",
    "\n",
    "    # Index-locate the neighbors in original dataframe\n",
    "    top_df = df1.iloc[top_id]\n",
    "\n",
    "    return top_df"
   ]
  },
  {
   "cell_type": "code",
   "execution_count": 23,
   "metadata": {},
   "outputs": [
    {
     "data": {
      "text/html": "<div>\n<style scoped>\n    .dataframe tbody tr th:only-of-type {\n        vertical-align: middle;\n    }\n\n    .dataframe tbody tr th {\n        vertical-align: top;\n    }\n\n    .dataframe thead th {\n        text-align: right;\n    }\n</style>\n<table border=\"1\" class=\"dataframe\">\n  <thead>\n    <tr style=\"text-align: right;\">\n      <th></th>\n      <th>Strain</th>\n      <th>Type</th>\n      <th>Rating</th>\n      <th>Effects</th>\n      <th>Flavor</th>\n      <th>Description</th>\n    </tr>\n  </thead>\n  <tbody>\n    <tr>\n      <th>736</th>\n      <td>Earthquake</td>\n      <td>hybrid</td>\n      <td>4.5</td>\n      <td>Creative,Euphoric,Uplifted,Happy,Energetic</td>\n      <td>Woody,Pine,Earthy</td>\n      <td>NaN</td>\n    </tr>\n    <tr>\n      <th>1585</th>\n      <td>Pine-Cone</td>\n      <td>hybrid</td>\n      <td>4.5</td>\n      <td>Creative,Uplifted,Energetic,Euphoric,Focused</td>\n      <td>Pine,Earthy,Woody</td>\n      <td>Pine Cone by Glen’s Plant Farm is the hybrid cross of Blue Tahoe and Cinex. This combination develops a strong forest aroma and tight resinous nuggets that explode with earthy flavor upon vaporiza...</td>\n    </tr>\n    <tr>\n      <th>873</th>\n      <td>Gods-Green-Crack</td>\n      <td>hybrid</td>\n      <td>4.5</td>\n      <td>Relaxed,Happy,Euphoric,Uplifted,Energetic</td>\n      <td>Earthy,Woody,Sweet</td>\n      <td>God’s Green Crack is a balanced hybrid strain bred by Jordan of the Islands, who wanted to lighten up the heavy effects of God Bud with a high-flying Green Crack sativa. The indica and sativa pare...</td>\n    </tr>\n    <tr>\n      <th>2310</th>\n      <td>White-Widow</td>\n      <td>hybrid</td>\n      <td>4.3</td>\n      <td>Happy,Relaxed,Euphoric,Uplifted,Energetic</td>\n      <td>Earthy,Woody,Pungent</td>\n      <td>Among the most famous strains worldwide is White Widow, a balanced hybrid first bred in the Netherlands by Green House Seeds. A cross between a Brazilian sativa landrace and a resin-heavy South In...</td>\n    </tr>\n    <tr>\n      <th>23</th>\n      <td>Ak-47</td>\n      <td>hybrid</td>\n      <td>4.2</td>\n      <td>Happy,Relaxed,Uplifted,Euphoric,Energetic</td>\n      <td>Earthy,Pungent,Woody</td>\n      <td>Don't let its intense name fool you: AK-47 will leave you relaxed and mellow. This sativa-dominant hybrid delivers a steady and long-lasting cerebral buzz that keeps you mentally alert and engaged...</td>\n    </tr>\n  </tbody>\n</table>\n</div>",
      "text/plain": "                Strain    Type  Rating  \\\n736         Earthquake  hybrid     4.5   \n1585         Pine-Cone  hybrid     4.5   \n873   Gods-Green-Crack  hybrid     4.5   \n2310       White-Widow  hybrid     4.3   \n23               Ak-47  hybrid     4.2   \n\n                                           Effects                Flavor  \\\n736     Creative,Euphoric,Uplifted,Happy,Energetic     Woody,Pine,Earthy   \n1585  Creative,Uplifted,Energetic,Euphoric,Focused     Pine,Earthy,Woody   \n873      Relaxed,Happy,Euphoric,Uplifted,Energetic    Earthy,Woody,Sweet   \n2310     Happy,Relaxed,Euphoric,Uplifted,Energetic  Earthy,Woody,Pungent   \n23       Happy,Relaxed,Uplifted,Euphoric,Energetic  Earthy,Pungent,Woody   \n\n                                                                                                                                                                                                  Description  \n736                                                                                                                                                                                                       NaN  \n1585  Pine Cone by Glen’s Plant Farm is the hybrid cross of Blue Tahoe and Cinex. This combination develops a strong forest aroma and tight resinous nuggets that explode with earthy flavor upon vaporiza...  \n873   God’s Green Crack is a balanced hybrid strain bred by Jordan of the Islands, who wanted to lighten up the heavy effects of God Bud with a high-flying Green Crack sativa. The indica and sativa pare...  \n2310  Among the most famous strains worldwide is White Widow, a balanced hybrid first bred in the Netherlands by Green House Seeds. A cross between a Brazilian sativa landrace and a resin-heavy South In...  \n23    Don't let its intense name fool you: AK-47 will leave you relaxed and mellow. This sativa-dominant hybrid delivers a steady and long-lasting cerebral buzz that keeps you mentally alert and engaged...  "
     },
     "execution_count": 23,
     "metadata": {},
     "output_type": "execute_result"
    }
   ],
   "source": [
    "# Another example request to test out the above function\n",
    "ex_2_str = \"hybrid,euphoric,energetic,creative,woody,earthy\"\n",
    "\n",
    "# Run the function, this time asking for the top 5 recommendations\n",
    "ex_2_recs = recommend(ex_2_str, 5)\n",
    "ex_2_recs"
   ]
  },
  {
   "cell_type": "code",
   "execution_count": 24,
   "metadata": {},
   "outputs": [],
   "source": [
    "# The API should return a JSON object with only the ids\n",
    "# Here's a slightly modified version to accomplish that\n",
    "def recommend_json(req, n=10):\n",
    "    \"\"\"Function to recommend top n strains given a request.\"\"\"\n",
    "    # Create vector from request\n",
    "    req_vec = tfidf.transform([req])\n",
    "\n",
    "    # Access the top n indexes\n",
    "    rec_id = nn.kneighbors(req_vec.todense(), n_neighbors=n)[1][0]\n",
    "\n",
    "    # Convert np.ndarray to pd.Series then to JSON\n",
    "    rec_json = pd.Series(rec_id).to_json(orient=\"records\")\n",
    "\n",
    "    return rec_json"
   ]
  },
  {
   "cell_type": "markdown",
   "execution_count": null,
   "metadata": {},
   "outputs": [],
   "source": [
    "## Pickling\n",
    "\n",
    "In order to use the model in the Flask app, it can be pickled. \n",
    "The pickle module, and the pickle file format, allows Python objects\n",
    "to be serialized and de-serialized. In this case, the trained vectorizer\n",
    "and model can be made into pickle files, which are then loaded into the\n",
    "Flask app for use in the recommendation API."
   ]
  },
  {
   "cell_type": "code",
   "execution_count": 25,
   "metadata": {},
   "outputs": [],
   "source": [
    "# Create pickle func to make pickling (a little) easier\n",
    "def picklizer(to_pickle, filename, path):\n",
    "    \"\"\"\n",
    "    Creates a pickle file.\n",
    "    \n",
    "    Parameters\n",
    "    ----------\n",
    "    to_pickle : Python object\n",
    "        The trained / fitted instance of the \n",
    "        transformer or model to be pickled.\n",
    "    filename : string\n",
    "        The desired name of the output file,\n",
    "        not including the '.pkl' extension.\n",
    "    path : string or path-like object\n",
    "        The path to the desired output directory.\n",
    "    \"\"\"\n",
    "    import os\n",
    "    import pickle\n",
    "\n",
    "    # Create the path to save location\n",
    "    picklepath = os.path.join(path, filename)\n",
    "\n",
    "    # Use context manager to open file\n",
    "    with open(picklepath, \"wb\") as p:\n",
    "        pickle.dump(to_pickle, p)"
   ]
  },
  {
   "cell_type": "code",
   "execution_count": 26,
   "metadata": {},
   "outputs": [],
   "source": [
    "# Picklize!\n",
    "\n",
    "# Export vectorizer as pickle\n",
    "picklizer(dtm, \"vect_02.pkl\", filepath)\n",
    "\n",
    "# Export knn model as pickle\n",
    "picklizer(nn, \"knn_02.pkl\", filepath)"
   ]
  },
  {
   "cell_type": "code",
   "execution_count": null,
   "metadata": {},
   "outputs": [],
   "source": []
  },
  {
   "cell_type": "code",
   "execution_count": null,
   "metadata": {},
   "outputs": [],
   "source": []
  },
  {
   "cell_type": "code",
   "execution_count": null,
   "metadata": {},
   "outputs": [],
   "source": []
  }
 ]
}