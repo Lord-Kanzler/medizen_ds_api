{
  "nbformat": 4,
  "nbformat_minor": 0,
  "metadata": {
    "colab": {
      "name": "data exploration notebook MedZenModel.ipynb",
      "provenance": [],
      "collapsed_sections": []
    },
    "kernelspec": {
      "name": "python3",
      "display_name": "Python 3"
    }
  },
  "cells": [
    {
      "cell_type": "code",
      "metadata": {
        "id": "_yAnP-5UEbRK",
        "colab_type": "code",
        "outputId": "f8d5bb05-6e9a-47fb-ce45-a7e7e3230ad7",
        "colab": {
          "base_uri": "https://localhost:8080/",
          "height": 1000
        }
      },
      "source": [
        "import sys\n",
        "in_colab = 'google.colab' in sys.modules\n",
        "if in_colab:\n",
        "    # Install packages in Colab\n",
        "    !pip install category_encoders==2.0.0\n",
        "    !pip install pandas-profiling==2.3.0\n",
        "    !pip install plotly==4.1.1"
      ],
      "execution_count": 0,
      "outputs": [
        {
          "output_type": "stream",
          "text": [
            "Requirement already satisfied: category_encoders==2.0.0 in /usr/local/lib/python3.6/dist-packages (2.0.0)\n",
            "Requirement already satisfied: statsmodels>=0.6.1 in /usr/local/lib/python3.6/dist-packages (from category_encoders==2.0.0) (0.10.1)\n",
            "Requirement already satisfied: scipy>=0.19.0 in /usr/local/lib/python3.6/dist-packages (from category_encoders==2.0.0) (1.3.2)\n",
            "Requirement already satisfied: patsy>=0.4.1 in /usr/local/lib/python3.6/dist-packages (from category_encoders==2.0.0) (0.5.1)\n",
            "Requirement already satisfied: scikit-learn>=0.20.0 in /usr/local/lib/python3.6/dist-packages (from category_encoders==2.0.0) (0.21.3)\n",
            "Requirement already satisfied: pandas>=0.21.1 in /usr/local/lib/python3.6/dist-packages (from category_encoders==2.0.0) (0.25.3)\n",
            "Requirement already satisfied: numpy>=1.11.3 in /usr/local/lib/python3.6/dist-packages (from category_encoders==2.0.0) (1.17.4)\n",
            "Requirement already satisfied: six in /usr/local/lib/python3.6/dist-packages (from patsy>=0.4.1->category_encoders==2.0.0) (1.12.0)\n",
            "Requirement already satisfied: joblib>=0.11 in /usr/local/lib/python3.6/dist-packages (from scikit-learn>=0.20.0->category_encoders==2.0.0) (0.14.0)\n",
            "Requirement already satisfied: pytz>=2017.2 in /usr/local/lib/python3.6/dist-packages (from pandas>=0.21.1->category_encoders==2.0.0) (2018.9)\n",
            "Requirement already satisfied: python-dateutil>=2.6.1 in /usr/local/lib/python3.6/dist-packages (from pandas>=0.21.1->category_encoders==2.0.0) (2.6.1)\n",
            "Requirement already satisfied: pandas-profiling==2.3.0 in /usr/local/lib/python3.6/dist-packages (2.3.0)\n",
            "Requirement already satisfied: pandas>=0.19 in /usr/local/lib/python3.6/dist-packages (from pandas-profiling==2.3.0) (0.25.3)\n",
            "Requirement already satisfied: phik>=0.9.8 in /usr/local/lib/python3.6/dist-packages (from pandas-profiling==2.3.0) (0.9.8)\n",
            "Requirement already satisfied: jinja2>=2.8 in /usr/local/lib/python3.6/dist-packages (from pandas-profiling==2.3.0) (2.10.3)\n",
            "Requirement already satisfied: astropy in /usr/local/lib/python3.6/dist-packages (from pandas-profiling==2.3.0) (3.0.5)\n",
            "Requirement already satisfied: missingno>=0.4.2 in /usr/local/lib/python3.6/dist-packages (from pandas-profiling==2.3.0) (0.4.2)\n",
            "Requirement already satisfied: htmlmin>=0.1.12 in /usr/local/lib/python3.6/dist-packages (from pandas-profiling==2.3.0) (0.1.12)\n",
            "Requirement already satisfied: matplotlib>=1.4 in /usr/local/lib/python3.6/dist-packages (from pandas-profiling==2.3.0) (3.1.1)\n",
            "Requirement already satisfied: confuse>=1.0.0 in /usr/local/lib/python3.6/dist-packages (from pandas-profiling==2.3.0) (1.0.0)\n",
            "Requirement already satisfied: python-dateutil>=2.6.1 in /usr/local/lib/python3.6/dist-packages (from pandas>=0.19->pandas-profiling==2.3.0) (2.6.1)\n",
            "Requirement already satisfied: pytz>=2017.2 in /usr/local/lib/python3.6/dist-packages (from pandas>=0.19->pandas-profiling==2.3.0) (2018.9)\n",
            "Requirement already satisfied: numpy>=1.13.3 in /usr/local/lib/python3.6/dist-packages (from pandas>=0.19->pandas-profiling==2.3.0) (1.17.4)\n",
            "Requirement already satisfied: scipy>=1.1.0 in /usr/local/lib/python3.6/dist-packages (from phik>=0.9.8->pandas-profiling==2.3.0) (1.3.2)\n",
            "Requirement already satisfied: nbconvert>=5.3.1 in /usr/local/lib/python3.6/dist-packages (from phik>=0.9.8->pandas-profiling==2.3.0) (5.6.1)\n",
            "Requirement already satisfied: jupyter-client>=5.2.3 in /usr/local/lib/python3.6/dist-packages (from phik>=0.9.8->pandas-profiling==2.3.0) (5.3.4)\n",
            "Requirement already satisfied: numba>=0.38.1 in /usr/local/lib/python3.6/dist-packages (from phik>=0.9.8->pandas-profiling==2.3.0) (0.40.1)\n",
            "Requirement already satisfied: pytest>=4.0.2 in /usr/local/lib/python3.6/dist-packages (from phik>=0.9.8->pandas-profiling==2.3.0) (5.3.0)\n",
            "Requirement already satisfied: pytest-pylint>=0.13.0 in /usr/local/lib/python3.6/dist-packages (from phik>=0.9.8->pandas-profiling==2.3.0) (0.14.1)\n",
            "Requirement already satisfied: MarkupSafe>=0.23 in /usr/local/lib/python3.6/dist-packages (from jinja2>=2.8->pandas-profiling==2.3.0) (1.1.1)\n",
            "Requirement already satisfied: seaborn in /usr/local/lib/python3.6/dist-packages (from missingno>=0.4.2->pandas-profiling==2.3.0) (0.9.0)\n",
            "Requirement already satisfied: cycler>=0.10 in /usr/local/lib/python3.6/dist-packages (from matplotlib>=1.4->pandas-profiling==2.3.0) (0.10.0)\n",
            "Requirement already satisfied: pyparsing!=2.0.4,!=2.1.2,!=2.1.6,>=2.0.1 in /usr/local/lib/python3.6/dist-packages (from matplotlib>=1.4->pandas-profiling==2.3.0) (2.4.5)\n",
            "Requirement already satisfied: kiwisolver>=1.0.1 in /usr/local/lib/python3.6/dist-packages (from matplotlib>=1.4->pandas-profiling==2.3.0) (1.1.0)\n",
            "Requirement already satisfied: pyyaml in /usr/local/lib/python3.6/dist-packages (from confuse>=1.0.0->pandas-profiling==2.3.0) (3.13)\n",
            "Requirement already satisfied: six>=1.5 in /usr/local/lib/python3.6/dist-packages (from python-dateutil>=2.6.1->pandas>=0.19->pandas-profiling==2.3.0) (1.12.0)\n",
            "Requirement already satisfied: nbformat>=4.4 in /usr/local/lib/python3.6/dist-packages (from nbconvert>=5.3.1->phik>=0.9.8->pandas-profiling==2.3.0) (4.4.0)\n",
            "Requirement already satisfied: testpath in /usr/local/lib/python3.6/dist-packages (from nbconvert>=5.3.1->phik>=0.9.8->pandas-profiling==2.3.0) (0.4.4)\n",
            "Requirement already satisfied: pygments in /usr/local/lib/python3.6/dist-packages (from nbconvert>=5.3.1->phik>=0.9.8->pandas-profiling==2.3.0) (2.1.3)\n",
            "Requirement already satisfied: mistune<2,>=0.8.1 in /usr/local/lib/python3.6/dist-packages (from nbconvert>=5.3.1->phik>=0.9.8->pandas-profiling==2.3.0) (0.8.4)\n",
            "Requirement already satisfied: traitlets>=4.2 in /usr/local/lib/python3.6/dist-packages (from nbconvert>=5.3.1->phik>=0.9.8->pandas-profiling==2.3.0) (4.3.3)\n",
            "Requirement already satisfied: jupyter-core in /usr/local/lib/python3.6/dist-packages (from nbconvert>=5.3.1->phik>=0.9.8->pandas-profiling==2.3.0) (4.6.1)\n",
            "Requirement already satisfied: entrypoints>=0.2.2 in /usr/local/lib/python3.6/dist-packages (from nbconvert>=5.3.1->phik>=0.9.8->pandas-profiling==2.3.0) (0.3)\n",
            "Requirement already satisfied: bleach in /usr/local/lib/python3.6/dist-packages (from nbconvert>=5.3.1->phik>=0.9.8->pandas-profiling==2.3.0) (3.1.0)\n",
            "Requirement already satisfied: defusedxml in /usr/local/lib/python3.6/dist-packages (from nbconvert>=5.3.1->phik>=0.9.8->pandas-profiling==2.3.0) (0.6.0)\n",
            "Requirement already satisfied: pandocfilters>=1.4.1 in /usr/local/lib/python3.6/dist-packages (from nbconvert>=5.3.1->phik>=0.9.8->pandas-profiling==2.3.0) (1.4.2)\n",
            "Requirement already satisfied: pyzmq>=13 in /usr/local/lib/python3.6/dist-packages (from jupyter-client>=5.2.3->phik>=0.9.8->pandas-profiling==2.3.0) (17.0.0)\n",
            "Requirement already satisfied: tornado>=4.1 in /usr/local/lib/python3.6/dist-packages (from jupyter-client>=5.2.3->phik>=0.9.8->pandas-profiling==2.3.0) (4.5.3)\n",
            "Requirement already satisfied: llvmlite>=0.25.0dev0 in /usr/local/lib/python3.6/dist-packages (from numba>=0.38.1->phik>=0.9.8->pandas-profiling==2.3.0) (0.30.0)\n",
            "Requirement already satisfied: importlib-metadata>=0.12; python_version < \"3.8\" in /usr/local/lib/python3.6/dist-packages (from pytest>=4.0.2->phik>=0.9.8->pandas-profiling==2.3.0) (0.23)\n",
            "Requirement already satisfied: pluggy<1.0,>=0.12 in /usr/local/lib/python3.6/dist-packages (from pytest>=4.0.2->phik>=0.9.8->pandas-profiling==2.3.0) (0.13.1)\n",
            "Requirement already satisfied: packaging in /usr/local/lib/python3.6/dist-packages (from pytest>=4.0.2->phik>=0.9.8->pandas-profiling==2.3.0) (19.2)\n",
            "Requirement already satisfied: py>=1.5.0 in /usr/local/lib/python3.6/dist-packages (from pytest>=4.0.2->phik>=0.9.8->pandas-profiling==2.3.0) (1.8.0)\n",
            "Requirement already satisfied: more-itertools>=4.0.0 in /usr/local/lib/python3.6/dist-packages (from pytest>=4.0.2->phik>=0.9.8->pandas-profiling==2.3.0) (7.2.0)\n",
            "Requirement already satisfied: attrs>=17.4.0 in /usr/local/lib/python3.6/dist-packages (from pytest>=4.0.2->phik>=0.9.8->pandas-profiling==2.3.0) (19.3.0)\n",
            "Requirement already satisfied: wcwidth in /usr/local/lib/python3.6/dist-packages (from pytest>=4.0.2->phik>=0.9.8->pandas-profiling==2.3.0) (0.1.7)\n",
            "Requirement already satisfied: pylint>=1.4.5 in /usr/local/lib/python3.6/dist-packages (from pytest-pylint>=0.13.0->phik>=0.9.8->pandas-profiling==2.3.0) (2.4.4)\n",
            "Requirement already satisfied: setuptools in /usr/local/lib/python3.6/dist-packages (from kiwisolver>=1.0.1->matplotlib>=1.4->pandas-profiling==2.3.0) (41.6.0)\n",
            "Requirement already satisfied: jsonschema!=2.5.0,>=2.4 in /usr/local/lib/python3.6/dist-packages (from nbformat>=4.4->nbconvert>=5.3.1->phik>=0.9.8->pandas-profiling==2.3.0) (2.6.0)\n",
            "Requirement already satisfied: ipython-genutils in /usr/local/lib/python3.6/dist-packages (from nbformat>=4.4->nbconvert>=5.3.1->phik>=0.9.8->pandas-profiling==2.3.0) (0.2.0)\n",
            "Requirement already satisfied: decorator in /usr/local/lib/python3.6/dist-packages (from traitlets>=4.2->nbconvert>=5.3.1->phik>=0.9.8->pandas-profiling==2.3.0) (4.4.1)\n",
            "Requirement already satisfied: webencodings in /usr/local/lib/python3.6/dist-packages (from bleach->nbconvert>=5.3.1->phik>=0.9.8->pandas-profiling==2.3.0) (0.5.1)\n",
            "Requirement already satisfied: zipp>=0.5 in /usr/local/lib/python3.6/dist-packages (from importlib-metadata>=0.12; python_version < \"3.8\"->pytest>=4.0.2->phik>=0.9.8->pandas-profiling==2.3.0) (0.6.0)\n",
            "Requirement already satisfied: isort<5,>=4.2.5 in /usr/local/lib/python3.6/dist-packages (from pylint>=1.4.5->pytest-pylint>=0.13.0->phik>=0.9.8->pandas-profiling==2.3.0) (4.3.21)\n",
            "Requirement already satisfied: mccabe<0.7,>=0.6 in /usr/local/lib/python3.6/dist-packages (from pylint>=1.4.5->pytest-pylint>=0.13.0->phik>=0.9.8->pandas-profiling==2.3.0) (0.6.1)\n",
            "Requirement already satisfied: astroid<2.4,>=2.3.0 in /usr/local/lib/python3.6/dist-packages (from pylint>=1.4.5->pytest-pylint>=0.13.0->phik>=0.9.8->pandas-profiling==2.3.0) (2.3.3)\n",
            "Requirement already satisfied: wrapt==1.11.* in /usr/local/lib/python3.6/dist-packages (from astroid<2.4,>=2.3.0->pylint>=1.4.5->pytest-pylint>=0.13.0->phik>=0.9.8->pandas-profiling==2.3.0) (1.11.2)\n",
            "Requirement already satisfied: lazy-object-proxy==1.4.* in /usr/local/lib/python3.6/dist-packages (from astroid<2.4,>=2.3.0->pylint>=1.4.5->pytest-pylint>=0.13.0->phik>=0.9.8->pandas-profiling==2.3.0) (1.4.3)\n",
            "Requirement already satisfied: typed-ast<1.5,>=1.4.0; implementation_name == \"cpython\" and python_version < \"3.8\" in /usr/local/lib/python3.6/dist-packages (from astroid<2.4,>=2.3.0->pylint>=1.4.5->pytest-pylint>=0.13.0->phik>=0.9.8->pandas-profiling==2.3.0) (1.4.0)\n",
            "Requirement already satisfied: plotly==4.1.1 in /usr/local/lib/python3.6/dist-packages (4.1.1)\n",
            "Requirement already satisfied: six in /usr/local/lib/python3.6/dist-packages (from plotly==4.1.1) (1.12.0)\n",
            "Requirement already satisfied: retrying>=1.3.3 in /usr/local/lib/python3.6/dist-packages (from plotly==4.1.1) (1.3.3)\n"
          ],
          "name": "stdout"
        }
      ]
    },
    {
      "cell_type": "code",
      "metadata": {
        "id": "czTLL6KNE9EC",
        "colab_type": "code",
        "outputId": "67564a45-cba1-44c6-d1c9-36d71364dc1f",
        "colab": {
          "resources": {
            "http://localhost:8080/nbextensions/google.colab/files.js": {
              "data": "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",
              "ok": true,
              "headers": [
                [
                  "content-type",
                  "application/javascript"
                ]
              ],
              "status": 200,
              "status_text": ""
            }
          },
          "base_uri": "https://localhost:8080/",
          "height": 75
        }
      },
      "source": [
        "#Fetch cannabis data file\n",
        "from google.colab import files\n",
        "uploaded = files.upload()"
      ],
      "execution_count": 0,
      "outputs": [
        {
          "output_type": "display_data",
          "data": {
            "text/html": [
              "\n",
              "     <input type=\"file\" id=\"files-082f3ae1-6128-4013-9a39-2be5a3c055ac\" name=\"files[]\" multiple disabled />\n",
              "     <output id=\"result-082f3ae1-6128-4013-9a39-2be5a3c055ac\">\n",
              "      Upload widget is only available when the cell has been executed in the\n",
              "      current browser session. Please rerun this cell to enable.\n",
              "      </output>\n",
              "      <script src=\"/nbextensions/google.colab/files.js\"></script> "
            ],
            "text/plain": [
              "<IPython.core.display.HTML object>"
            ]
          },
          "metadata": {
            "tags": []
          }
        },
        {
          "output_type": "stream",
          "text": [
            "Saving cannabis.csv to cannabis (1).csv\n"
          ],
          "name": "stdout"
        }
      ]
    },
    {
      "cell_type": "code",
      "metadata": {
        "id": "pdncoSjqFO45",
        "colab_type": "code",
        "outputId": "98af2405-f77c-4141-b7ac-9b0fdbcc87d4",
        "colab": {
          "base_uri": "https://localhost:8080/",
          "height": 363
        }
      },
      "source": [
        "# Load cannabis data\n",
        "import pandas as pd\n",
        "import io\n",
        "df_cannabis = pd.read_csv(io.StringIO(uploaded['cannabis.csv'].decode('utf-8')))\n",
        "df_cannabis.head(10)"
      ],
      "execution_count": 119,
      "outputs": [
        {
          "output_type": "execute_result",
          "data": {
            "text/html": [
              "<div>\n",
              "<style scoped>\n",
              "    .dataframe tbody tr th:only-of-type {\n",
              "        vertical-align: middle;\n",
              "    }\n",
              "\n",
              "    .dataframe tbody tr th {\n",
              "        vertical-align: top;\n",
              "    }\n",
              "\n",
              "    .dataframe thead th {\n",
              "        text-align: right;\n",
              "    }\n",
              "</style>\n",
              "<table border=\"1\" class=\"dataframe\">\n",
              "  <thead>\n",
              "    <tr style=\"text-align: right;\">\n",
              "      <th></th>\n",
              "      <th>Strain</th>\n",
              "      <th>Type</th>\n",
              "      <th>Rating</th>\n",
              "      <th>Effects</th>\n",
              "      <th>Flavor</th>\n",
              "      <th>Description</th>\n",
              "    </tr>\n",
              "  </thead>\n",
              "  <tbody>\n",
              "    <tr>\n",
              "      <th>0</th>\n",
              "      <td>100-Og</td>\n",
              "      <td>hybrid</td>\n",
              "      <td>4.0</td>\n",
              "      <td>Creative,Energetic,Tingly,Euphoric,Relaxed</td>\n",
              "      <td>Earthy,Sweet,Citrus</td>\n",
              "      <td>$100 OG is a 50/50 hybrid strain that packs a ...</td>\n",
              "    </tr>\n",
              "    <tr>\n",
              "      <th>1</th>\n",
              "      <td>98-White-Widow</td>\n",
              "      <td>hybrid</td>\n",
              "      <td>4.7</td>\n",
              "      <td>Relaxed,Aroused,Creative,Happy,Energetic</td>\n",
              "      <td>Flowery,Violet,Diesel</td>\n",
              "      <td>The ‘98 Aloha White Widow is an especially pot...</td>\n",
              "    </tr>\n",
              "    <tr>\n",
              "      <th>2</th>\n",
              "      <td>1024</td>\n",
              "      <td>sativa</td>\n",
              "      <td>4.4</td>\n",
              "      <td>Uplifted,Happy,Relaxed,Energetic,Creative</td>\n",
              "      <td>Spicy/Herbal,Sage,Woody</td>\n",
              "      <td>1024 is a sativa-dominant hybrid bred in Spain...</td>\n",
              "    </tr>\n",
              "    <tr>\n",
              "      <th>3</th>\n",
              "      <td>13-Dawgs</td>\n",
              "      <td>hybrid</td>\n",
              "      <td>4.2</td>\n",
              "      <td>Tingly,Creative,Hungry,Relaxed,Uplifted</td>\n",
              "      <td>Apricot,Citrus,Grapefruit</td>\n",
              "      <td>13 Dawgs is a hybrid of G13 and Chemdawg genet...</td>\n",
              "    </tr>\n",
              "    <tr>\n",
              "      <th>4</th>\n",
              "      <td>24K-Gold</td>\n",
              "      <td>hybrid</td>\n",
              "      <td>4.6</td>\n",
              "      <td>Happy,Relaxed,Euphoric,Uplifted,Talkative</td>\n",
              "      <td>Citrus,Earthy,Orange</td>\n",
              "      <td>Also known as Kosher Tangie, 24k Gold is a 60%...</td>\n",
              "    </tr>\n",
              "    <tr>\n",
              "      <th>5</th>\n",
              "      <td>3-Bears-Og</td>\n",
              "      <td>indica</td>\n",
              "      <td>0.0</td>\n",
              "      <td>None</td>\n",
              "      <td>None</td>\n",
              "      <td>3 Bears OG by Mephisto Genetics is an autoflow...</td>\n",
              "    </tr>\n",
              "    <tr>\n",
              "      <th>6</th>\n",
              "      <td>3-Kings</td>\n",
              "      <td>hybrid</td>\n",
              "      <td>4.4</td>\n",
              "      <td>Relaxed,Euphoric,Happy,Uplifted,Hungry</td>\n",
              "      <td>Earthy,Sweet,Pungent</td>\n",
              "      <td>The 3 Kings marijuana strain, a holy trinity o...</td>\n",
              "    </tr>\n",
              "    <tr>\n",
              "      <th>7</th>\n",
              "      <td>303-Og</td>\n",
              "      <td>indica</td>\n",
              "      <td>4.2</td>\n",
              "      <td>Relaxed,Happy,Euphoric,Uplifted,Giggly</td>\n",
              "      <td>Citrus,Pungent,Earthy</td>\n",
              "      <td>The indica-dominant 303 OG is a Colorado strai...</td>\n",
              "    </tr>\n",
              "    <tr>\n",
              "      <th>8</th>\n",
              "      <td>3D-Cbd</td>\n",
              "      <td>sativa</td>\n",
              "      <td>4.6</td>\n",
              "      <td>Uplifted,Focused,Happy,Talkative,Relaxed</td>\n",
              "      <td>Earthy,Woody,Flowery</td>\n",
              "      <td>3D CBD from Snoop Dogg’s branded line of canna...</td>\n",
              "    </tr>\n",
              "    <tr>\n",
              "      <th>9</th>\n",
              "      <td>3X-Crazy</td>\n",
              "      <td>indica</td>\n",
              "      <td>4.4</td>\n",
              "      <td>Relaxed,Tingly,Happy,Euphoric,Uplifted</td>\n",
              "      <td>Earthy,Grape,Sweet</td>\n",
              "      <td>Also known as Optimus Prime, the indica-domina...</td>\n",
              "    </tr>\n",
              "  </tbody>\n",
              "</table>\n",
              "</div>"
            ],
            "text/plain": [
              "           Strain  ...                                        Description\n",
              "0          100-Og  ...  $100 OG is a 50/50 hybrid strain that packs a ...\n",
              "1  98-White-Widow  ...  The ‘98 Aloha White Widow is an especially pot...\n",
              "2            1024  ...  1024 is a sativa-dominant hybrid bred in Spain...\n",
              "3        13-Dawgs  ...  13 Dawgs is a hybrid of G13 and Chemdawg genet...\n",
              "4        24K-Gold  ...  Also known as Kosher Tangie, 24k Gold is a 60%...\n",
              "5      3-Bears-Og  ...  3 Bears OG by Mephisto Genetics is an autoflow...\n",
              "6         3-Kings  ...  The 3 Kings marijuana strain, a holy trinity o...\n",
              "7          303-Og  ...  The indica-dominant 303 OG is a Colorado strai...\n",
              "8          3D-Cbd  ...  3D CBD from Snoop Dogg’s branded line of canna...\n",
              "9        3X-Crazy  ...  Also known as Optimus Prime, the indica-domina...\n",
              "\n",
              "[10 rows x 6 columns]"
            ]
          },
          "metadata": {
            "tags": []
          },
          "execution_count": 119
        }
      ]
    },
    {
      "cell_type": "code",
      "metadata": {
        "id": "5m_9yRqKnMVj",
        "colab_type": "code",
        "colab": {
          "base_uri": "https://localhost:8080/",
          "height": 206
        },
        "outputId": "9180ed23-429e-41f6-cd60-988a7dcf758d"
      },
      "source": [
        "# Split dataferame on Type\n",
        "df_hybrid = pd.DataFrame(df_cannabis.loc[df_cannabis['Type']=='hybrid'])\n",
        "\n",
        "df_hybrid.head()"
      ],
      "execution_count": 186,
      "outputs": [
        {
          "output_type": "execute_result",
          "data": {
            "text/html": [
              "<div>\n",
              "<style scoped>\n",
              "    .dataframe tbody tr th:only-of-type {\n",
              "        vertical-align: middle;\n",
              "    }\n",
              "\n",
              "    .dataframe tbody tr th {\n",
              "        vertical-align: top;\n",
              "    }\n",
              "\n",
              "    .dataframe thead th {\n",
              "        text-align: right;\n",
              "    }\n",
              "</style>\n",
              "<table border=\"1\" class=\"dataframe\">\n",
              "  <thead>\n",
              "    <tr style=\"text-align: right;\">\n",
              "      <th></th>\n",
              "      <th>Strain</th>\n",
              "      <th>Type</th>\n",
              "      <th>Rating</th>\n",
              "      <th>Effects</th>\n",
              "      <th>Flavor</th>\n",
              "      <th>Description</th>\n",
              "    </tr>\n",
              "  </thead>\n",
              "  <tbody>\n",
              "    <tr>\n",
              "      <th>0</th>\n",
              "      <td>100-Og</td>\n",
              "      <td>hybrid</td>\n",
              "      <td>4.0</td>\n",
              "      <td>Creative,Energetic,Tingly,Euphoric,Relaxed</td>\n",
              "      <td>Earthy,Sweet,Citrus</td>\n",
              "      <td>$100 OG is a 50/50 hybrid strain that packs a ...</td>\n",
              "    </tr>\n",
              "    <tr>\n",
              "      <th>1</th>\n",
              "      <td>98-White-Widow</td>\n",
              "      <td>hybrid</td>\n",
              "      <td>4.7</td>\n",
              "      <td>Relaxed,Aroused,Creative,Happy,Energetic</td>\n",
              "      <td>Flowery,Violet,Diesel</td>\n",
              "      <td>The ‘98 Aloha White Widow is an especially pot...</td>\n",
              "    </tr>\n",
              "    <tr>\n",
              "      <th>3</th>\n",
              "      <td>13-Dawgs</td>\n",
              "      <td>hybrid</td>\n",
              "      <td>4.2</td>\n",
              "      <td>Tingly,Creative,Hungry,Relaxed,Uplifted</td>\n",
              "      <td>Apricot,Citrus,Grapefruit</td>\n",
              "      <td>13 Dawgs is a hybrid of G13 and Chemdawg genet...</td>\n",
              "    </tr>\n",
              "    <tr>\n",
              "      <th>4</th>\n",
              "      <td>24K-Gold</td>\n",
              "      <td>hybrid</td>\n",
              "      <td>4.6</td>\n",
              "      <td>Happy,Relaxed,Euphoric,Uplifted,Talkative</td>\n",
              "      <td>Citrus,Earthy,Orange</td>\n",
              "      <td>Also known as Kosher Tangie, 24k Gold is a 60%...</td>\n",
              "    </tr>\n",
              "    <tr>\n",
              "      <th>6</th>\n",
              "      <td>3-Kings</td>\n",
              "      <td>hybrid</td>\n",
              "      <td>4.4</td>\n",
              "      <td>Relaxed,Euphoric,Happy,Uplifted,Hungry</td>\n",
              "      <td>Earthy,Sweet,Pungent</td>\n",
              "      <td>The 3 Kings marijuana strain, a holy trinity o...</td>\n",
              "    </tr>\n",
              "  </tbody>\n",
              "</table>\n",
              "</div>"
            ],
            "text/plain": [
              "           Strain  ...                                        Description\n",
              "0          100-Og  ...  $100 OG is a 50/50 hybrid strain that packs a ...\n",
              "1  98-White-Widow  ...  The ‘98 Aloha White Widow is an especially pot...\n",
              "3        13-Dawgs  ...  13 Dawgs is a hybrid of G13 and Chemdawg genet...\n",
              "4        24K-Gold  ...  Also known as Kosher Tangie, 24k Gold is a 60%...\n",
              "6         3-Kings  ...  The 3 Kings marijuana strain, a holy trinity o...\n",
              "\n",
              "[5 rows x 6 columns]"
            ]
          },
          "metadata": {
            "tags": []
          },
          "execution_count": 186
        }
      ]
    },
    {
      "cell_type": "code",
      "metadata": {
        "id": "YfPhx3d_oxKU",
        "colab_type": "code",
        "colab": {}
      },
      "source": [
        "# Function for sorting words alphabetically\n",
        "\n",
        "def sortedSentence(Sentence): \n",
        "      \n",
        "    # Spliting the Sentence into words \n",
        "    words = Sentence.split(\" \") \n",
        "      \n",
        "    # Sorting the words \n",
        "    words.sort() \n",
        "      \n",
        "    # Making new Sentence by  \n",
        "    # joining the sorted words \n",
        "    newSentence = \" \".join(words) \n",
        "      \n",
        "    # Return newSentence \n",
        "    return newSentence "
      ],
      "execution_count": 0,
      "outputs": []
    },
    {
      "cell_type": "code",
      "metadata": {
        "id": "IGZDWDvDqBHi",
        "colab_type": "code",
        "colab": {
          "base_uri": "https://localhost:8080/",
          "height": 206
        },
        "outputId": "7865e2fd-237a-45ef-d97b-8459eed6cec5"
      },
      "source": [
        "# Sort entries alphabetically in Effects (as order has no meaning)\n",
        "\n",
        "# Replace commas with spaces \n",
        "df_hybrid = df_hybrid.stack().str.replace(',',' ').unstack()\n",
        "\n",
        "df_hybrid['Effects'] = [sortedSentence(x) for x in df_hybrid['Effects']]\n",
        "\n",
        "# Replace spaces with commas \n",
        "df_hybrid = df_hybrid.stack().str.replace(' ',',').unstack()\n",
        " \n",
        "df_hybrid.head()"
      ],
      "execution_count": 189,
      "outputs": [
        {
          "output_type": "execute_result",
          "data": {
            "text/html": [
              "<div>\n",
              "<style scoped>\n",
              "    .dataframe tbody tr th:only-of-type {\n",
              "        vertical-align: middle;\n",
              "    }\n",
              "\n",
              "    .dataframe tbody tr th {\n",
              "        vertical-align: top;\n",
              "    }\n",
              "\n",
              "    .dataframe thead th {\n",
              "        text-align: right;\n",
              "    }\n",
              "</style>\n",
              "<table border=\"1\" class=\"dataframe\">\n",
              "  <thead>\n",
              "    <tr style=\"text-align: right;\">\n",
              "      <th></th>\n",
              "      <th>Strain</th>\n",
              "      <th>Type</th>\n",
              "      <th>Effects</th>\n",
              "      <th>Flavor</th>\n",
              "      <th>Description</th>\n",
              "    </tr>\n",
              "  </thead>\n",
              "  <tbody>\n",
              "    <tr>\n",
              "      <th>0</th>\n",
              "      <td>100-Og</td>\n",
              "      <td>hybrid</td>\n",
              "      <td>Creative,Energetic,Euphoric,Relaxed,Tingly</td>\n",
              "      <td>Earthy,Sweet,Citrus</td>\n",
              "      <td>$100,OG,is,a,50/50,hybrid,strain,that,packs,a,...</td>\n",
              "    </tr>\n",
              "    <tr>\n",
              "      <th>1</th>\n",
              "      <td>98-White-Widow</td>\n",
              "      <td>hybrid</td>\n",
              "      <td>Aroused,Creative,Energetic,Happy,Relaxed</td>\n",
              "      <td>Flowery,Violet,Diesel</td>\n",
              "      <td>The,‘98,Aloha,White,Widow,is,an,especially,pot...</td>\n",
              "    </tr>\n",
              "    <tr>\n",
              "      <th>3</th>\n",
              "      <td>13-Dawgs</td>\n",
              "      <td>hybrid</td>\n",
              "      <td>Creative,Hungry,Relaxed,Tingly,Uplifted</td>\n",
              "      <td>Apricot,Citrus,Grapefruit</td>\n",
              "      <td>13,Dawgs,is,a,hybrid,of,G13,and,Chemdawg,genet...</td>\n",
              "    </tr>\n",
              "    <tr>\n",
              "      <th>4</th>\n",
              "      <td>24K-Gold</td>\n",
              "      <td>hybrid</td>\n",
              "      <td>Euphoric,Happy,Relaxed,Talkative,Uplifted</td>\n",
              "      <td>Citrus,Earthy,Orange</td>\n",
              "      <td>Also,known,as,Kosher,Tangie,,24k,Gold,is,a,60%...</td>\n",
              "    </tr>\n",
              "    <tr>\n",
              "      <th>6</th>\n",
              "      <td>3-Kings</td>\n",
              "      <td>hybrid</td>\n",
              "      <td>Euphoric,Happy,Hungry,Relaxed,Uplifted</td>\n",
              "      <td>Earthy,Sweet,Pungent</td>\n",
              "      <td>The,3,Kings,marijuana,strain,,a,holy,trinity,o...</td>\n",
              "    </tr>\n",
              "  </tbody>\n",
              "</table>\n",
              "</div>"
            ],
            "text/plain": [
              "           Strain  ...                                        Description\n",
              "0          100-Og  ...  $100,OG,is,a,50/50,hybrid,strain,that,packs,a,...\n",
              "1  98-White-Widow  ...  The,‘98,Aloha,White,Widow,is,an,especially,pot...\n",
              "3        13-Dawgs  ...  13,Dawgs,is,a,hybrid,of,G13,and,Chemdawg,genet...\n",
              "4        24K-Gold  ...  Also,known,as,Kosher,Tangie,,24k,Gold,is,a,60%...\n",
              "6         3-Kings  ...  The,3,Kings,marijuana,strain,,a,holy,trinity,o...\n",
              "\n",
              "[5 rows x 5 columns]"
            ]
          },
          "metadata": {
            "tags": []
          },
          "execution_count": 189
        }
      ]
    },
    {
      "cell_type": "code",
      "metadata": {
        "id": "pmRhglaCr6Y-",
        "colab_type": "code",
        "colab": {
          "base_uri": "https://localhost:8080/",
          "height": 241
        },
        "outputId": "1d4a8122-5a50-4d4d-bc9c-e2ccac898f04"
      },
      "source": [
        "# Determine all Effects sets\n",
        "df_hybrid['Effects'].value_counts()"
      ],
      "execution_count": 190,
      "outputs": [
        {
          "output_type": "execute_result",
          "data": {
            "text/plain": [
              "Creative,Euphoric,Happy,Relaxed,Uplifted       96\n",
              "Energetic,Euphoric,Happy,Relaxed,Uplifted      73\n",
              "Euphoric,Happy,Relaxed,Sleepy,Uplifted         60\n",
              "Euphoric,Focused,Happy,Relaxed,Uplifted        57\n",
              "None                                           49\n",
              "                                               ..\n",
              "Creative,Euphoric,Hungry,Sleepy,Tingly          1\n",
              "Creative,Energetic,Giggly,Happy,Hungry          1\n",
              "Creative,Hungry,Relaxed,Talkative,Uplifted      1\n",
              "Euphoric,Focused,Happy,Tingly,Uplifted          1\n",
              "Creative,Energetic,Euphoric,Hungry,Uplifted     1\n",
              "Name: Effects, Length: 326, dtype: int64"
            ]
          },
          "metadata": {
            "tags": []
          },
          "execution_count": 190
        }
      ]
    },
    {
      "cell_type": "code",
      "metadata": {
        "id": "CiP38B8Er-GM",
        "colab_type": "code",
        "colab": {
          "base_uri": "https://localhost:8080/",
          "height": 303
        },
        "outputId": "2b36390e-df7c-421d-cf98-749bb1b105fc"
      },
      "source": [
        "effects_set_distribution = df_hybrid['Effects'].value_counts()\n",
        "\n",
        "x = list(effects_set_distribution.index)\n",
        "y = list(effects_set_distribution)\n",
        "\n",
        "fig, ax = plt.subplots()\n",
        "ax.set_title('Effects Set Frequencies for Type Hybrid')\n",
        "plt.bar(x,y,align='center')\n",
        "plt.setp(ax.get_xticklabels(), ha=\"right\", rotation=45)\n",
        "plt.rc('xtick', labelsize=1)    # fontsize of the tick labels\n",
        "plt.xlabel('Effects Set')\n",
        "plt.ylabel('Frequency')\n",
        "\n",
        "plt.show()"
      ],
      "execution_count": 194,
      "outputs": [
        {
          "output_type": "display_data",
          "data": {
            "image/png": "[encoded data removed]",
            "text/plain": [
              "<Figure size 432x288 with 1 Axes>"
            ]
          },
          "metadata": {
            "tags": []
          }
        }
      ]
    },
    {
      "cell_type": "code",
      "metadata": {
        "id": "VR5Zi0Zx0JmM",
        "colab_type": "code",
        "colab": {
          "base_uri": "https://localhost:8080/",
          "height": 335
        },
        "outputId": "8350e00c-deff-4811-a9af-d669b266a0b4"
      },
      "source": [
        "# Determine all individual Effects choices\n",
        "df_hybrid['Effects'].str.split(',', expand=True).stack().value_counts()"
      ],
      "execution_count": 202,
      "outputs": [
        {
          "output_type": "execute_result",
          "data": {
            "text/plain": [
              "Happy        967\n",
              "Relaxed      896\n",
              "Uplifted     848\n",
              "Euphoric     843\n",
              "Creative     429\n",
              "Energetic    342\n",
              "Focused      309\n",
              "Sleepy       241\n",
              "Hungry       228\n",
              "Talkative    192\n",
              "Giggly       168\n",
              "Tingly       163\n",
              "Aroused       87\n",
              "None          49\n",
              "Mouth          1\n",
              "Dry            1\n",
              "dtype: int64"
            ]
          },
          "metadata": {
            "tags": []
          },
          "execution_count": 202
        }
      ]
    },
    {
      "cell_type": "code",
      "metadata": {
        "id": "ocxmbzV40abU",
        "colab_type": "code",
        "colab": {
          "base_uri": "https://localhost:8080/",
          "height": 335
        },
        "outputId": "4d45960f-f2ab-485e-c87e-be75502c9bf6"
      },
      "source": [
        "effects_distribution = df_hybrid['Effects'].str.split(',', expand=True).stack().value_counts()\n",
        "\n",
        "x = list(effects_distribution.index)\n",
        "y = list(effects_distribution)\n",
        "\n",
        "fig, ax = plt.subplots()\n",
        "ax.set_title('Effects Frequencies for Type Hybrid')\n",
        "plt.bar(x,y,align='center')\n",
        "plt.setp(ax.get_xticklabels(), ha=\"right\", rotation=45)\n",
        "plt.rc('xtick', labelsize=12)    # fontsize of the tick labels\n",
        "plt.xlabel('Effects')\n",
        "plt.ylabel('Frequency')\n",
        "\n",
        "plt.show()"
      ],
      "execution_count": 204,
      "outputs": [
        {
          "output_type": "display_data",
          "data": {
            "image/png": "[encoded data removed]",
            "text/plain": [
              "<Figure size 432x288 with 1 Axes>"
            ]
          },
          "metadata": {
            "tags": []
          }
        }
      ]
    },
    {
      "cell_type": "code",
      "metadata": {
        "id": "Gn40cQkAoS1D",
        "colab_type": "code",
        "colab": {
          "base_uri": "https://localhost:8080/",
          "height": 206
        },
        "outputId": "b1fe90cf-15a4-4973-c99d-53b654747846"
      },
      "source": [
        "df_indica = df_cannabis.loc[df_cannabis['Type']=='indica']\n",
        "\n",
        "df_indica.head()"
      ],
      "execution_count": 174,
      "outputs": [
        {
          "output_type": "execute_result",
          "data": {
            "text/html": [
              "<div>\n",
              "<style scoped>\n",
              "    .dataframe tbody tr th:only-of-type {\n",
              "        vertical-align: middle;\n",
              "    }\n",
              "\n",
              "    .dataframe tbody tr th {\n",
              "        vertical-align: top;\n",
              "    }\n",
              "\n",
              "    .dataframe thead th {\n",
              "        text-align: right;\n",
              "    }\n",
              "</style>\n",
              "<table border=\"1\" class=\"dataframe\">\n",
              "  <thead>\n",
              "    <tr style=\"text-align: right;\">\n",
              "      <th></th>\n",
              "      <th>Strain</th>\n",
              "      <th>Type</th>\n",
              "      <th>Rating</th>\n",
              "      <th>Effects</th>\n",
              "      <th>Flavor</th>\n",
              "      <th>Description</th>\n",
              "    </tr>\n",
              "  </thead>\n",
              "  <tbody>\n",
              "    <tr>\n",
              "      <th>5</th>\n",
              "      <td>3-Bears-Og</td>\n",
              "      <td>indica</td>\n",
              "      <td>0.0</td>\n",
              "      <td>None</td>\n",
              "      <td>None</td>\n",
              "      <td>3 Bears OG by Mephisto Genetics is an autoflow...</td>\n",
              "    </tr>\n",
              "    <tr>\n",
              "      <th>7</th>\n",
              "      <td>303-Og</td>\n",
              "      <td>indica</td>\n",
              "      <td>4.2</td>\n",
              "      <td>Relaxed,Happy,Euphoric,Uplifted,Giggly</td>\n",
              "      <td>Citrus,Pungent,Earthy</td>\n",
              "      <td>The indica-dominant 303 OG is a Colorado strai...</td>\n",
              "    </tr>\n",
              "    <tr>\n",
              "      <th>9</th>\n",
              "      <td>3X-Crazy</td>\n",
              "      <td>indica</td>\n",
              "      <td>4.4</td>\n",
              "      <td>Relaxed,Tingly,Happy,Euphoric,Uplifted</td>\n",
              "      <td>Earthy,Grape,Sweet</td>\n",
              "      <td>Also known as Optimus Prime, the indica-domina...</td>\n",
              "    </tr>\n",
              "    <tr>\n",
              "      <th>12</th>\n",
              "      <td>5Th-Element</td>\n",
              "      <td>indica</td>\n",
              "      <td>4.4</td>\n",
              "      <td>Relaxed,Focused,Euphoric,Uplifted,Aroused</td>\n",
              "      <td>Earthy,Woody,Pine</td>\n",
              "      <td>Elemental Seeds crossed Blackberry with All Sp...</td>\n",
              "    </tr>\n",
              "    <tr>\n",
              "      <th>14</th>\n",
              "      <td>8-Ball-Kush</td>\n",
              "      <td>indica</td>\n",
              "      <td>4.3</td>\n",
              "      <td>Relaxed,Uplifted,Happy,Creative,Euphoric</td>\n",
              "      <td>Citrus,Earthy,Pine</td>\n",
              "      <td>Bred by Barney’s Farm, 8 Ball Kush is a pure i...</td>\n",
              "    </tr>\n",
              "  </tbody>\n",
              "</table>\n",
              "</div>"
            ],
            "text/plain": [
              "         Strain  ...                                        Description\n",
              "5    3-Bears-Og  ...  3 Bears OG by Mephisto Genetics is an autoflow...\n",
              "7        303-Og  ...  The indica-dominant 303 OG is a Colorado strai...\n",
              "9      3X-Crazy  ...  Also known as Optimus Prime, the indica-domina...\n",
              "12  5Th-Element  ...  Elemental Seeds crossed Blackberry with All Sp...\n",
              "14  8-Ball-Kush  ...  Bred by Barney’s Farm, 8 Ball Kush is a pure i...\n",
              "\n",
              "[5 rows x 6 columns]"
            ]
          },
          "metadata": {
            "tags": []
          },
          "execution_count": 174
        }
      ]
    },
    {
      "cell_type": "code",
      "metadata": {
        "id": "-uvjCSX8sn7t",
        "colab_type": "code",
        "colab": {
          "base_uri": "https://localhost:8080/",
          "height": 206
        },
        "outputId": "258c7c5d-f823-4559-cb8b-8017819471c4"
      },
      "source": [
        "# Sort entries alphabetically in Effects (as order has no meaning)\n",
        "\n",
        "# Replace commas with spaces \n",
        "df_indica = df_indica.stack().str.replace(',',' ').unstack()\n",
        "\n",
        "df_indica['Effects'] = [sortedSentence(x) for x in df_indica['Effects']]\n",
        "\n",
        "# Replace spaces with commas \n",
        "df_indica = df_indica.stack().str.replace(' ',',').unstack()\n",
        " \n",
        "df_indica.head()"
      ],
      "execution_count": 192,
      "outputs": [
        {
          "output_type": "execute_result",
          "data": {
            "text/html": [
              "<div>\n",
              "<style scoped>\n",
              "    .dataframe tbody tr th:only-of-type {\n",
              "        vertical-align: middle;\n",
              "    }\n",
              "\n",
              "    .dataframe tbody tr th {\n",
              "        vertical-align: top;\n",
              "    }\n",
              "\n",
              "    .dataframe thead th {\n",
              "        text-align: right;\n",
              "    }\n",
              "</style>\n",
              "<table border=\"1\" class=\"dataframe\">\n",
              "  <thead>\n",
              "    <tr style=\"text-align: right;\">\n",
              "      <th></th>\n",
              "      <th>Strain</th>\n",
              "      <th>Type</th>\n",
              "      <th>Effects</th>\n",
              "      <th>Flavor</th>\n",
              "      <th>Description</th>\n",
              "    </tr>\n",
              "  </thead>\n",
              "  <tbody>\n",
              "    <tr>\n",
              "      <th>5</th>\n",
              "      <td>3-Bears-Og</td>\n",
              "      <td>indica</td>\n",
              "      <td>None</td>\n",
              "      <td>None</td>\n",
              "      <td>3,Bears,OG,by,Mephisto,Genetics,is,an,autoflow...</td>\n",
              "    </tr>\n",
              "    <tr>\n",
              "      <th>7</th>\n",
              "      <td>303-Og</td>\n",
              "      <td>indica</td>\n",
              "      <td>Euphoric,Giggly,Happy,Relaxed,Uplifted</td>\n",
              "      <td>Citrus,Pungent,Earthy</td>\n",
              "      <td>The,indica-dominant,303,OG,is,a,Colorado,strai...</td>\n",
              "    </tr>\n",
              "    <tr>\n",
              "      <th>9</th>\n",
              "      <td>3X-Crazy</td>\n",
              "      <td>indica</td>\n",
              "      <td>Euphoric,Happy,Relaxed,Tingly,Uplifted</td>\n",
              "      <td>Earthy,Grape,Sweet</td>\n",
              "      <td>Also,known,as,Optimus,Prime,,the,indica-domina...</td>\n",
              "    </tr>\n",
              "    <tr>\n",
              "      <th>12</th>\n",
              "      <td>5Th-Element</td>\n",
              "      <td>indica</td>\n",
              "      <td>Aroused,Euphoric,Focused,Relaxed,Uplifted</td>\n",
              "      <td>Earthy,Woody,Pine</td>\n",
              "      <td>Elemental,Seeds,crossed,Blackberry,with,All,Sp...</td>\n",
              "    </tr>\n",
              "    <tr>\n",
              "      <th>14</th>\n",
              "      <td>8-Ball-Kush</td>\n",
              "      <td>indica</td>\n",
              "      <td>Creative,Euphoric,Happy,Relaxed,Uplifted</td>\n",
              "      <td>Citrus,Earthy,Pine</td>\n",
              "      <td>Bred,by,Barney’s,Farm,,8,Ball,Kush,is,a,pure,i...</td>\n",
              "    </tr>\n",
              "  </tbody>\n",
              "</table>\n",
              "</div>"
            ],
            "text/plain": [
              "         Strain  ...                                        Description\n",
              "5    3-Bears-Og  ...  3,Bears,OG,by,Mephisto,Genetics,is,an,autoflow...\n",
              "7        303-Og  ...  The,indica-dominant,303,OG,is,a,Colorado,strai...\n",
              "9      3X-Crazy  ...  Also,known,as,Optimus,Prime,,the,indica-domina...\n",
              "12  5Th-Element  ...  Elemental,Seeds,crossed,Blackberry,with,All,Sp...\n",
              "14  8-Ball-Kush  ...  Bred,by,Barney’s,Farm,,8,Ball,Kush,is,a,pure,i...\n",
              "\n",
              "[5 rows x 5 columns]"
            ]
          },
          "metadata": {
            "tags": []
          },
          "execution_count": 192
        }
      ]
    },
    {
      "cell_type": "code",
      "metadata": {
        "id": "0bYK7Vzds4tD",
        "colab_type": "code",
        "colab": {
          "base_uri": "https://localhost:8080/",
          "height": 241
        },
        "outputId": "63e59476-abf3-4e00-f9cf-c7ad8a918446"
      },
      "source": [
        "# Determine all Effects sets\n",
        "df_indica['Effects'].value_counts()"
      ],
      "execution_count": 197,
      "outputs": [
        {
          "output_type": "execute_result",
          "data": {
            "text/plain": [
              "Euphoric,Happy,Relaxed,Sleepy,Uplifted      94\n",
              "Euphoric,Happy,Hungry,Relaxed,Sleepy        93\n",
              "Euphoric,Happy,Relaxed,Sleepy,Tingly        40\n",
              "None                                        19\n",
              "Creative,Euphoric,Happy,Relaxed,Uplifted    19\n",
              "                                            ..\n",
              "Euphoric,Happy,Sleepy,Tingly,Uplifted        1\n",
              "Aroused,Creative,Euphoric,Giggly,Happy       1\n",
              "Aroused,Euphoric,Relaxed,Tingly,Uplifted     1\n",
              "Creative,Euphoric,Hungry,Relaxed,Sleepy      1\n",
              "Aroused,Focused,Hungry,Relaxed,Sleepy        1\n",
              "Name: Effects, Length: 204, dtype: int64"
            ]
          },
          "metadata": {
            "tags": []
          },
          "execution_count": 197
        }
      ]
    },
    {
      "cell_type": "code",
      "metadata": {
        "id": "BYjdnZNns_1O",
        "colab_type": "code",
        "colab": {
          "base_uri": "https://localhost:8080/",
          "height": 303
        },
        "outputId": "6b25ded8-1cb2-4186-ca28-d04aab7d22b0"
      },
      "source": [
        "effects_set_distribution = df_indica['Effects'].value_counts()\n",
        "\n",
        "x = list(effects_set_distribution.index)\n",
        "y = list(effects_set_distribution)\n",
        "\n",
        "fig, ax = plt.subplots()\n",
        "ax.set_title('Effects Set Frequencies for Type Indica')\n",
        "plt.bar(x,y,align='center')\n",
        "plt.setp(ax.get_xticklabels(), ha=\"right\", rotation=45)\n",
        "plt.rc('xtick', labelsize=1)    # fontsize of the tick labels\n",
        "plt.xlabel('Effects Set')\n",
        "plt.ylabel('Frequency')\n",
        "\n",
        "plt.show()"
      ],
      "execution_count": 198,
      "outputs": [
        {
          "output_type": "display_data",
          "data": {
            "image/png": "[encoded data removed]",
            "text/plain": [
              "<Figure size 432x288 with 1 Axes>"
            ]
          },
          "metadata": {
            "tags": []
          }
        }
      ]
    },
    {
      "cell_type": "code",
      "metadata": {
        "id": "gkN-KAg81BBV",
        "colab_type": "code",
        "colab": {
          "base_uri": "https://localhost:8080/",
          "height": 298
        },
        "outputId": "a239b1c8-a85e-4872-c26f-37bc0444c447"
      },
      "source": [
        "# Determine all individual Effects choices\n",
        "df_indica['Effects'].str.split(',', expand=True).stack().value_counts()"
      ],
      "execution_count": 205,
      "outputs": [
        {
          "output_type": "execute_result",
          "data": {
            "text/plain": [
              "Relaxed      628\n",
              "Happy        562\n",
              "Euphoric     516\n",
              "Sleepy       468\n",
              "Uplifted     331\n",
              "Hungry       210\n",
              "Tingly       143\n",
              "Creative     128\n",
              "Focused      106\n",
              "Giggly        94\n",
              "Aroused       69\n",
              "Talkative     58\n",
              "Energetic     36\n",
              "None          19\n",
              "dtype: int64"
            ]
          },
          "metadata": {
            "tags": []
          },
          "execution_count": 205
        }
      ]
    },
    {
      "cell_type": "code",
      "metadata": {
        "id": "a3OQ_p931Oo7",
        "colab_type": "code",
        "colab": {
          "base_uri": "https://localhost:8080/",
          "height": 335
        },
        "outputId": "83aa7e5a-0fef-4cc3-f0af-41cc5e129c09"
      },
      "source": [
        "effects_distribution = df_indica['Effects'].str.split(',', expand=True).stack().value_counts()\n",
        "\n",
        "x = list(effects_distribution.index)\n",
        "y = list(effects_distribution)\n",
        "\n",
        "fig, ax = plt.subplots()\n",
        "ax.set_title('Effects Frequencies for Type Indica')\n",
        "plt.bar(x,y,align='center')\n",
        "plt.setp(ax.get_xticklabels(), ha=\"right\", rotation=45)\n",
        "plt.rc('xtick', labelsize=12)    # fontsize of the tick labels\n",
        "plt.xlabel('Effects')\n",
        "plt.ylabel('Frequency')\n",
        "\n",
        "plt.show()"
      ],
      "execution_count": 206,
      "outputs": [
        {
          "output_type": "display_data",
          "data": {
            "image/png": "[encoded data removed]",
            "text/plain": [
              "<Figure size 432x288 with 1 Axes>"
            ]
          },
          "metadata": {
            "tags": []
          }
        }
      ]
    },
    {
      "cell_type": "code",
      "metadata": {
        "id": "WHPgQrS3oZwa",
        "colab_type": "code",
        "colab": {
          "base_uri": "https://localhost:8080/",
          "height": 206
        },
        "outputId": "45f59842-d511-4977-96a6-b5edc51c63c8"
      },
      "source": [
        "df_sativa = df_cannabis.loc[df_cannabis['Type']=='sativa']\n",
        "\n",
        "df_sativa.head()"
      ],
      "execution_count": 175,
      "outputs": [
        {
          "output_type": "execute_result",
          "data": {
            "text/html": [
              "<div>\n",
              "<style scoped>\n",
              "    .dataframe tbody tr th:only-of-type {\n",
              "        vertical-align: middle;\n",
              "    }\n",
              "\n",
              "    .dataframe tbody tr th {\n",
              "        vertical-align: top;\n",
              "    }\n",
              "\n",
              "    .dataframe thead th {\n",
              "        text-align: right;\n",
              "    }\n",
              "</style>\n",
              "<table border=\"1\" class=\"dataframe\">\n",
              "  <thead>\n",
              "    <tr style=\"text-align: right;\">\n",
              "      <th></th>\n",
              "      <th>Strain</th>\n",
              "      <th>Type</th>\n",
              "      <th>Rating</th>\n",
              "      <th>Effects</th>\n",
              "      <th>Flavor</th>\n",
              "      <th>Description</th>\n",
              "    </tr>\n",
              "  </thead>\n",
              "  <tbody>\n",
              "    <tr>\n",
              "      <th>2</th>\n",
              "      <td>1024</td>\n",
              "      <td>sativa</td>\n",
              "      <td>4.4</td>\n",
              "      <td>Uplifted,Happy,Relaxed,Energetic,Creative</td>\n",
              "      <td>Spicy/Herbal,Sage,Woody</td>\n",
              "      <td>1024 is a sativa-dominant hybrid bred in Spain...</td>\n",
              "    </tr>\n",
              "    <tr>\n",
              "      <th>8</th>\n",
              "      <td>3D-Cbd</td>\n",
              "      <td>sativa</td>\n",
              "      <td>4.6</td>\n",
              "      <td>Uplifted,Focused,Happy,Talkative,Relaxed</td>\n",
              "      <td>Earthy,Woody,Flowery</td>\n",
              "      <td>3D CBD from Snoop Dogg’s branded line of canna...</td>\n",
              "    </tr>\n",
              "    <tr>\n",
              "      <th>27</th>\n",
              "      <td>Acapulco-Gold</td>\n",
              "      <td>sativa</td>\n",
              "      <td>4.5</td>\n",
              "      <td>Happy,Uplifted,Euphoric,Energetic,Relaxed</td>\n",
              "      <td>Earthy,Sweet,Pungent</td>\n",
              "      <td>One of the most well-known strains, Acapulco G...</td>\n",
              "    </tr>\n",
              "    <tr>\n",
              "      <th>30</th>\n",
              "      <td>Aceh</td>\n",
              "      <td>sativa</td>\n",
              "      <td>4.4</td>\n",
              "      <td>Creative,Euphoric,Talkative,Energetic,Happy</td>\n",
              "      <td>Earthy,Mango,Lemon</td>\n",
              "      <td>Aceh, also called Atjeh, refers to the sativa ...</td>\n",
              "    </tr>\n",
              "    <tr>\n",
              "      <th>32</th>\n",
              "      <td>Acid-Dough</td>\n",
              "      <td>sativa</td>\n",
              "      <td>5.0</td>\n",
              "      <td>Talkative,Giggly,Happy,Hungry,Relaxed</td>\n",
              "      <td>None</td>\n",
              "      <td>Acid Dough by Ripper Seeds is a sativa-dominan...</td>\n",
              "    </tr>\n",
              "  </tbody>\n",
              "</table>\n",
              "</div>"
            ],
            "text/plain": [
              "           Strain  ...                                        Description\n",
              "2            1024  ...  1024 is a sativa-dominant hybrid bred in Spain...\n",
              "8          3D-Cbd  ...  3D CBD from Snoop Dogg’s branded line of canna...\n",
              "27  Acapulco-Gold  ...  One of the most well-known strains, Acapulco G...\n",
              "30           Aceh  ...  Aceh, also called Atjeh, refers to the sativa ...\n",
              "32     Acid-Dough  ...  Acid Dough by Ripper Seeds is a sativa-dominan...\n",
              "\n",
              "[5 rows x 6 columns]"
            ]
          },
          "metadata": {
            "tags": []
          },
          "execution_count": 175
        }
      ]
    },
    {
      "cell_type": "code",
      "metadata": {
        "id": "GZIHWibgtWxq",
        "colab_type": "code",
        "colab": {
          "base_uri": "https://localhost:8080/",
          "height": 206
        },
        "outputId": "59e96045-1852-4189-9e17-1153517e2325"
      },
      "source": [
        "# Sort entries alphabetically in Effects (as order has no meaning)\n",
        "\n",
        "# Replace commas with spaces \n",
        "df_sativa = df_sativa.stack().str.replace(',',' ').unstack()\n",
        "\n",
        "df_sativa['Effects'] = [sortedSentence(x) for x in df_sativa['Effects']]\n",
        "\n",
        "# Replace spaces with commas \n",
        "df_sativa = df_sativa.stack().str.replace(' ',',').unstack()\n",
        " \n",
        "df_sativa.head()"
      ],
      "execution_count": 196,
      "outputs": [
        {
          "output_type": "execute_result",
          "data": {
            "text/html": [
              "<div>\n",
              "<style scoped>\n",
              "    .dataframe tbody tr th:only-of-type {\n",
              "        vertical-align: middle;\n",
              "    }\n",
              "\n",
              "    .dataframe tbody tr th {\n",
              "        vertical-align: top;\n",
              "    }\n",
              "\n",
              "    .dataframe thead th {\n",
              "        text-align: right;\n",
              "    }\n",
              "</style>\n",
              "<table border=\"1\" class=\"dataframe\">\n",
              "  <thead>\n",
              "    <tr style=\"text-align: right;\">\n",
              "      <th></th>\n",
              "      <th>Strain</th>\n",
              "      <th>Type</th>\n",
              "      <th>Effects</th>\n",
              "      <th>Flavor</th>\n",
              "      <th>Description</th>\n",
              "    </tr>\n",
              "  </thead>\n",
              "  <tbody>\n",
              "    <tr>\n",
              "      <th>2</th>\n",
              "      <td>1024</td>\n",
              "      <td>sativa</td>\n",
              "      <td>Creative,Energetic,Happy,Relaxed,Uplifted</td>\n",
              "      <td>Spicy/Herbal,Sage,Woody</td>\n",
              "      <td>1024,is,a,sativa-dominant,hybrid,bred,in,Spain...</td>\n",
              "    </tr>\n",
              "    <tr>\n",
              "      <th>8</th>\n",
              "      <td>3D-Cbd</td>\n",
              "      <td>sativa</td>\n",
              "      <td>Focused,Happy,Relaxed,Talkative,Uplifted</td>\n",
              "      <td>Earthy,Woody,Flowery</td>\n",
              "      <td>3D,CBD,from,Snoop,Dogg’s,branded,line,of,canna...</td>\n",
              "    </tr>\n",
              "    <tr>\n",
              "      <th>27</th>\n",
              "      <td>Acapulco-Gold</td>\n",
              "      <td>sativa</td>\n",
              "      <td>Energetic,Euphoric,Happy,Relaxed,Uplifted</td>\n",
              "      <td>Earthy,Sweet,Pungent</td>\n",
              "      <td>One,of,the,most,well-known,strains,,Acapulco,G...</td>\n",
              "    </tr>\n",
              "    <tr>\n",
              "      <th>30</th>\n",
              "      <td>Aceh</td>\n",
              "      <td>sativa</td>\n",
              "      <td>Creative,Energetic,Euphoric,Happy,Talkative</td>\n",
              "      <td>Earthy,Mango,Lemon</td>\n",
              "      <td>Aceh,,also,called,Atjeh,,refers,to,the,sativa,...</td>\n",
              "    </tr>\n",
              "    <tr>\n",
              "      <th>32</th>\n",
              "      <td>Acid-Dough</td>\n",
              "      <td>sativa</td>\n",
              "      <td>Giggly,Happy,Hungry,Relaxed,Talkative</td>\n",
              "      <td>None</td>\n",
              "      <td>Acid,Dough,by,Ripper,Seeds,is,a,sativa-dominan...</td>\n",
              "    </tr>\n",
              "  </tbody>\n",
              "</table>\n",
              "</div>"
            ],
            "text/plain": [
              "           Strain  ...                                        Description\n",
              "2            1024  ...  1024,is,a,sativa-dominant,hybrid,bred,in,Spain...\n",
              "8          3D-Cbd  ...  3D,CBD,from,Snoop,Dogg’s,branded,line,of,canna...\n",
              "27  Acapulco-Gold  ...  One,of,the,most,well-known,strains,,Acapulco,G...\n",
              "30           Aceh  ...  Aceh,,also,called,Atjeh,,refers,to,the,sativa,...\n",
              "32     Acid-Dough  ...  Acid,Dough,by,Ripper,Seeds,is,a,sativa-dominan...\n",
              "\n",
              "[5 rows x 5 columns]"
            ]
          },
          "metadata": {
            "tags": []
          },
          "execution_count": 196
        }
      ]
    },
    {
      "cell_type": "code",
      "metadata": {
        "id": "ifaouN6Kt1Pb",
        "colab_type": "code",
        "colab": {
          "base_uri": "https://localhost:8080/",
          "height": 241
        },
        "outputId": "6d9143f4-2166-4918-9972-f10b5d52f4ec"
      },
      "source": [
        "# Determine all Effects sets\n",
        "df_sativa['Effects'].value_counts()"
      ],
      "execution_count": 200,
      "outputs": [
        {
          "output_type": "execute_result",
          "data": {
            "text/plain": [
              "Energetic,Euphoric,Happy,Relaxed,Uplifted        28\n",
              "Creative,Energetic,Euphoric,Happy,Uplifted       26\n",
              "Energetic,Euphoric,Focused,Happy,Uplifted        24\n",
              "None                                             19\n",
              "Creative,Energetic,Focused,Happy,Uplifted        16\n",
              "                                                 ..\n",
              "Aroused,Creative,Energetic,Euphoric,Talkative     1\n",
              "Creative,Euphoric,Happy,Relaxed,Talkative         1\n",
              "Aroused,Creative,Focused,Happy,Relaxed            1\n",
              "Energetic,Giggly,Happy,Tingly,Uplifted            1\n",
              "Energetic,Focused,Hungry,Talkative,Uplifted       1\n",
              "Name: Effects, Length: 159, dtype: int64"
            ]
          },
          "metadata": {
            "tags": []
          },
          "execution_count": 200
        }
      ]
    },
    {
      "cell_type": "code",
      "metadata": {
        "id": "eI7LLoFat8t2",
        "colab_type": "code",
        "colab": {
          "base_uri": "https://localhost:8080/",
          "height": 303
        },
        "outputId": "00b41b4a-63ae-45a7-bfe4-904d69c3dfa7"
      },
      "source": [
        "effects_set_distribution = df_sativa['Effects'].value_counts()\n",
        "\n",
        "x = list(effects_set_distribution.index)\n",
        "y = list(effects_set_distribution)\n",
        "\n",
        "fig, ax = plt.subplots()\n",
        "ax.set_title('Effects Set Frequencies for Type Sativa')\n",
        "plt.bar(x,y,align='center')\n",
        "plt.setp(ax.get_xticklabels(), ha=\"right\", rotation=45)\n",
        "plt.rc('xtick', labelsize=1)    # fontsize of the tick labels\n",
        "plt.xlabel('Effects Set')\n",
        "plt.ylabel('Frequency')\n",
        "\n",
        "plt.show()"
      ],
      "execution_count": 201,
      "outputs": [
        {
          "output_type": "display_data",
          "data": {
            "image/png": "[encoded data removed]",
            "text/plain": [
              "<Figure size 432x288 with 1 Axes>"
            ]
          },
          "metadata": {
            "tags": []
          }
        }
      ]
    },
    {
      "cell_type": "code",
      "metadata": {
        "id": "61cP6Lbn1qTs",
        "colab_type": "code",
        "colab": {
          "base_uri": "https://localhost:8080/",
          "height": 298
        },
        "outputId": "27337cd4-0c33-4aa7-84a2-a7b3d95cb393"
      },
      "source": [
        "# Determine all individual Effects choices\n",
        "df_sativa['Effects'].str.split(',', expand=True).stack().value_counts()"
      ],
      "execution_count": 208,
      "outputs": [
        {
          "output_type": "execute_result",
          "data": {
            "text/plain": [
              "Happy        342\n",
              "Uplifted     328\n",
              "Euphoric     276\n",
              "Energetic    268\n",
              "Relaxed      202\n",
              "Creative     190\n",
              "Focused      180\n",
              "Talkative    110\n",
              "Aroused       43\n",
              "Hungry        41\n",
              "Tingly        40\n",
              "Giggly        36\n",
              "Sleepy        29\n",
              "None          19\n",
              "dtype: int64"
            ]
          },
          "metadata": {
            "tags": []
          },
          "execution_count": 208
        }
      ]
    },
    {
      "cell_type": "code",
      "metadata": {
        "id": "lQ_RvaWv1zLb",
        "colab_type": "code",
        "colab": {
          "base_uri": "https://localhost:8080/",
          "height": 335
        },
        "outputId": "f20a5102-e365-4090-8674-3050fffcf216"
      },
      "source": [
        "effects_distribution = df_sativa['Effects'].str.split(',', expand=True).stack().value_counts()\n",
        "\n",
        "x = list(effects_distribution.index)\n",
        "y = list(effects_distribution)\n",
        "\n",
        "fig, ax = plt.subplots()\n",
        "ax.set_title('Effects Frequencies for Type Sativa')\n",
        "plt.bar(x,y,align='center')\n",
        "plt.setp(ax.get_xticklabels(), ha=\"right\", rotation=45)\n",
        "plt.rc('xtick', labelsize=12)    # fontsize of the tick labels\n",
        "plt.xlabel('Effects')\n",
        "plt.ylabel('Frequency')\n",
        "\n",
        "plt.show()"
      ],
      "execution_count": 209,
      "outputs": [
        {
          "output_type": "display_data",
          "data": {
            "image/png": "[encoded data removed]",
            "text/plain": [
              "<Figure size 432x288 with 1 Axes>"
            ]
          },
          "metadata": {
            "tags": []
          }
        }
      ]
    },
    {
      "cell_type": "code",
      "metadata": {
        "id": "CNCL2aoOFs8i",
        "colab_type": "code",
        "outputId": "e2cddad1-5808-41e5-cc5b-078cb33c2ae9",
        "colab": {
          "base_uri": "https://localhost:8080/",
          "height": 597
        }
      },
      "source": [
        "# We assess the contents of df_cannabis\n",
        "df_cannabis_shape = df_cannabis.shape\n",
        "print ('df_cannabis Shape')\n",
        "print (df_cannabis_shape, '\\n')\n",
        "print ('df_cannabis Count')\n",
        "print (df_cannabis.count(), '\\n')\n",
        "print ('df_cannabis NaN Count')\n",
        "print (df_cannabis.isna().sum(), '\\n')\n",
        "print ('df_cannabis Describe')\n",
        "print (df_cannabis.describe())"
      ],
      "execution_count": 120,
      "outputs": [
        {
          "output_type": "stream",
          "text": [
            "df_cannabis Shape\n",
            "(2351, 6) \n",
            "\n",
            "df_cannabis Count\n",
            "Strain         2351\n",
            "Type           2351\n",
            "Rating         2351\n",
            "Effects        2351\n",
            "Flavor         2305\n",
            "Description    2318\n",
            "dtype: int64 \n",
            "\n",
            "df_cannabis NaN Count\n",
            "Strain          0\n",
            "Type            0\n",
            "Rating          0\n",
            "Effects         0\n",
            "Flavor         46\n",
            "Description    33\n",
            "dtype: int64 \n",
            "\n",
            "df_cannabis Describe\n",
            "            Rating\n",
            "count  2351.000000\n",
            "mean      4.310634\n",
            "std       0.836394\n",
            "min       0.000000\n",
            "25%       4.200000\n",
            "50%       4.400000\n",
            "75%       4.700000\n",
            "max       5.000000\n"
          ],
          "name": "stdout"
        }
      ]
    },
    {
      "cell_type": "code",
      "metadata": {
        "id": "MbI-cuQ8H6Oa",
        "colab_type": "code",
        "outputId": "a60942ec-6d48-47bb-918c-169368e465c1",
        "colab": {
          "base_uri": "https://localhost:8080/",
          "height": 269
        }
      },
      "source": [
        "# In Type column Make hybrid = 2, indica = 1, and sativa = 0\n",
        "\n",
        "mapping = {\n",
        "  'hybrid': 2,\n",
        "  'indica': 1,\n",
        "  'sativa': 0\n",
        "}\n",
        "\n",
        "df_cannabis1 = df_cannabis.replace({'Type': mapping})\n",
        "\n",
        "df_cannabis1.head(7)"
      ],
      "execution_count": 121,
      "outputs": [
        {
          "output_type": "execute_result",
          "data": {
            "text/html": [
              "<div>\n",
              "<style scoped>\n",
              "    .dataframe tbody tr th:only-of-type {\n",
              "        vertical-align: middle;\n",
              "    }\n",
              "\n",
              "    .dataframe tbody tr th {\n",
              "        vertical-align: top;\n",
              "    }\n",
              "\n",
              "    .dataframe thead th {\n",
              "        text-align: right;\n",
              "    }\n",
              "</style>\n",
              "<table border=\"1\" class=\"dataframe\">\n",
              "  <thead>\n",
              "    <tr style=\"text-align: right;\">\n",
              "      <th></th>\n",
              "      <th>Strain</th>\n",
              "      <th>Type</th>\n",
              "      <th>Rating</th>\n",
              "      <th>Effects</th>\n",
              "      <th>Flavor</th>\n",
              "      <th>Description</th>\n",
              "    </tr>\n",
              "  </thead>\n",
              "  <tbody>\n",
              "    <tr>\n",
              "      <th>0</th>\n",
              "      <td>100-Og</td>\n",
              "      <td>2</td>\n",
              "      <td>4.0</td>\n",
              "      <td>Creative,Energetic,Tingly,Euphoric,Relaxed</td>\n",
              "      <td>Earthy,Sweet,Citrus</td>\n",
              "      <td>$100 OG is a 50/50 hybrid strain that packs a ...</td>\n",
              "    </tr>\n",
              "    <tr>\n",
              "      <th>1</th>\n",
              "      <td>98-White-Widow</td>\n",
              "      <td>2</td>\n",
              "      <td>4.7</td>\n",
              "      <td>Relaxed,Aroused,Creative,Happy,Energetic</td>\n",
              "      <td>Flowery,Violet,Diesel</td>\n",
              "      <td>The ‘98 Aloha White Widow is an especially pot...</td>\n",
              "    </tr>\n",
              "    <tr>\n",
              "      <th>2</th>\n",
              "      <td>1024</td>\n",
              "      <td>0</td>\n",
              "      <td>4.4</td>\n",
              "      <td>Uplifted,Happy,Relaxed,Energetic,Creative</td>\n",
              "      <td>Spicy/Herbal,Sage,Woody</td>\n",
              "      <td>1024 is a sativa-dominant hybrid bred in Spain...</td>\n",
              "    </tr>\n",
              "    <tr>\n",
              "      <th>3</th>\n",
              "      <td>13-Dawgs</td>\n",
              "      <td>2</td>\n",
              "      <td>4.2</td>\n",
              "      <td>Tingly,Creative,Hungry,Relaxed,Uplifted</td>\n",
              "      <td>Apricot,Citrus,Grapefruit</td>\n",
              "      <td>13 Dawgs is a hybrid of G13 and Chemdawg genet...</td>\n",
              "    </tr>\n",
              "    <tr>\n",
              "      <th>4</th>\n",
              "      <td>24K-Gold</td>\n",
              "      <td>2</td>\n",
              "      <td>4.6</td>\n",
              "      <td>Happy,Relaxed,Euphoric,Uplifted,Talkative</td>\n",
              "      <td>Citrus,Earthy,Orange</td>\n",
              "      <td>Also known as Kosher Tangie, 24k Gold is a 60%...</td>\n",
              "    </tr>\n",
              "    <tr>\n",
              "      <th>5</th>\n",
              "      <td>3-Bears-Og</td>\n",
              "      <td>1</td>\n",
              "      <td>0.0</td>\n",
              "      <td>None</td>\n",
              "      <td>None</td>\n",
              "      <td>3 Bears OG by Mephisto Genetics is an autoflow...</td>\n",
              "    </tr>\n",
              "    <tr>\n",
              "      <th>6</th>\n",
              "      <td>3-Kings</td>\n",
              "      <td>2</td>\n",
              "      <td>4.4</td>\n",
              "      <td>Relaxed,Euphoric,Happy,Uplifted,Hungry</td>\n",
              "      <td>Earthy,Sweet,Pungent</td>\n",
              "      <td>The 3 Kings marijuana strain, a holy trinity o...</td>\n",
              "    </tr>\n",
              "  </tbody>\n",
              "</table>\n",
              "</div>"
            ],
            "text/plain": [
              "           Strain  ...                                        Description\n",
              "0          100-Og  ...  $100 OG is a 50/50 hybrid strain that packs a ...\n",
              "1  98-White-Widow  ...  The ‘98 Aloha White Widow is an especially pot...\n",
              "2            1024  ...  1024 is a sativa-dominant hybrid bred in Spain...\n",
              "3        13-Dawgs  ...  13 Dawgs is a hybrid of G13 and Chemdawg genet...\n",
              "4        24K-Gold  ...  Also known as Kosher Tangie, 24k Gold is a 60%...\n",
              "5      3-Bears-Og  ...  3 Bears OG by Mephisto Genetics is an autoflow...\n",
              "6         3-Kings  ...  The 3 Kings marijuana strain, a holy trinity o...\n",
              "\n",
              "[7 rows x 6 columns]"
            ]
          },
          "metadata": {
            "tags": []
          },
          "execution_count": 121
        }
      ]
    },
    {
      "cell_type": "code",
      "metadata": {
        "id": "rQeanGOqINDV",
        "colab_type": "code",
        "outputId": "8243a045-c2a2-459e-a12f-7f784f35917e",
        "colab": {
          "base_uri": "https://localhost:8080/",
          "height": 185
        }
      },
      "source": [
        "# Drop NaN values for Flavor\n",
        "df_cannabis2 = df_cannabis1.dropna(subset = ['Flavor'])\n",
        "\n",
        "print ('df_cannabis2 NaN Count')\n",
        "print (df_cannabis2.isna().sum(), '\\n')"
      ],
      "execution_count": 122,
      "outputs": [
        {
          "output_type": "stream",
          "text": [
            "df_cannabis2 NaN Count\n",
            "Strain          0\n",
            "Type            0\n",
            "Rating          0\n",
            "Effects         0\n",
            "Flavor          0\n",
            "Description    28\n",
            "dtype: int64 \n",
            "\n"
          ],
          "name": "stdout"
        }
      ]
    },
    {
      "cell_type": "code",
      "metadata": {
        "id": "BgwQgyfIXmf7",
        "colab_type": "code",
        "outputId": "3b35f311-35c0-44bb-8e0e-3de7e4ef89e5",
        "colab": {
          "base_uri": "https://localhost:8080/",
          "height": 36
        }
      },
      "source": [
        "# Compare Number of unique strains to the number of rows\n",
        "df_cannabis2['Strain'].nunique(dropna = True)"
      ],
      "execution_count": 123,
      "outputs": [
        {
          "output_type": "execute_result",
          "data": {
            "text/plain": [
              "2304"
            ]
          },
          "metadata": {
            "tags": []
          },
          "execution_count": 123
        }
      ]
    },
    {
      "cell_type": "code",
      "metadata": {
        "id": "cWmPz43GYEqB",
        "colab_type": "code",
        "outputId": "9cbaa2a8-641b-4d3b-a289-ec511d9df527",
        "colab": {
          "base_uri": "https://localhost:8080/",
          "height": 430
        }
      },
      "source": [
        "# Since there are 2351 rows but only 2304 strains, 47 strains must belong to more than one row\n",
        "# Aggregate rows corresponding to the same strain\n",
        "df_cannabis3 = df_cannabis2.astype(str).groupby('Strain').agg(','.join).reset_index()\n",
        "\n",
        "df_cannabis3_shape = df_cannabis3.shape\n",
        "print ('df_cannabis3 Shape')\n",
        "print (df_cannabis3_shape, '\\n')\n",
        "\n",
        "print ('df_cannabis3 Count')\n",
        "print (df_cannabis3.count(), '\\n')\n",
        "\n",
        "df_cannabis3.head()"
      ],
      "execution_count": 124,
      "outputs": [
        {
          "output_type": "stream",
          "text": [
            "df_cannabis3 Shape\n",
            "(2304, 6) \n",
            "\n",
            "df_cannabis3 Count\n",
            "Strain         2304\n",
            "Type           2304\n",
            "Rating         2304\n",
            "Effects        2304\n",
            "Flavor         2304\n",
            "Description    2304\n",
            "dtype: int64 \n",
            "\n"
          ],
          "name": "stdout"
        },
        {
          "output_type": "execute_result",
          "data": {
            "text/html": [
              "<div>\n",
              "<style scoped>\n",
              "    .dataframe tbody tr th:only-of-type {\n",
              "        vertical-align: middle;\n",
              "    }\n",
              "\n",
              "    .dataframe tbody tr th {\n",
              "        vertical-align: top;\n",
              "    }\n",
              "\n",
              "    .dataframe thead th {\n",
              "        text-align: right;\n",
              "    }\n",
              "</style>\n",
              "<table border=\"1\" class=\"dataframe\">\n",
              "  <thead>\n",
              "    <tr style=\"text-align: right;\">\n",
              "      <th></th>\n",
              "      <th>Strain</th>\n",
              "      <th>Type</th>\n",
              "      <th>Rating</th>\n",
              "      <th>Effects</th>\n",
              "      <th>Flavor</th>\n",
              "      <th>Description</th>\n",
              "    </tr>\n",
              "  </thead>\n",
              "  <tbody>\n",
              "    <tr>\n",
              "      <th>0</th>\n",
              "      <td>100-Og</td>\n",
              "      <td>2</td>\n",
              "      <td>4.0</td>\n",
              "      <td>Creative,Energetic,Tingly,Euphoric,Relaxed</td>\n",
              "      <td>Earthy,Sweet,Citrus</td>\n",
              "      <td>$100 OG is a 50/50 hybrid strain that packs a ...</td>\n",
              "    </tr>\n",
              "    <tr>\n",
              "      <th>1</th>\n",
              "      <td>1024</td>\n",
              "      <td>0</td>\n",
              "      <td>4.4</td>\n",
              "      <td>Uplifted,Happy,Relaxed,Energetic,Creative</td>\n",
              "      <td>Spicy/Herbal,Sage,Woody</td>\n",
              "      <td>1024 is a sativa-dominant hybrid bred in Spain...</td>\n",
              "    </tr>\n",
              "    <tr>\n",
              "      <th>2</th>\n",
              "      <td>13-Dawgs</td>\n",
              "      <td>2</td>\n",
              "      <td>4.2</td>\n",
              "      <td>Tingly,Creative,Hungry,Relaxed,Uplifted</td>\n",
              "      <td>Apricot,Citrus,Grapefruit</td>\n",
              "      <td>13 Dawgs is a hybrid of G13 and Chemdawg genet...</td>\n",
              "    </tr>\n",
              "    <tr>\n",
              "      <th>3</th>\n",
              "      <td>24K-Gold</td>\n",
              "      <td>2</td>\n",
              "      <td>4.6</td>\n",
              "      <td>Happy,Relaxed,Euphoric,Uplifted,Talkative</td>\n",
              "      <td>Citrus,Earthy,Orange</td>\n",
              "      <td>Also known as Kosher Tangie, 24k Gold is a 60%...</td>\n",
              "    </tr>\n",
              "    <tr>\n",
              "      <th>4</th>\n",
              "      <td>3-Bears-Og</td>\n",
              "      <td>1</td>\n",
              "      <td>0.0</td>\n",
              "      <td>None</td>\n",
              "      <td>None</td>\n",
              "      <td>3 Bears OG by Mephisto Genetics is an autoflow...</td>\n",
              "    </tr>\n",
              "  </tbody>\n",
              "</table>\n",
              "</div>"
            ],
            "text/plain": [
              "       Strain  ...                                        Description\n",
              "0      100-Og  ...  $100 OG is a 50/50 hybrid strain that packs a ...\n",
              "1        1024  ...  1024 is a sativa-dominant hybrid bred in Spain...\n",
              "2    13-Dawgs  ...  13 Dawgs is a hybrid of G13 and Chemdawg genet...\n",
              "3    24K-Gold  ...  Also known as Kosher Tangie, 24k Gold is a 60%...\n",
              "4  3-Bears-Og  ...  3 Bears OG by Mephisto Genetics is an autoflow...\n",
              "\n",
              "[5 rows x 6 columns]"
            ]
          },
          "metadata": {
            "tags": []
          },
          "execution_count": 124
        }
      ]
    },
    {
      "cell_type": "code",
      "metadata": {
        "id": "uQCOL5XjEJdt",
        "colab_type": "code",
        "outputId": "bfc800d2-ca20-48bd-9b1f-6978d3be5ea6",
        "colab": {
          "base_uri": "https://localhost:8080/",
          "height": 111
        }
      },
      "source": [
        "# Identify entries in Type and Rating where aggregation left double values\n",
        "df_cannabis3['Type'].value_counts()"
      ],
      "execution_count": 125,
      "outputs": [
        {
          "output_type": "execute_result",
          "data": {
            "text/plain": [
              "2      1185\n",
              "1       687\n",
              "0       431\n",
              "2,2       1\n",
              "Name: Type, dtype: int64"
            ]
          },
          "metadata": {
            "tags": []
          },
          "execution_count": 125
        }
      ]
    },
    {
      "cell_type": "code",
      "metadata": {
        "id": "7EBlNCRQEoBG",
        "colab_type": "code",
        "outputId": "6ee4e83d-627c-4396-8c41-6f4899c31499",
        "colab": {
          "base_uri": "https://localhost:8080/",
          "height": 522
        }
      },
      "source": [
        "df_cannabis3['Rating'].value_counts()"
      ],
      "execution_count": 126,
      "outputs": [
        {
          "output_type": "execute_result",
          "data": {
            "text/plain": [
              "4.5        314\n",
              "4.3        295\n",
              "4.4        284\n",
              "4.6        241\n",
              "4.2        223\n",
              "5.0        197\n",
              "4.7        162\n",
              "4.8        156\n",
              "4.1         98\n",
              "4.0         96\n",
              "0.0         66\n",
              "4.9         59\n",
              "3.9         28\n",
              "3.8         21\n",
              "3.7         15\n",
              "3.0         13\n",
              "3.6         11\n",
              "3.5          8\n",
              "3.4          5\n",
              "3.2          3\n",
              "3.3          3\n",
              "2.0          2\n",
              "5.0,5.0      1\n",
              "3.1          1\n",
              "1.0          1\n",
              "2.8          1\n",
              "Name: Rating, dtype: int64"
            ]
          },
          "metadata": {
            "tags": []
          },
          "execution_count": 126
        }
      ]
    },
    {
      "cell_type": "code",
      "metadata": {
        "id": "R3OidgMoE0Tj",
        "colab_type": "code",
        "outputId": "3707a229-7240-4acf-9337-4fdccfab211f",
        "colab": {
          "base_uri": "https://localhost:8080/",
          "height": 111
        }
      },
      "source": [
        "# Resolve double entries in Type and Rating due to aggregation\n",
        "df_cannabis3.Type[df_cannabis3.Type == '2,2'] = 2\n",
        "df_cannabis3['Type'].value_counts()"
      ],
      "execution_count": 127,
      "outputs": [
        {
          "output_type": "execute_result",
          "data": {
            "text/plain": [
              "2    1185\n",
              "1     687\n",
              "0     431\n",
              "2       1\n",
              "Name: Type, dtype: int64"
            ]
          },
          "metadata": {
            "tags": []
          },
          "execution_count": 127
        }
      ]
    },
    {
      "cell_type": "code",
      "metadata": {
        "id": "UUPUsWA77svh",
        "colab_type": "code",
        "outputId": "41a7c8f1-8e0a-494a-f289-1cf6ba08a88d",
        "colab": {
          "base_uri": "https://localhost:8080/",
          "height": 92
        }
      },
      "source": [
        "import numpy as np\n",
        "type_distribution = df_cannabis3['Type'].value_counts()\n",
        "\n",
        "type_distribution.iloc[0] = type_distribution.iloc[3] + type_distribution.iloc[0]\n",
        "type_distribution = type_distribution.drop(type_distribution.index[3])\n",
        "print(type_distribution)"
      ],
      "execution_count": 128,
      "outputs": [
        {
          "output_type": "stream",
          "text": [
            "2    1186\n",
            "1     687\n",
            "0     431\n",
            "Name: Type, dtype: int64\n"
          ],
          "name": "stdout"
        }
      ]
    },
    {
      "cell_type": "code",
      "metadata": {
        "id": "wuKukBx2EAul",
        "colab_type": "code",
        "outputId": "cb91318e-409d-4a78-c8c7-73b2ad569d86",
        "colab": {
          "base_uri": "https://localhost:8080/",
          "height": 278
        }
      },
      "source": [
        "x = list(type_distribution.index)\n",
        "y = list(type_distribution)\n",
        "\n",
        "plt.bar(x,y,align='center')\n",
        "plt.xlabel('Type')\n",
        "plt.ylabel('Frequency')\n",
        "\n",
        "plt.show()"
      ],
      "execution_count": 129,
      "outputs": [
        {
          "output_type": "display_data",
          "data": {
            "image/png": "[encoded data removed]",
            "text/plain": [
              "<Figure size 432x288 with 1 Axes>"
            ]
          },
          "metadata": {
            "tags": []
          }
        }
      ]
    },
    {
      "cell_type": "code",
      "metadata": {
        "id": "7qGRCFWrF_K2",
        "colab_type": "code",
        "outputId": "bb5ea31f-5713-486a-c72b-6ae312eb1db9",
        "colab": {
          "base_uri": "https://localhost:8080/",
          "height": 522
        }
      },
      "source": [
        "df_cannabis3.Rating[df_cannabis3.Rating == '5.0,5.0'] = 5.0\n",
        "df_cannabis3['Rating'].value_counts()"
      ],
      "execution_count": 130,
      "outputs": [
        {
          "output_type": "execute_result",
          "data": {
            "text/plain": [
              "4.5    314\n",
              "4.3    295\n",
              "4.4    284\n",
              "4.6    241\n",
              "4.2    223\n",
              "5.0    197\n",
              "4.7    162\n",
              "4.8    156\n",
              "4.1     98\n",
              "4.0     96\n",
              "0.0     66\n",
              "4.9     59\n",
              "3.9     28\n",
              "3.8     21\n",
              "3.7     15\n",
              "3.0     13\n",
              "3.6     11\n",
              "3.5      8\n",
              "3.4      5\n",
              "3.3      3\n",
              "3.2      3\n",
              "2.0      2\n",
              "1.0      1\n",
              "3.1      1\n",
              "2.8      1\n",
              "5.0      1\n",
              "Name: Rating, dtype: int64"
            ]
          },
          "metadata": {
            "tags": []
          },
          "execution_count": 130
        }
      ]
    },
    {
      "cell_type": "code",
      "metadata": {
        "id": "TxFRBfdrIK4P",
        "colab_type": "code",
        "outputId": "eb7ce05c-7952-4bcd-e33c-12d65471a75b",
        "colab": {
          "base_uri": "https://localhost:8080/",
          "height": 503
        }
      },
      "source": [
        "rating_distribution = df_cannabis3['Rating'].value_counts()\n",
        "\n",
        "rating_distribution.iloc[5] = rating_distribution.iloc[5] + rating_distribution.iloc[25]\n",
        "rating_distribution = rating_distribution.drop(rating_distribution.index[25])\n",
        "print(rating_distribution)"
      ],
      "execution_count": 131,
      "outputs": [
        {
          "output_type": "stream",
          "text": [
            "4.5    314\n",
            "4.3    295\n",
            "4.4    284\n",
            "4.6    241\n",
            "4.2    223\n",
            "5.0    198\n",
            "4.7    162\n",
            "4.8    156\n",
            "4.1     98\n",
            "4.0     96\n",
            "0.0     66\n",
            "4.9     59\n",
            "3.9     28\n",
            "3.8     21\n",
            "3.7     15\n",
            "3.0     13\n",
            "3.6     11\n",
            "3.5      8\n",
            "3.4      5\n",
            "3.3      3\n",
            "3.2      3\n",
            "2.0      2\n",
            "1.0      1\n",
            "3.1      1\n",
            "2.8      1\n",
            "Name: Rating, dtype: int64\n"
          ],
          "name": "stdout"
        }
      ]
    },
    {
      "cell_type": "code",
      "metadata": {
        "id": "AWGlJRKVI4Zn",
        "colab_type": "code",
        "outputId": "f542fd34-727e-4e90-f509-d5fe3c44a6ac",
        "colab": {
          "base_uri": "https://localhost:8080/",
          "height": 301
        }
      },
      "source": [
        "x = list(rating_distribution.index)\n",
        "y = list(rating_distribution)\n",
        "\n",
        "fig, ax = plt.subplots()\n",
        "ax.set_title('Rating Frequencies')\n",
        "plt.bar(x,y,align='center')\n",
        "plt.setp(ax.get_xticklabels(), ha=\"right\", rotation=45)\n",
        "plt.rc('xtick', labelsize=8)    # fontsize of the tick labels\n",
        "plt.xlabel('Rating')\n",
        "plt.ylabel('Frequency')\n",
        "\n",
        "plt.show()"
      ],
      "execution_count": 132,
      "outputs": [
        {
          "output_type": "display_data",
          "data": {
            "image/png": "[encoded data removed]",
            "text/plain": [
              "<Figure size 432x288 with 1 Axes>"
            ]
          },
          "metadata": {
            "tags": []
          }
        }
      ]
    },
    {
      "cell_type": "code",
      "metadata": {
        "id": "nmP1cAKuvKL8",
        "colab_type": "code",
        "outputId": "607b5b80-367f-473c-e3a6-de150897dc6f",
        "colab": {
          "base_uri": "https://localhost:8080/",
          "height": 430
        }
      },
      "source": [
        "# Drop rows where Effects are None or Flavor is None\n",
        "df_cannabis4 = df_cannabis3[df_cannabis3.astype(str).ne('None').all(1)]\n",
        "\n",
        "df_cannabis4_shape = df_cannabis4.shape\n",
        "print ('df_cannabis4 Shape')\n",
        "print (df_cannabis4_shape, '\\n')\n",
        "\n",
        "print ('df_cannabis4 Count')\n",
        "print (df_cannabis4.count(), '\\n')\n",
        "\n",
        "df_cannabis4.head()"
      ],
      "execution_count": 133,
      "outputs": [
        {
          "output_type": "stream",
          "text": [
            "df_cannabis4 Shape\n",
            "(2190, 6) \n",
            "\n",
            "df_cannabis4 Count\n",
            "Strain         2190\n",
            "Type           2190\n",
            "Rating         2190\n",
            "Effects        2190\n",
            "Flavor         2190\n",
            "Description    2190\n",
            "dtype: int64 \n",
            "\n"
          ],
          "name": "stdout"
        },
        {
          "output_type": "execute_result",
          "data": {
            "text/html": [
              "<div>\n",
              "<style scoped>\n",
              "    .dataframe tbody tr th:only-of-type {\n",
              "        vertical-align: middle;\n",
              "    }\n",
              "\n",
              "    .dataframe tbody tr th {\n",
              "        vertical-align: top;\n",
              "    }\n",
              "\n",
              "    .dataframe thead th {\n",
              "        text-align: right;\n",
              "    }\n",
              "</style>\n",
              "<table border=\"1\" class=\"dataframe\">\n",
              "  <thead>\n",
              "    <tr style=\"text-align: right;\">\n",
              "      <th></th>\n",
              "      <th>Strain</th>\n",
              "      <th>Type</th>\n",
              "      <th>Rating</th>\n",
              "      <th>Effects</th>\n",
              "      <th>Flavor</th>\n",
              "      <th>Description</th>\n",
              "    </tr>\n",
              "  </thead>\n",
              "  <tbody>\n",
              "    <tr>\n",
              "      <th>0</th>\n",
              "      <td>100-Og</td>\n",
              "      <td>2</td>\n",
              "      <td>4.0</td>\n",
              "      <td>Creative,Energetic,Tingly,Euphoric,Relaxed</td>\n",
              "      <td>Earthy,Sweet,Citrus</td>\n",
              "      <td>$100 OG is a 50/50 hybrid strain that packs a ...</td>\n",
              "    </tr>\n",
              "    <tr>\n",
              "      <th>1</th>\n",
              "      <td>1024</td>\n",
              "      <td>0</td>\n",
              "      <td>4.4</td>\n",
              "      <td>Uplifted,Happy,Relaxed,Energetic,Creative</td>\n",
              "      <td>Spicy/Herbal,Sage,Woody</td>\n",
              "      <td>1024 is a sativa-dominant hybrid bred in Spain...</td>\n",
              "    </tr>\n",
              "    <tr>\n",
              "      <th>2</th>\n",
              "      <td>13-Dawgs</td>\n",
              "      <td>2</td>\n",
              "      <td>4.2</td>\n",
              "      <td>Tingly,Creative,Hungry,Relaxed,Uplifted</td>\n",
              "      <td>Apricot,Citrus,Grapefruit</td>\n",
              "      <td>13 Dawgs is a hybrid of G13 and Chemdawg genet...</td>\n",
              "    </tr>\n",
              "    <tr>\n",
              "      <th>3</th>\n",
              "      <td>24K-Gold</td>\n",
              "      <td>2</td>\n",
              "      <td>4.6</td>\n",
              "      <td>Happy,Relaxed,Euphoric,Uplifted,Talkative</td>\n",
              "      <td>Citrus,Earthy,Orange</td>\n",
              "      <td>Also known as Kosher Tangie, 24k Gold is a 60%...</td>\n",
              "    </tr>\n",
              "    <tr>\n",
              "      <th>5</th>\n",
              "      <td>3-Kings</td>\n",
              "      <td>2</td>\n",
              "      <td>4.4</td>\n",
              "      <td>Relaxed,Euphoric,Happy,Uplifted,Hungry</td>\n",
              "      <td>Earthy,Sweet,Pungent</td>\n",
              "      <td>The 3 Kings marijuana strain, a holy trinity o...</td>\n",
              "    </tr>\n",
              "  </tbody>\n",
              "</table>\n",
              "</div>"
            ],
            "text/plain": [
              "     Strain  ...                                        Description\n",
              "0    100-Og  ...  $100 OG is a 50/50 hybrid strain that packs a ...\n",
              "1      1024  ...  1024 is a sativa-dominant hybrid bred in Spain...\n",
              "2  13-Dawgs  ...  13 Dawgs is a hybrid of G13 and Chemdawg genet...\n",
              "3  24K-Gold  ...  Also known as Kosher Tangie, 24k Gold is a 60%...\n",
              "5   3-Kings  ...  The 3 Kings marijuana strain, a holy trinity o...\n",
              "\n",
              "[5 rows x 6 columns]"
            ]
          },
          "metadata": {
            "tags": []
          },
          "execution_count": 133
        }
      ]
    },
    {
      "cell_type": "code",
      "metadata": {
        "id": "niRqOhBpI3o1",
        "colab_type": "code",
        "outputId": "7e827da1-fc38-4e39-ffee-3410b9ee9d8d",
        "colab": {
          "base_uri": "https://localhost:8080/",
          "height": 206
        }
      },
      "source": [
        "# Drop Description column\n",
        "df_cannabis5 = df_cannabis4.drop(['Description'], axis=1)\n",
        "\n",
        "df_cannabis5.head()"
      ],
      "execution_count": 134,
      "outputs": [
        {
          "output_type": "execute_result",
          "data": {
            "text/html": [
              "<div>\n",
              "<style scoped>\n",
              "    .dataframe tbody tr th:only-of-type {\n",
              "        vertical-align: middle;\n",
              "    }\n",
              "\n",
              "    .dataframe tbody tr th {\n",
              "        vertical-align: top;\n",
              "    }\n",
              "\n",
              "    .dataframe thead th {\n",
              "        text-align: right;\n",
              "    }\n",
              "</style>\n",
              "<table border=\"1\" class=\"dataframe\">\n",
              "  <thead>\n",
              "    <tr style=\"text-align: right;\">\n",
              "      <th></th>\n",
              "      <th>Strain</th>\n",
              "      <th>Type</th>\n",
              "      <th>Rating</th>\n",
              "      <th>Effects</th>\n",
              "      <th>Flavor</th>\n",
              "    </tr>\n",
              "  </thead>\n",
              "  <tbody>\n",
              "    <tr>\n",
              "      <th>0</th>\n",
              "      <td>100-Og</td>\n",
              "      <td>2</td>\n",
              "      <td>4.0</td>\n",
              "      <td>Creative,Energetic,Tingly,Euphoric,Relaxed</td>\n",
              "      <td>Earthy,Sweet,Citrus</td>\n",
              "    </tr>\n",
              "    <tr>\n",
              "      <th>1</th>\n",
              "      <td>1024</td>\n",
              "      <td>0</td>\n",
              "      <td>4.4</td>\n",
              "      <td>Uplifted,Happy,Relaxed,Energetic,Creative</td>\n",
              "      <td>Spicy/Herbal,Sage,Woody</td>\n",
              "    </tr>\n",
              "    <tr>\n",
              "      <th>2</th>\n",
              "      <td>13-Dawgs</td>\n",
              "      <td>2</td>\n",
              "      <td>4.2</td>\n",
              "      <td>Tingly,Creative,Hungry,Relaxed,Uplifted</td>\n",
              "      <td>Apricot,Citrus,Grapefruit</td>\n",
              "    </tr>\n",
              "    <tr>\n",
              "      <th>3</th>\n",
              "      <td>24K-Gold</td>\n",
              "      <td>2</td>\n",
              "      <td>4.6</td>\n",
              "      <td>Happy,Relaxed,Euphoric,Uplifted,Talkative</td>\n",
              "      <td>Citrus,Earthy,Orange</td>\n",
              "    </tr>\n",
              "    <tr>\n",
              "      <th>5</th>\n",
              "      <td>3-Kings</td>\n",
              "      <td>2</td>\n",
              "      <td>4.4</td>\n",
              "      <td>Relaxed,Euphoric,Happy,Uplifted,Hungry</td>\n",
              "      <td>Earthy,Sweet,Pungent</td>\n",
              "    </tr>\n",
              "  </tbody>\n",
              "</table>\n",
              "</div>"
            ],
            "text/plain": [
              "     Strain  ...                     Flavor\n",
              "0    100-Og  ...        Earthy,Sweet,Citrus\n",
              "1      1024  ...    Spicy/Herbal,Sage,Woody\n",
              "2  13-Dawgs  ...  Apricot,Citrus,Grapefruit\n",
              "3  24K-Gold  ...       Citrus,Earthy,Orange\n",
              "5   3-Kings  ...       Earthy,Sweet,Pungent\n",
              "\n",
              "[5 rows x 5 columns]"
            ]
          },
          "metadata": {
            "tags": []
          },
          "execution_count": 134
        }
      ]
    },
    {
      "cell_type": "code",
      "metadata": {
        "id": "dk7SrClhSArP",
        "colab_type": "code",
        "colab": {}
      },
      "source": [
        "# Function for sorting words alphabetically\n",
        "\n",
        "def sortedSentence(Sentence): \n",
        "      \n",
        "    # Spliting the Sentence into words \n",
        "    words = Sentence.split(\" \") \n",
        "      \n",
        "    # Sorting the words \n",
        "    words.sort() \n",
        "      \n",
        "    # Making new Sentence by  \n",
        "    # joining the sorted words \n",
        "    newSentence = \" \".join(words) \n",
        "      \n",
        "    # Return newSentence \n",
        "    return newSentence "
      ],
      "execution_count": 0,
      "outputs": []
    },
    {
      "cell_type": "code",
      "metadata": {
        "id": "AlAebjIsLOGP",
        "colab_type": "code",
        "outputId": "3fda035f-a814-40fd-f528-220d748ed881",
        "colab": {
          "base_uri": "https://localhost:8080/",
          "height": 206
        }
      },
      "source": [
        "# Sort entries alphabetically in Effects (as order has no meaning)\n",
        "\n",
        "# Replace commas with spaces \n",
        "df_cannabis5 = df_cannabis5.stack().str.replace(',',' ').unstack()\n",
        "\n",
        "df_cannabis5['Effects'] = [sortedSentence(x) for x in df_cannabis5['Effects']]\n",
        "\n",
        "# Replace spaces with commas \n",
        "df_cannabis5 = df_cannabis5.stack().str.replace(' ',',').unstack()\n",
        " \n",
        "df_cannabis5.head()"
      ],
      "execution_count": 136,
      "outputs": [
        {
          "output_type": "execute_result",
          "data": {
            "text/html": [
              "<div>\n",
              "<style scoped>\n",
              "    .dataframe tbody tr th:only-of-type {\n",
              "        vertical-align: middle;\n",
              "    }\n",
              "\n",
              "    .dataframe tbody tr th {\n",
              "        vertical-align: top;\n",
              "    }\n",
              "\n",
              "    .dataframe thead th {\n",
              "        text-align: right;\n",
              "    }\n",
              "</style>\n",
              "<table border=\"1\" class=\"dataframe\">\n",
              "  <thead>\n",
              "    <tr style=\"text-align: right;\">\n",
              "      <th></th>\n",
              "      <th>Strain</th>\n",
              "      <th>Type</th>\n",
              "      <th>Rating</th>\n",
              "      <th>Effects</th>\n",
              "      <th>Flavor</th>\n",
              "    </tr>\n",
              "  </thead>\n",
              "  <tbody>\n",
              "    <tr>\n",
              "      <th>0</th>\n",
              "      <td>100-Og</td>\n",
              "      <td>2</td>\n",
              "      <td>4.0</td>\n",
              "      <td>Creative,Energetic,Euphoric,Relaxed,Tingly</td>\n",
              "      <td>Earthy,Sweet,Citrus</td>\n",
              "    </tr>\n",
              "    <tr>\n",
              "      <th>1</th>\n",
              "      <td>1024</td>\n",
              "      <td>0</td>\n",
              "      <td>4.4</td>\n",
              "      <td>Creative,Energetic,Happy,Relaxed,Uplifted</td>\n",
              "      <td>Spicy/Herbal,Sage,Woody</td>\n",
              "    </tr>\n",
              "    <tr>\n",
              "      <th>2</th>\n",
              "      <td>13-Dawgs</td>\n",
              "      <td>2</td>\n",
              "      <td>4.2</td>\n",
              "      <td>Creative,Hungry,Relaxed,Tingly,Uplifted</td>\n",
              "      <td>Apricot,Citrus,Grapefruit</td>\n",
              "    </tr>\n",
              "    <tr>\n",
              "      <th>3</th>\n",
              "      <td>24K-Gold</td>\n",
              "      <td>2</td>\n",
              "      <td>4.6</td>\n",
              "      <td>Euphoric,Happy,Relaxed,Talkative,Uplifted</td>\n",
              "      <td>Citrus,Earthy,Orange</td>\n",
              "    </tr>\n",
              "    <tr>\n",
              "      <th>5</th>\n",
              "      <td>3-Kings</td>\n",
              "      <td>2</td>\n",
              "      <td>4.4</td>\n",
              "      <td>Euphoric,Happy,Hungry,Relaxed,Uplifted</td>\n",
              "      <td>Earthy,Sweet,Pungent</td>\n",
              "    </tr>\n",
              "  </tbody>\n",
              "</table>\n",
              "</div>"
            ],
            "text/plain": [
              "     Strain  ...                     Flavor\n",
              "0    100-Og  ...        Earthy,Sweet,Citrus\n",
              "1      1024  ...    Spicy/Herbal,Sage,Woody\n",
              "2  13-Dawgs  ...  Apricot,Citrus,Grapefruit\n",
              "3  24K-Gold  ...       Citrus,Earthy,Orange\n",
              "5   3-Kings  ...       Earthy,Sweet,Pungent\n",
              "\n",
              "[5 rows x 5 columns]"
            ]
          },
          "metadata": {
            "tags": []
          },
          "execution_count": 136
        }
      ]
    },
    {
      "cell_type": "code",
      "metadata": {
        "id": "eTHH149tTXTr",
        "colab_type": "code",
        "outputId": "51299ee4-a049-4c5d-b32a-277ee0c3c265",
        "colab": {
          "base_uri": "https://localhost:8080/",
          "height": 206
        }
      },
      "source": [
        "# Sort entries alphabetically in Flavor (as order has no meaning)\n",
        "\n",
        "# Replace commas with spaces \n",
        "df_cannabis5 = df_cannabis5.stack().str.replace(',',' ').unstack()\n",
        "\n",
        "df_cannabis5['Flavor'] = [sortedSentence(x) for x in df_cannabis5['Flavor']]\n",
        "\n",
        "# Replace spaces with commas \n",
        "df_cannabis5 = df_cannabis5.stack().str.replace(' ',',').unstack()\n",
        " \n",
        "df_cannabis5.head()"
      ],
      "execution_count": 137,
      "outputs": [
        {
          "output_type": "execute_result",
          "data": {
            "text/html": [
              "<div>\n",
              "<style scoped>\n",
              "    .dataframe tbody tr th:only-of-type {\n",
              "        vertical-align: middle;\n",
              "    }\n",
              "\n",
              "    .dataframe tbody tr th {\n",
              "        vertical-align: top;\n",
              "    }\n",
              "\n",
              "    .dataframe thead th {\n",
              "        text-align: right;\n",
              "    }\n",
              "</style>\n",
              "<table border=\"1\" class=\"dataframe\">\n",
              "  <thead>\n",
              "    <tr style=\"text-align: right;\">\n",
              "      <th></th>\n",
              "      <th>Strain</th>\n",
              "      <th>Type</th>\n",
              "      <th>Rating</th>\n",
              "      <th>Effects</th>\n",
              "      <th>Flavor</th>\n",
              "    </tr>\n",
              "  </thead>\n",
              "  <tbody>\n",
              "    <tr>\n",
              "      <th>0</th>\n",
              "      <td>100-Og</td>\n",
              "      <td>2</td>\n",
              "      <td>4.0</td>\n",
              "      <td>Creative,Energetic,Euphoric,Relaxed,Tingly</td>\n",
              "      <td>Citrus,Earthy,Sweet</td>\n",
              "    </tr>\n",
              "    <tr>\n",
              "      <th>1</th>\n",
              "      <td>1024</td>\n",
              "      <td>0</td>\n",
              "      <td>4.4</td>\n",
              "      <td>Creative,Energetic,Happy,Relaxed,Uplifted</td>\n",
              "      <td>Sage,Spicy/Herbal,Woody</td>\n",
              "    </tr>\n",
              "    <tr>\n",
              "      <th>2</th>\n",
              "      <td>13-Dawgs</td>\n",
              "      <td>2</td>\n",
              "      <td>4.2</td>\n",
              "      <td>Creative,Hungry,Relaxed,Tingly,Uplifted</td>\n",
              "      <td>Apricot,Citrus,Grapefruit</td>\n",
              "    </tr>\n",
              "    <tr>\n",
              "      <th>3</th>\n",
              "      <td>24K-Gold</td>\n",
              "      <td>2</td>\n",
              "      <td>4.6</td>\n",
              "      <td>Euphoric,Happy,Relaxed,Talkative,Uplifted</td>\n",
              "      <td>Citrus,Earthy,Orange</td>\n",
              "    </tr>\n",
              "    <tr>\n",
              "      <th>5</th>\n",
              "      <td>3-Kings</td>\n",
              "      <td>2</td>\n",
              "      <td>4.4</td>\n",
              "      <td>Euphoric,Happy,Hungry,Relaxed,Uplifted</td>\n",
              "      <td>Earthy,Pungent,Sweet</td>\n",
              "    </tr>\n",
              "  </tbody>\n",
              "</table>\n",
              "</div>"
            ],
            "text/plain": [
              "     Strain  ...                     Flavor\n",
              "0    100-Og  ...        Citrus,Earthy,Sweet\n",
              "1      1024  ...    Sage,Spicy/Herbal,Woody\n",
              "2  13-Dawgs  ...  Apricot,Citrus,Grapefruit\n",
              "3  24K-Gold  ...       Citrus,Earthy,Orange\n",
              "5   3-Kings  ...       Earthy,Pungent,Sweet\n",
              "\n",
              "[5 rows x 5 columns]"
            ]
          },
          "metadata": {
            "tags": []
          },
          "execution_count": 137
        }
      ]
    },
    {
      "cell_type": "code",
      "metadata": {
        "id": "E-nrGw4-T0ED",
        "colab_type": "code",
        "outputId": "6961cf35-97f1-48a7-a439-0e6b22f5c09c",
        "colab": {
          "base_uri": "https://localhost:8080/",
          "height": 241
        }
      },
      "source": [
        "# Embarking upon a process akin to tokenization for Effects and Flavor features\n",
        "# Determine all of the Flavor choice sets\n",
        "df_cannabis5['Flavor'].value_counts()"
      ],
      "execution_count": 138,
      "outputs": [
        {
          "output_type": "execute_result",
          "data": {
            "text/plain": [
              "Earthy,Pungent,Sweet           78\n",
              "Citrus,Earthy,Sweet            52\n",
              "Berry,Earthy,Sweet             51\n",
              "Earthy,Sweet,Woody             42\n",
              "Berry,Blueberry,Sweet          40\n",
              "                               ..\n",
              "Ammonia,Earthy,Pepper           1\n",
              "Flowery,Pepper,Spicy/Herbal     1\n",
              "Berry,Lemon,Orange              1\n",
              "Apple                           1\n",
              "Pine,Skunk,Woody                1\n",
              "Name: Flavor, Length: 800, dtype: int64"
            ]
          },
          "metadata": {
            "tags": []
          },
          "execution_count": 138
        }
      ]
    },
    {
      "cell_type": "code",
      "metadata": {
        "id": "C277ddzCLCt4",
        "colab_type": "code",
        "outputId": "73dbcd7f-534d-49ca-9829-5389050106f8",
        "colab": {
          "base_uri": "https://localhost:8080/",
          "height": 405
        }
      },
      "source": [
        "flavor_set_distribution = df_cannabis5['Flavor'].value_counts()\n",
        "\n",
        "x = list(flavor_set_distribution.index)\n",
        "y = list(flavor_set_distribution)\n",
        "\n",
        "fig, ax = plt.subplots()\n",
        "ax.set_title('Flavor Set Frequencies')\n",
        "plt.bar(x,y,align='center')\n",
        "plt.setp(ax.get_xticklabels(), ha=\"right\", rotation=45)\n",
        "plt.rc('xtick', labelsize=0)    # fontsize of the tick labels\n",
        "ax.set_ylim([0,60])\n",
        "plt.xlabel('Flavor Set')\n",
        "plt.ylabel('Frequency')\n",
        "\n",
        "plt.show()"
      ],
      "execution_count": 139,
      "outputs": [
        {
          "output_type": "display_data",
          "data": {
            "image/png": "[encoded data removed]",
            "text/plain": [
              "<Figure size 432x288 with 1 Axes>"
            ]
          },
          "metadata": {
            "tags": []
          }
        }
      ]
    },
    {
      "cell_type": "code",
      "metadata": {
        "id": "vnI6vXPeJA2T",
        "colab_type": "code",
        "outputId": "b013042d-8731-4947-ca49-2fd53596fcae",
        "colab": {
          "base_uri": "https://localhost:8080/",
          "height": 952
        }
      },
      "source": [
        "# Determine all of the individual Flavor choices\n",
        "df_cannabis5['Flavor'].str.split(',', expand=True).stack().value_counts()"
      ],
      "execution_count": 140,
      "outputs": [
        {
          "output_type": "execute_result",
          "data": {
            "text/plain": [
              "Earthy          1105\n",
              "Sweet           1052\n",
              "Citrus           526\n",
              "Pungent          451\n",
              "Berry            355\n",
              "Pine             300\n",
              "Flowery          266\n",
              "Woody            255\n",
              "Diesel           240\n",
              "Spicy/Herbal     225\n",
              "Lemon            189\n",
              "Skunk            174\n",
              "Tropical         153\n",
              "Blueberry        145\n",
              "Grape            126\n",
              "Orange            77\n",
              "Cheese            68\n",
              "Pepper            58\n",
              "Lime              53\n",
              "Strawberry        47\n",
              "Pineapple         42\n",
              "Minty             41\n",
              "Sage              39\n",
              "Grapefruit        38\n",
              "Lavender          37\n",
              "Chemical          37\n",
              "Tree              34\n",
              "Fruit             34\n",
              "Vanilla           34\n",
              "Mango             32\n",
              "Honey             31\n",
              "Ammonia           28\n",
              "Nutty             25\n",
              "Coffee            24\n",
              "Menthol           23\n",
              "Butter            19\n",
              "Mint              18\n",
              "Tea               17\n",
              "Apple             16\n",
              "Rose              16\n",
              "Tobacco            9\n",
              "Blue               9\n",
              "Apricot            9\n",
              "Tar                8\n",
              "Violet             7\n",
              "Chestnut           7\n",
              "Peach              5\n",
              "Pear               3\n",
              "Plum               2\n",
              "dtype: int64"
            ]
          },
          "metadata": {
            "tags": []
          },
          "execution_count": 140
        }
      ]
    },
    {
      "cell_type": "code",
      "metadata": {
        "id": "KFGVMudwJxLq",
        "colab_type": "code",
        "outputId": "a9bd1be2-3f67-4387-e081-0591454dc336",
        "colab": {
          "base_uri": "https://localhost:8080/",
          "height": 291
        }
      },
      "source": [
        "flavor_distribution = df_cannabis5['Flavor'].str.split(',', expand=True).stack().value_counts()\n",
        "\n",
        "x = list(flavor_distribution.index)\n",
        "y = list(flavor_distribution)\n",
        "\n",
        "fig, ax = plt.subplots()\n",
        "ax.set_title('Flavor Frequencies')\n",
        "plt.bar(x,y,align='center')\n",
        "plt.setp(ax.get_xticklabels(), ha=\"right\", rotation=45)\n",
        "plt.rc('xtick', labelsize=4)    # fontsize of the tick labels\n",
        "plt.xlabel('Flavor')\n",
        "plt.ylabel('Frequency')\n",
        "\n",
        "plt.show()"
      ],
      "execution_count": 141,
      "outputs": [
        {
          "output_type": "display_data",
          "data": {
            "image/png": "[encoded data removed]",
            "text/plain": [
              "<Figure size 432x288 with 1 Axes>"
            ]
          },
          "metadata": {
            "tags": []
          }
        }
      ]
    },
    {
      "cell_type": "code",
      "metadata": {
        "id": "Iux2Qsh_UUgy",
        "colab_type": "code",
        "outputId": "f4615458-40c2-46f9-a95c-fb93fc2010b1",
        "colab": {
          "base_uri": "https://localhost:8080/",
          "height": 56
        }
      },
      "source": [
        "# Get list of flavor choice sets\n",
        "flavor_set_list = list(df_cannabis5['Flavor'].unique())\n",
        "print(flavor_set_list)"
      ],
      "execution_count": 142,
      "outputs": [
        {
          "output_type": "stream",
          "text": [
            "['Citrus,Earthy,Sweet', 'Sage,Spicy/Herbal,Woody', 'Apricot,Citrus,Grapefruit', 'Citrus,Earthy,Orange', 'Earthy,Pungent,Sweet', 'Citrus,Earthy,Pungent', 'Earthy,Flowery,Woody', 'Diesel,Pine', 'Earthy,Grape,Sweet', 'Earthy,Pine,Skunk', 'Earthy,Pine,Woody', 'Earthy,Pungent,Woody', 'Citrus,Earthy,Pine', 'Diesel,Earthy,Flowery', 'Berry,Earthy,Sweet', 'Berry,Earthy,Pungent', 'Diesel,Flowery,Violet', 'Citrus,Pungent,Sweet', 'Diesel,Earthy,Pepper', 'Citrus,Earthy,Woody', 'Blue,Cheese,Chemical,Menthol', 'Diesel,Earthy,Pine', 'Diesel,Earthy,Spicy/Herbal', 'Earthy,Sweet,Woody', 'Earthy,Lemon,Mango', 'Diesel,Earthy,Lemon', 'Earthy,Flowery,Sweet', 'Citrus,Lemon,Sweet', 'Lemon,Peach,Pungent', 'Sweet,Vanilla', 'Chemical,Diesel,Earthy', 'Chestnut,Earthy,Nutty', 'Earthy,Flowery,Tea', 'Skunk,Sweet,Woody', 'Diesel,Earthy,Pungent', 'Diesel,Flowery,Sweet', 'Earthy,Pine,Sweet', 'Chemical,Flowery,Spicy/Herbal', 'Flowery,Skunk,Sweet', 'Citrus,Skunk', 'Pine,Sweet,Woody', 'Pine,Pungent,Woody', 'Earthy,Tobacco', 'Earthy,Pine,Spicy/Herbal', 'Pepper,Pungent,Spicy/Herbal', 'Citrus,Pungent,Tropical', 'Earthy,Pine,Pungent', 'Citrus,Orange,Skunk', 'Diesel,Pine,Spicy/Herbal', 'Grape,Pepper,Strawberry', 'Earthy,Spicy/Herbal,Sweet', 'Blueberry,Earthy,Mango', 'Cheese,Spicy/Herbal,Sweet', 'Diesel,Pungent,Tropical', 'Mint,Pine,Sweet', 'Earthy,Nutty,Sweet', 'Pungent,Skunk,Sweet', 'Berry,Blueberry,Sweet', 'Diesel,Earthy,Sweet', 'Citrus,Earthy,Lemon', 'Cheese,Pungent,Skunk', 'Chemical,Earthy,Grape', 'Apple,Lemon,Sweet', 'Diesel,Sage,Spicy/Herbal', 'Earthy,Spicy/Herbal,Woody', 'Citrus,Grapefruit,Sage', 'Earthy,Honey,Spicy/Herbal', 'Citrus,Sweet,Tropical', 'Blueberry,Grape,Tropical', 'Apple,Berry,Chestnut', 'Blueberry,Earthy,Sweet', 'Berry,Spicy/Herbal,Sweet', 'Berry,Blueberry,Pine', 'Earthy,Flowery,Lavender', 'Lemon,Lime,Sweet', 'Earthy,Spicy/Herbal,Tobacco', 'Berry,Lavender,Sweet', 'Earthy,Skunk,Sweet', 'Cheese,Mint,Skunk', 'Earthy,Flowery,Nutty', 'Coffee,Earthy,Flowery', 'Earthy,Grape,Lime', 'Grape,Lavender,Sweet', 'Citrus,Lemon,Pungent', 'Earthy,Pungent,Skunk', 'Grape,Sweet,Tropical', 'Apple,Earthy,Sweet', 'Apple,Diesel,Pungent', 'Apple,Berry,Sweet', 'Ammonia,Skunk', 'Earthy,Pungent,Spicy/Herbal', 'Berry,Strawberry,Sweet', 'Earthy,Mint,Minty', 'Diesel,Tropical,Woody', 'Flowery,Spicy/Herbal,Sweet', 'Pungent,Skunk,Spicy/Herbal', 'Earthy,Skunk,Woody', 'Blueberry,Earthy,Spicy/Herbal', 'Citrus,Grapefruit,Sweet', 'Ammonia,Diesel,Earthy', 'Citrus,Flowery,Sweet', 'Earthy', 'Nutty,Sage,Spicy/Herbal', 'Earthy,Flowery,Pungent', 'Citrus,Minty,Pungent', 'Earthy,Spicy/Herbal,Tropical', 'Earthy,Pungent', 'Pungent,Sage,Woody', 'Citrus,Citrus,Earthy,Earthy,Sweet,Sweet', 'Berry,Skunk,Spicy/Herbal', 'Cheese,Earthy,Pine', 'Earthy,Fruit,Sweet,Tree', 'Mint,Minty,Pine', 'Diesel,Earthy,Skunk', 'Fruit,Sweet,Tree,Tropical', 'Earthy,Sweet,Tropical', 'Grape,Tropical,Vanilla', 'Berry,Cheese,Fruit,Tree', 'Earthy,Lime,Pungent', 'Citrus,Earthy,Mango', 'Earthy,Pungent,Tropical', 'Fruit,Honey,Sweet,Tree', 'Earthy,Minty,Sweet', 'Berry,Earthy,Woody', 'Apricot,Earthy,Pine', 'Pepper,Pine,Sage', 'Cheese,Pungent,Woody', 'Citrus,Lemon,Mango', 'Butter,Earthy,Peach', 'Berry,Blueberry,Flowery', 'Berry,Citrus,Orange', 'Berry,Blueberry,Earthy', 'Blue,Cheese,Earthy,Sweet', 'Sage,Spicy/Herbal,Sweet', 'Lemon,Orange,Sweet', 'Earthy,Flowery,Skunk', 'Cheese,Earthy,Flowery', 'Earthy,Lemon,Lime', 'Citrus,Lemon,Skunk', 'Flowery,Skunk', 'Diesel,Pungent,Skunk', 'Blueberry,Nutty,Spicy/Herbal', 'Earthy,Menthol,Pine', 'Earthy,Nutty,Pungent', 'Earthy,Sage,Spicy/Herbal', 'Cheese,Earthy,Spicy/Herbal', 'Lemon,Sweet,Vanilla', 'Earthy,Grape,Pungent', 'Earthy,Pepper,Pine', 'Berry,Pungent,Sweet', 'Earthy,Flowery,Pine', 'Berry,Cheese,Sweet', 'Pepper,Pine,Woody', 'Citrus,Lime,Pepper', 'Grape,Sweet,Woody', 'Berry,Citrus,Earthy', 'Berry,Blueberry,Skunk', 'Berry,Chemical', 'Berry,Sweet,Vanilla', 'Diesel,Pungent,Spicy/Herbal', 'Grapefruit,Spicy/Herbal,Sweet', 'Berry,Lime,Sweet', 'Berry,Earthy,Grape', 'Earthy,Pungent,Vanilla', 'Chemical,Diesel,Lemon', 'Flowery,Pungent,Woody', 'Citrus,Diesel,Orange', 'Berry,Earthy,Flowery', 'Pepper,Sage,Spicy/Herbal', 'Berry,Blueberry,Spicy/Herbal', 'Blueberry,Pungent,Woody', 'Berry,Blueberry,Citrus', 'Berry,Pine', 'Sweet', 'Blueberry,Cheese,Citrus', 'Blue,Blueberry,Cheese,Cheese', 'Blueberry,Earthy', 'Fruit,Pineapple,Sweet,Tree', 'Berry,Blueberry,Diesel', 'Berry,Pine,Spicy/Herbal', 'Blueberry,Cheese,Menthol', 'Berry,Pine,Skunk', 'Blueberry,Flowery,Sweet', 'Pine,Spicy/Herbal,Woody', 'Blueberry,Earthy,Pepper', 'Blueberry,Citrus,Sweet', 'Earthy,Grape', 'Blueberry,Lemon,Pine', 'Citrus,Lemon,Tropical', 'Berry,Diesel,Sweet', 'Berry,Lavender,Strawberry', 'Earthy,Flowery,Tar', 'Blueberry,Flowery', 'Blueberry,Earthy,Pungent', 'Blueberry', 'Blueberry,Earthy,Honey', 'Berry,Flowery,Sweet', 'Earthy,Pepper,Pungent', 'Blueberry,Pungent,Sweet', 'Berry,Citrus', 'Blueberry,Cheese,Sweet', 'Blueberry,Diesel,Sweet', 'Flowery,Pine,Sweet', 'Blueberry,Mango,Sweet', 'Berry,Blueberry,Tropical', 'Blueberry,Sweet,Tropical', 'Berry,Blueberry,Vanilla', 'Flowery,Grape,Sweet', 'Earthy,Honey,Pepper', 'Chemical,Diesel,Sage', 'Citrus,Pine,Sweet', 'Earthy,Pine,Tar', 'Grape,Honey,Rose', 'Berry,Earthy,Spicy/Herbal', 'Berry,Sweet,Tropical', 'Citrus,Mango,Tropical', 'Ammonia,Earthy,Pungent', 'Diesel,Pine,Skunk', 'Earthy,Flowery,Rose', 'Blue,Cheese,Cheese,Pungent', 'Blueberry,Mint,Pepper', 'Diesel,Grape,Tropical', 'Berry,Earthy,Pine', 'Berry,Flowery,Pungent', 'Butter,Pungent,Sweet', 'Citrus,Nutty,Pine', 'Earthy,Lemon,Pungent', 'Lemon,Pine,Sweet', 'Earthy,Flowery,Lime', 'Grapefruit,Menthol,Nutty', 'Diesel,Skunk,Sweet', 'Citrus,Grapefruit,Pepper', 'Citrus', 'Citrus,Orange,Sweet', 'Citrus,Diesel,Lemon', 'Earthy,Flowery,Tropical', 'Pine,Sweet,Tropical', 'Citrus,Pungent,Skunk', 'Earthy,Grapefruit,Woody', 'Flowery,Sweet,Tropical', 'Flowery,Lavender,Rose', 'Berry,Diesel,Orange', 'Coffee,Sweet,Vanilla', 'Coffee,Vanilla,Woody', 'Menthol,Spicy/Herbal,Sweet', 'Earthy,Pine', 'Butter,Earthy,Pungent', 'Blue,Cheese,Earthy,Woody', 'Ammonia,Chemical,Earthy', 'Blueberry,Earthy,Flowery', 'Earthy,Menthol,Pungent', 'Flowery,Mango,Tropical', 'Pineapple,Spicy/Herbal,Sweet', 'Citrus,Pepper,Vanilla', 'Citrus,Diesel,Pepper', 'Cheese,Earthy,Pungent', 'Cheese,Pungent,Sweet', 'Ammonia,Citrus,Rose', 'Cheese,Pepper,Tea', 'Citrus,Lavender,Sweet', 'Earthy,Skunk,Tea', 'Diesel,Lemon,Pine', 'Flowery,Mint,Nutty', 'Diesel,Pine,Pungent', 'Citrus,Diesel,Sweet', 'Chemical,Citrus,Pungent', 'Chemical,Diesel,Pungent', 'Citrus,Lemon,Lime', 'Berry,Sage,Woody', 'Berry,Pungent,Skunk', 'Chemical,Pungent,Sweet', 'Berry,Citrus,Sweet', 'Citrus,Lime,Sweet', 'Citrus,Strawberry,Sweet', 'Ammonia,Diesel,Mint', 'Cheese,Diesel,Pungent', 'Cheese,Earthy,Sweet', 'Diesel,Nutty,Woody', 'Earthy,Vanilla', 'Chemical,Citrus,Skunk', 'Coffee,Spicy/Herbal,Woody', 'Honey,Nutty,Spicy/Herbal', 'Coffee,Earthy,Sweet', 'Earthy,Sweet,Vanilla', 'Earthy,Honey,Skunk', 'Spicy/Herbal,Sweet,Woody', 'Diesel,Pungent,Sweet', 'Flowery,Lemon,Pungent', 'Citrus,Pepper,Sweet', 'Diesel,Grape,Menthol', 'Citrus,Grapefruit,Lemon', 'Citrus,Orange,Tropical', 'Citrus,Orange,Pungent', 'Citrus,Lemon,Orange', 'Citrus,Flowery,Orange', 'Citrus,Spicy/Herbal,Sweet', 'Flowery,Rose,Tropical', 'Flowery,Pungent,Tropical', 'Citrus,Minty,Sweet', 'Mango,Pine,Pineapple', 'Grape,Sweet', 'Cheese,Pine,Woody', 'Ammonia,Diesel,Sweet', 'Flowery,Pungent,Sweet', 'Earthy,Flowery,Spicy/Herbal', 'Citrus,Lemon,Woody', 'Citrus,Sweet,Woody', 'Citrus,Pine,Pungent', 'Butter,Sweet,Vanilla', 'Butter,Honey,Sweet', 'Berry,Blueberry,Tea', 'Honey,Skunk,Sweet', 'Earthy,Sweet,Tobacco', 'Citrus,Pine,Woody', 'Pungent,Spicy/Herbal,Woody', 'Earthy,Lemon,Pine', 'Earthy,Skunk', 'Blueberry,Pine,Sweet', 'Berry,Honey,Sweet', 'Citrus,Earthy,Flowery', 'Berry,Blueberry,Grape', 'Coffee,Earthy,Spicy/Herbal', 'Ammonia,Earthy,Sweet', 'Earthy,Pepper,Spicy/Herbal', 'Citrus,Earthy,Spicy/Herbal', 'Earthy,Pine,Tropical', 'Berry,Diesel,Tropical', 'Earthy,Grape,Pine', 'Blueberry,Pineapple,Strawberry', 'Berry,Earthy,Lavender', 'Ammonia,Earthy,Plum', 'Citrus,Mango,Sweet', 'Ammonia,Lavender,Sweet', 'Pepper,Spicy/Herbal,Sweet', 'Flowery,Honey,Sweet', 'Diesel,Earthy,Woody', 'Earthy,Skunk,Spicy/Herbal', 'Apple,Lime,Sweet', 'Pungent,Spicy/Herbal,Sweet', 'Citrus,Diesel,Tropical', 'Ammonia,Minty,Spicy/Herbal', 'Citrus,Earthy', 'Citrus,Diesel,Lime', 'Earthy,Sweet,Tar', 'Lemon,Mint,Minty', 'Earthy,Nutty,Woody', 'Diesel,Earthy,Sage', 'Pineapple,Spicy/Herbal,Woody', 'Berry,Citrus,Diesel', 'Spicy/Herbal,Tea,Woody', 'Blueberry,Citrus,Pepper', 'Citrus,Lemon,Pine', 'Blue,Cheese,Cheese,Earthy', 'Citrus,Earthy,Minty', 'Citrus,Pepper,Spicy/Herbal', 'Citrus,Mint,Sweet', 'Berry,Coffee,Flowery', 'Berry,Orange,Sweet', 'Citrus,Earthy,Grapefruit', 'Ammonia,Pepper,Spicy/Herbal', 'Earthy,Sweet,Tea', 'Diesel,Lemon,Pungent', 'Lemon,Skunk,Spicy/Herbal', 'Earthy,Lemon,Spicy/Herbal', 'Pine,Spicy/Herbal,Sweet', 'Chemical,Citrus,Earthy', 'Earthy,Lime,Sweet', 'Berry,Diesel,Grape', 'Berry,Lemon,Orange', 'Pepper,Sage,Sweet', 'Skunk,Sweet,Tropical', 'Berry,Butter,Sweet', 'Earthy,Fruit,Spicy/Herbal,Tree', 'Citrus,Flowery,Pungent', 'Coffee', 'Butter,Earthy,Sweet', 'Earthy,Sage,Sweet', 'Diesel,Earthy,Grape', 'Citrus,Pungent,Sage', 'Berry,Grape,Sweet', 'Sage,Spicy/Herbal,Strawberry', 'Earthy,Spicy/Herbal,Strawberry', 'Diesel,Spicy/Herbal,Sweet', 'Lemon,Sweet,Tropical', 'Citrus,Diesel,Minty', 'Citrus,Grapefruit,Tropical', 'Earthy,Honey,Sweet', 'Honey,Pepper,Sweet', 'Earthy,Lavender,Tobacco', 'Skunk,Tobacco,Woody', 'Fruit,Sage,Spicy/Herbal,Tree', 'Berry,Earthy,Skunk', 'Flowery,Lime,Vanilla', 'Berry,Lemon,Sweet', 'Berry,Skunk,Sweet', 'Blueberry,Sweet', 'Blueberry,Minty,Sweet', 'Citrus,Diesel,Earthy', 'Berry,Minty,Sweet', 'Apple,Earthy,Grape', 'Grape,Pine,Sweet', 'Earthy,Pepper,Woody', 'Grape,Pungent,Sweet', 'Pine,Pungent,Skunk', 'Spicy/Herbal,Sweet,Tropical', 'Berry,Diesel,Earthy', 'Apple,Minty,Sweet', 'Earthy,Tea,Woody', 'Earthy,Lemon,Sage', 'Berry,Grape,Lavender', 'Berry,Pungent,Spicy/Herbal', 'Diesel', 'Citrus,Earthy,Lime', 'Earthy,Mint,Woody', 'Lime,Skunk,Sweet', 'Citrus,Pineapple,Tropical', 'Apricot,Lemon,Minty', 'Cheese,Coffee,Pine', 'Flowery,Lemon,Sweet', 'Citrus,Earthy,Honey', 'Butter,Flowery,Lemon', 'Diesel,Grape,Sweet', 'Cheese,Grape,Sweet', 'Grape,Skunk,Sweet', 'Citrus,Grape,Sweet', 'Berry,Grape,Pine', 'Citrus,Diesel,Grapefruit', 'Diesel,Earthy,Grapefruit', 'Citrus,Rose,Sweet', 'Honey,Minty,Sweet', 'Citrus,Spicy/Herbal,Woody', 'Diesel,Pine,Sweet', 'Lavender,Spicy/Herbal,Sweet', 'Chemical,Earthy,Tar', 'Cheese,Pepper,Pungent', 'Lemon,Pungent,Skunk', 'Chemical,Sweet,Tropical', 'Grapefruit,Mint,Tropical', 'Peach,Sweet,Tropical', 'Grape,Orange,Pepper', 'Berry,Blueberry,Woody', 'Earthy,Strawberry,Vanilla', 'Earthy,Mint', 'Berry,Mint,Sweet', 'Blueberry,Orange,Sweet', 'Pineapple,Sweet,Tropical', 'Citrus,Pineapple,Sweet', 'Strawberry,Sweet,Tropical', 'Lime,Minty,Sweet', 'Earthy,Tropical,Woody', 'Citrus,Lemon,Spicy/Herbal', 'Apple', 'Coffee,Earthy,Pine', 'Citrus,Skunk,Sweet', 'Minty,Sweet,Tropical', 'Citrus,Pine,Spicy/Herbal', 'Flowery,Lavender,Sweet', 'Flowery,Fruit,Grape,Tree', 'Berry,Fruit,Sweet,Tree', 'Spicy/Herbal,Vanilla,Woody', 'Flowery,Tea,Vanilla', 'Honey', 'Blueberry,Chemical,Skunk', 'Berry,Grape,Spicy/Herbal', 'Sweet,Vanilla,Woody', 'Tropical', 'Citrus,Grape,Grapefruit', 'Pungent,Strawberry,Sweet', 'Earthy,Orange,Sweet', 'Pine,Pineapple,Sweet', 'Ammonia,Mango,Tropical', 'Flowery,Rose,Sweet', 'Earthy,Flowery,Fruit,Tree', 'Earthy,Mango,Sweet', 'Berry,Citrus,Lemon', 'Lime,Pineapple,Sweet', 'Earthy,Lime,Tropical', 'Lavender,Rose,Sweet', 'Lime,Mint,Sweet', 'Flowery,Pepper,Sweet', 'Lemon,Sweet,Woody', 'Pungent,Sweet', 'Apple,Earthy,Strawberry', 'Citrus,Mango,Pungent', 'Berry,Menthol,Sweet', 'Berry,Blue,Blueberry,Cheese', 'Earthy,Pepper,Skunk', 'Citrus,Flowery,Fruit,Tree', 'Citrus,Fruit,Lemon,Tree', 'Ammonia,Chemical,Pine', 'Orange,Sweet,Tropical', 'Lemon,Pungent,Sweet', 'Minty,Pepper,Spicy/Herbal', 'Apricot,Earthy,Spicy/Herbal', 'Ammonia,Blueberry,Grape', 'Coffee,Earthy,Tea', 'Fruit,Orange,Sweet,Tree', 'Blueberry,Grape,Sweet', 'Coffee,Earthy,Pepper', 'Mango,Orange,Sweet', 'Pungent,Sweet,Woody', 'Diesel,Pine,Sage', 'Skunk,Sweet,Vanilla', 'Ammonia,Chestnut,Earthy', 'Orange,Pineapple,Tropical', 'Berry,Grape,Sage', 'Citrus,Orange,Pine', 'Butter,Cheese,Citrus', 'Orange,Pungent,Sweet', 'Earthy,Lemon,Sweet', 'Earthy,Flowery,Grape', 'Diesel,Pine,Woody', 'Cheese,Lemon,Sweet', 'Pine,Pungent,Sweet', 'Berry,Earthy,Lemon', 'Apple,Berry,Blueberry', 'Berry,Coffee,Earthy', 'Menthol,Pine,Pungent', 'Earthy,Sweet', 'Ammonia,Earthy,Pepper', 'Ammonia,Sweet,Tropical', 'Diesel,Lime,Pine', 'Diesel,Pepper,Pungent', 'Earthy,Lavender,Sweet', 'Cheese,Skunk,Woody', 'Chemical,Pungent,Spicy/Herbal', 'Apricot,Blueberry,Chemical', 'Lemon,Lime,Spicy/Herbal', 'Citrus,Lavender,Lemon', 'Diesel,Lemon,Sweet', 'Blueberry,Lemon,Sweet', 'Grape,Lavender,Violet', 'Pungent,Spicy/Herbal,Tropical', 'Citrus,Lime,Tropical', 'Citrus,Lime,Pungent', 'Citrus,Menthol,Sage', 'Butter,Earthy,Woody', 'Diesel,Minty,Woody', 'Citrus,Diesel,Woody', 'Diesel,Minty,Skunk', 'Citrus,Grapefruit,Skunk', 'Earthy,Lemon,Woody', 'Lemon,Pine,Woody', 'Lemon,Minty,Orange', 'Fruit,Orange,Spicy/Herbal,Tree', 'Earthy,Honey,Woody', 'Apple,Berry,Minty', 'Earthy,Mango,Tropical', 'Mango,Sweet,Tropical', 'Butter,Sweet,Woody', 'Grapefruit,Honey,Sweet', 'Diesel,Skunk,Spicy/Herbal', 'Honey,Lemon,Skunk', 'Berry,Citrus,Pungent', 'Citrus,Skunk,Tropical', 'Diesel,Mango,Sweet', 'Flowery,Menthol,Tropical', 'Flowery,Sweet', 'Berry,Grape,Strawberry', 'Flowery,Mango,Pineapple', 'Chestnut,Earthy', 'Butter,Earthy,Flowery', 'Earthy,Pear,Pine', 'Blueberry,Earthy,Tar', 'Grape,Pineapple,Sweet', 'Earthy,Lavender,Pungent', 'Menthol,Pepper,Sweet', 'Blueberry,Diesel,Earthy', 'Pine', 'Lemon,Mango,Sweet', 'Pine,Spicy/Herbal', 'Flowery,Minty,Pungent', 'Chestnut,Pungent,Woody', 'Flowery,Minty,Spicy/Herbal', 'Lavender,Pine', 'Earthy,Minty,Pine', 'Citrus,Diesel,Pungent', 'Berry,Blueberry,Orange', 'Honey,Lemon,Pungent', 'Berry,Pineapple,Sweet', 'Ammonia,Diesel,Spicy/Herbal', 'Earthy,Honey,Pungent', 'Earthy,Grapefruit,Sweet', 'Citrus,Honey,Pine', 'Earthy,Fruit,Pungent,Tree', 'Earthy,Pine,Sage', 'Chemical,Pepper,Pungent', 'Flowery,Sweet,Tea', 'Pineapple,Sweet', 'Lemon,Menthol,Pine', 'Cheese,Earthy,Woody', 'Citrus,Flowery,Tea', 'Tar', 'Cheese,Citrus,Earthy', 'Pungent', 'Chemical,Earthy,Woody', 'Pine,Skunk,Woody', 'Earthy,Strawberry,Sweet', 'Fruit,Pine,Pungent,Tree', 'Lime,Pine,Spicy/Herbal', 'Citrus,Pine', 'Earthy,Lavender,Strawberry', 'Citrus,Lime,Orange', 'Cheese,Pineapple,Sweet', 'Diesel,Pungent,Tobacco', 'Chemical,Citrus,Sweet', 'Chemical,Flowery,Sage', 'Berry,Orange,Tropical', 'Berry,Chemical,Earthy', 'Citrus,Flowery,Spicy/Herbal', 'Nutty,Pungent,Sweet', 'Peach,Sweet,Vanilla', 'Pungent,Violet,Woody', 'Coffee,Nutty,Sweet', 'Flowery,Fruit,Menthol,Tree', 'Berry,Grape,Mango', 'Berry,Sweet', 'Pineapple,Skunk,Tropical', 'Flowery,Pineapple,Sweet', 'Diesel,Pineapple,Pungent', 'Earthy,Pineapple,Sweet', 'Berry,Earthy,Pineapple', 'Lemon,Sage,Sweet', 'Pineapple,Skunk,Sweet', 'Pine,Pineapple,Woody', 'Butter,Flowery,Sweet', 'Berry,Rose,Sweet', 'Berry,Grapefruit,Mango', 'Coffee,Pine,Woody', 'Minty,Pine,Spicy/Herbal', 'Chemical,Earthy,Tea', 'Blueberry,Skunk,Sweet', 'Citrus,Orange,Spicy/Herbal', 'Pungent,Sweet,Tropical', 'Pine,Skunk,Sweet', 'Berry,Mango,Sweet', 'Earthy,Grape,Spicy/Herbal', 'Grape', 'Lavender,Pine,Sweet', 'Cheese,Earthy,Grape', 'Earthy,Grape,Tobacco', 'Earthy,Grape,Woody', 'Berry,Grape,Woody', 'Flowery,Grape,Tropical', 'Berry,Flowery,Spicy/Herbal', 'Earthy,Lavender,Lemon', 'Blueberry,Fruit,Nutty,Tree', 'Citrus,Fruit,Orange,Tree', 'Chemical,Citrus,Tropical', 'Cheese,Earthy,Skunk', 'Earthy,Nutty,Spicy/Herbal', 'Flowery,Grapefruit,Tropical', 'Berry,Grape,Pungent', 'Blueberry,Cheese,Vanilla', 'Butter,Skunk,Tropical', 'Flowery,Grape,Sage', 'Lemon,Spicy/Herbal,Sweet', 'Blueberry,Honey,Sweet', 'Flowery,Pungent,Skunk', 'Citrus,Earthy,Skunk', 'Chemical,Pine,Pungent', 'Diesel,Earthy,Violet', 'Earthy,Fruit,Pine,Tree', 'Pungent,Sweet,Vanilla', 'Citrus,Diesel,Strawberry', 'Earthy,Grapefruit,Pungent', 'Citrus,Pungent,Spicy/Herbal', 'Ammonia,Diesel,Skunk', 'Diesel,Menthol,Spicy/Herbal', 'Diesel,Pungent,Sage', 'Grapefruit,Lemon,Sweet', 'Coffee,Diesel,Earthy', 'Earthy,Mango,Pine', 'Citrus,Grapefruit,Pine', 'Flowery,Honey,Lavender', 'Pine,Strawberry,Sweet', 'Citrus,Diesel,Pine', 'Skunk,Spicy/Herbal,Sweet', 'Citrus,Earthy,Tropical', 'Berry,Sweet,Woody', 'Fruit,Lemon,Pine,Tree', 'Mango,Pine,Skunk', 'Lemon,Pine,Spicy/Herbal', 'Spicy/Herbal,Strawberry,Sweet', 'Citrus,Flowery,Lime', 'Grape,Nutty,Pine', 'Menthol,Pepper,Spicy/Herbal', 'Menthol,Minty,Woody', 'Grape,Pepper,Sweet', 'Lemon,Strawberry,Sweet', 'Diesel,Lemon,Skunk', 'Ammonia,Citrus,Sweet', 'Ammonia,Earthy,Lemon', 'Chemical,Earthy,Skunk', 'Diesel,Sweet,Woody', 'Chemical,Diesel,Woody', 'Flowery', 'Earthy,Minty,Pepper', 'Earthy,Flowery,Lemon', 'Flowery,Mango,Sweet', 'Citrus,Spicy/Herbal,Tropical', 'Sweet,Tropical', 'Citrus,Diesel,Skunk', 'Apple,Pungent,Sweet', 'Diesel,Fruit,Sweet,Tree', 'Apricot,Diesel,Pine', 'Cheese,Lime,Pungent', 'Diesel,Flowery,Pungent', 'Citrus,Earthy,Nutty', 'Ammonia,Citrus,Coffee', 'Diesel,Strawberry,Sweet', 'Mango,Skunk,Sweet', 'Lemon', 'Flowery,Pine,Pungent', 'Flowery,Pine,Woody', 'Grape,Menthol,Pine', 'Earthy,Orange,Pine', 'Flowery,Strawberry,Sweet', 'Strawberry', 'Cheese,Strawberry,Sweet', 'Diesel,Earthy,Strawberry', 'Berry,Lemon,Strawberry', 'Mango,Strawberry,Sweet', 'Diesel,Spicy/Herbal,Strawberry', 'Berry,Pungent,Strawberry', 'Plum,Sweet,Tropical', 'Citrus,Sweet,Violet', 'Earthy,Spicy/Herbal,Tea', 'Citrus,Sweet,Tea', 'Apricot,Spicy/Herbal,Sweet', 'Blueberry,Sweet,Tea', 'Citrus,Flowery,Mint', 'Coffee,Lemon', 'Earthy,Flowery,Minty', 'Blueberry,Citrus,Strawberry', 'Berry,Sage,Sweet', 'Berry,Pine,Sweet', 'Diesel,Pear,Sweet', 'Diesel,Skunk,Tobacco', 'Citrus,Minty,Spicy/Herbal', 'Ammonia,Berry,Pungent', 'Citrus,Lemon,Peach', 'Citrus,Sage,Woody', 'Pine,Rose,Sweet', 'Pepper,Sweet,Tropical', 'Berry,Pepper,Sweet', 'Pepper,Pine,Sweet', 'Earthy,Lemon', 'Berry,Diesel,Flowery', 'Apple,Spicy/Herbal,Sweet', 'Berry,Coffee,Sweet', 'Earthy,Woody', 'Fruit,Lemon,Sweet,Tree', 'Citrus,Skunk,Spicy/Herbal', 'Mint,Minty,Sweet', 'Menthol,Pungent,Sweet', 'Earthy,Rose,Sweet', 'Apple,Berry,Spicy/Herbal', 'Chestnut,Citrus,Spicy/Herbal', 'Earthy,Flowery', 'Berry,Citrus,Pine', 'Chemical,Citrus,Lime', 'Flowery,Pepper,Spicy/Herbal', 'Skunk', 'Grapefruit,Lime,Tropical', 'Apricot,Citrus,Skunk', 'Chestnut,Sweet,Vanilla', 'Flowery,Sweet,Woody', 'Berry,Cheese,Pungent', 'Ammonia,Lemon,Pineapple', 'Fruit,Pungent,Sweet,Tree', 'Diesel,Lime,Skunk', 'Fruit,Grape,Sweet,Tree', 'Flowery,Sweet,Vanilla', 'Berry,Diesel,Pungent', 'Lavender,Spicy/Herbal,Violet', 'Honey,Sweet,Tropical', 'Flowery,Spicy/Herbal,Woody', 'Nutty,Sweet,Woody', 'Lemon,Spicy/Herbal,Woody', 'Apple,Pear,Sweet', 'Cheese,Flowery,Pungent', 'Berry,Citrus,Tropical', 'Pungent,Sweet,Tar', 'Honey,Nutty,Vanilla', 'Menthol,Minty,Violet', 'Citrus,Sweet', 'Citrus,Fruit,Spicy/Herbal,Tree', 'Citrus,Earthy,Sage', 'Earthy,Pungent,Sage', 'Berry,Citrus,Spicy/Herbal', 'Apricot,Fruit,Sweet,Tree', 'Citrus,Flowery,Menthol', 'Grape,Strawberry,Sweet', 'Earthy,Nutty,Sage', 'Blueberry,Earthy,Skunk', 'Citrus,Earthy,Lavender', 'Blue,Cheese,Pungent,Skunk', 'Berry,Grapefruit,Sweet', 'Flowery,Pine,Sage']\n"
          ],
          "name": "stdout"
        }
      ]
    },
    {
      "cell_type": "code",
      "metadata": {
        "id": "QZr57jGU2ttr",
        "colab_type": "code",
        "outputId": "6a8bbba2-5585-432b-ab76-872ce1028834",
        "colab": {
          "base_uri": "https://localhost:8080/",
          "height": 56
        }
      },
      "source": [
        "# Get list of individual flavor choices\n",
        "flavor_list = list(df_cannabis5['Flavor'].str.split(',', expand=True).stack().unique())\n",
        "print(flavor_list)"
      ],
      "execution_count": 143,
      "outputs": [
        {
          "output_type": "stream",
          "text": [
            "['Citrus', 'Earthy', 'Sweet', 'Sage', 'Spicy/Herbal', 'Woody', 'Apricot', 'Grapefruit', 'Orange', 'Pungent', 'Flowery', 'Diesel', 'Pine', 'Grape', 'Skunk', 'Berry', 'Violet', 'Pepper', 'Blue', 'Cheese', 'Chemical', 'Menthol', 'Lemon', 'Mango', 'Peach', 'Vanilla', 'Chestnut', 'Nutty', 'Tea', 'Tobacco', 'Tropical', 'Strawberry', 'Blueberry', 'Mint', 'Apple', 'Honey', 'Lavender', 'Lime', 'Coffee', 'Ammonia', 'Minty', 'Fruit', 'Tree', 'Butter', 'Pineapple', 'Tar', 'Rose', 'Plum', 'Pear']\n"
          ],
          "name": "stdout"
        }
      ]
    },
    {
      "cell_type": "code",
      "metadata": {
        "id": "nYjebkEjVJFi",
        "colab_type": "code",
        "outputId": "d4c90619-4fb4-4f97-e7cc-6e23746a3d06",
        "colab": {
          "base_uri": "https://localhost:8080/",
          "height": 241
        }
      },
      "source": [
        "# Determine all Effects sets\n",
        "df_cannabis5['Effects'].value_counts()"
      ],
      "execution_count": 144,
      "outputs": [
        {
          "output_type": "execute_result",
          "data": {
            "text/plain": [
              "Euphoric,Happy,Relaxed,Sleepy,Uplifted         156\n",
              "Creative,Euphoric,Happy,Relaxed,Uplifted       128\n",
              "Euphoric,Happy,Hungry,Relaxed,Sleepy           118\n",
              "Energetic,Euphoric,Happy,Relaxed,Uplifted      101\n",
              "Euphoric,Focused,Happy,Relaxed,Uplifted         81\n",
              "                                              ... \n",
              "Creative,Relaxed,Talkative,Tingly,Uplifted       1\n",
              "Aroused,Energetic,Euphoric,Hungry,Tingly         1\n",
              "Creative,Euphoric,Giggly,Relaxed,Sleepy          1\n",
              "Creative,Energetic,Euphoric,Hungry,Uplifted      1\n",
              "Energetic,Focused,Hungry,Talkative,Uplifted      1\n",
              "Name: Effects, Length: 458, dtype: int64"
            ]
          },
          "metadata": {
            "tags": []
          },
          "execution_count": 144
        }
      ]
    },
    {
      "cell_type": "code",
      "metadata": {
        "id": "nziVPKAeMjUl",
        "colab_type": "code",
        "outputId": "76050a01-c945-4b2f-c556-ddfa882fa0af",
        "colab": {
          "base_uri": "https://localhost:8080/",
          "height": 403
        }
      },
      "source": [
        "effects_set_distribution = df_cannabis5['Effects'].value_counts()\n",
        "\n",
        "x = list(effects_set_distribution.index)\n",
        "y = list(effects_set_distribution)\n",
        "\n",
        "fig, ax = plt.subplots()\n",
        "ax.set_title('Effects Set Frequencies')\n",
        "plt.bar(x,y,align='center')\n",
        "plt.setp(ax.get_xticklabels(), ha=\"right\", rotation=45)\n",
        "plt.rc('xtick', labelsize=1)    # fontsize of the tick labels\n",
        "plt.xlabel('Effects Set')\n",
        "plt.ylabel('Frequency')\n",
        "\n",
        "plt.show()"
      ],
      "execution_count": 145,
      "outputs": [
        {
          "output_type": "display_data",
          "data": {
            "image/png": "[encoded data removed]",
            "text/plain": [
              "<Figure size 432x288 with 1 Axes>"
            ]
          },
          "metadata": {
            "tags": []
          }
        }
      ]
    },
    {
      "cell_type": "code",
      "metadata": {
        "id": "Qn0fyvfmJLUU",
        "colab_type": "code",
        "outputId": "5c8e5889-61e5-435c-83c5-6863fd528fd4",
        "colab": {
          "base_uri": "https://localhost:8080/",
          "height": 316
        }
      },
      "source": [
        "# Determine all individual Effects choices\n",
        "df_cannabis5['Effects'].str.split(',', expand=True).stack().value_counts()"
      ],
      "execution_count": 146,
      "outputs": [
        {
          "output_type": "execute_result",
          "data": {
            "text/plain": [
              "Happy        1831\n",
              "Relaxed      1692\n",
              "Euphoric     1594\n",
              "Uplifted     1470\n",
              "Creative      723\n",
              "Sleepy        718\n",
              "Energetic     621\n",
              "Focused       579\n",
              "Hungry        457\n",
              "Talkative     348\n",
              "Tingly        331\n",
              "Giggly        286\n",
              "Aroused       193\n",
              "Mouth           1\n",
              "Dry             1\n",
              "dtype: int64"
            ]
          },
          "metadata": {
            "tags": []
          },
          "execution_count": 146
        }
      ]
    },
    {
      "cell_type": "code",
      "metadata": {
        "id": "Kb6M3MBgL9KV",
        "colab_type": "code",
        "outputId": "dce47313-4cb1-41c6-f8a0-1e4c453489c9",
        "colab": {
          "base_uri": "https://localhost:8080/",
          "height": 290
        }
      },
      "source": [
        "effects_distribution = df_cannabis5['Effects'].str.split(',', expand=True).stack().value_counts()\n",
        "\n",
        "x = list(effects_distribution.index)\n",
        "y = list(effects_distribution)\n",
        "\n",
        "fig, ax = plt.subplots()\n",
        "ax.set_title('Effects Frequencies')\n",
        "plt.bar(x,y,align='center')\n",
        "plt.setp(ax.get_xticklabels(), ha=\"right\", rotation=45)\n",
        "plt.rc('xtick', labelsize=12)    # fontsize of the tick labels\n",
        "plt.xlabel('Effects')\n",
        "plt.ylabel('Frequency')\n",
        "\n",
        "plt.show()"
      ],
      "execution_count": 147,
      "outputs": [
        {
          "output_type": "display_data",
          "data": {
            "image/png": "[encoded data removed]",
            "text/plain": [
              "<Figure size 432x288 with 1 Axes>"
            ]
          },
          "metadata": {
            "tags": []
          }
        }
      ]
    }
  ]
}